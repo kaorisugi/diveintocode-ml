{
 "cells": [
  {
   "cell_type": "markdown",
   "metadata": {},
   "source": [
    "# Week3授業前課題２　住宅情報の分析"
   ]
  },
  {
   "cell_type": "code",
   "execution_count": null,
   "metadata": {
    "ExecuteTime": {
     "end_time": "2019-07-23T12:00:43.425776Z",
     "start_time": "2019-07-23T12:00:43.417453Z"
    },
    "init_cell": true
   },
   "outputs": [],
   "source": [
    "import pandas as pd\n",
    "import missingno as msno"
   ]
  },
  {
   "cell_type": "markdown",
   "metadata": {
    "ExecuteTime": {
     "end_time": "2019-07-23T10:02:37.091477Z",
     "start_time": "2019-07-23T10:02:37.087051Z"
    }
   },
   "source": [
    "### 【問題1】データセットの取得"
   ]
  },
  {
   "cell_type": "code",
   "execution_count": null,
   "metadata": {
    "ExecuteTime": {
     "end_time": "2019-07-23T11:46:24.920816Z",
     "start_time": "2019-07-23T11:46:24.869408Z"
    }
   },
   "outputs": [],
   "source": [
    "Ames = pd.read_csv(\"train.csv\")\n",
    "print(Ames)"
   ]
  },
  {
   "cell_type": "markdown",
   "metadata": {},
   "source": [
    "### 【問題2】データセット自体の調査"
   ]
  },
  {
   "cell_type": "markdown",
   "metadata": {},
   "source": [
    "各住宅の最終価格を予測することを目的としたコンペ用のデータセット。アイオワ州エイムスの住宅に関する７９の説明変数を持つ。テストセットの各Idについて、販売価格変数の値を予測するためのデータセットです。\n"
   ]
  },
  {
   "cell_type": "markdown",
   "metadata": {},
   "source": [
    "### 【問題3】データの確認"
   ]
  },
  {
   "cell_type": "markdown",
   "metadata": {
    "ExecuteTime": {
     "end_time": "2019-07-23T10:38:04.476256Z",
     "start_time": "2019-07-23T10:38:04.472852Z"
    }
   },
   "source": [
    "・各特徴量がどういったものかを見る。（数値データか文字データなど）"
   ]
  },
  {
   "cell_type": "code",
   "execution_count": null,
   "metadata": {
    "ExecuteTime": {
     "end_time": "2019-07-23T11:46:24.988281Z",
     "start_time": "2019-07-23T11:46:24.922768Z"
    },
    "scrolled": true
   },
   "outputs": [],
   "source": [
    "X.info(4)"
   ]
  },
  {
   "cell_type": "markdown",
   "metadata": {},
   "source": [
    "・今回の目的変数はどの列か確認する。"
   ]
  },
  {
   "cell_type": "markdown",
   "metadata": {},
   "source": [
    "データフィールドより：下記のような説明があるので、このデータセットの目的変数はSalePrice\n",
    "SalePrice - the property's sale price in dollars. This is the target variable that you're trying to predict."
   ]
  },
  {
   "cell_type": "code",
   "execution_count": null,
   "metadata": {
    "ExecuteTime": {
     "end_time": "2019-07-23T11:46:24.989055Z",
     "start_time": "2019-07-23T11:46:24.913Z"
    },
    "scrolled": true
   },
   "outputs": [],
   "source": [
    "# 説明変数（特徴量：data）をXに格納\n",
    "X = pd.DataFrame(Ames.drop(\"SalePrice\", axis=1))\n",
    "# print(X.dtypes) # データのタイプを確認\n",
    "X"
   ]
  },
  {
   "cell_type": "code",
   "execution_count": null,
   "metadata": {
    "ExecuteTime": {
     "end_time": "2019-07-23T11:46:24.989651Z",
     "start_time": "2019-07-23T11:46:24.931Z"
    },
    "scrolled": true
   },
   "outputs": [],
   "source": [
    "# 目的変数をyに格納\n",
    "y = pd.DataFrame(Ames[\"SalePrice\"])\n",
    "y"
   ]
  },
  {
   "cell_type": "code",
   "execution_count": null,
   "metadata": {
    "ExecuteTime": {
     "end_time": "2019-07-23T12:02:29.768669Z",
     "start_time": "2019-07-23T12:02:29.765614Z"
    }
   },
   "outputs": [],
   "source": []
  },
  {
   "cell_type": "markdown",
   "metadata": {},
   "source": [
    "・特徴量の平均値と標準偏差、四分位数を一度に表示させる。"
   ]
  },
  {
   "cell_type": "code",
   "execution_count": null,
   "metadata": {
    "ExecuteTime": {
     "end_time": "2019-07-23T11:46:24.990167Z",
     "start_time": "2019-07-23T11:46:24.976Z"
    }
   },
   "outputs": [],
   "source": [
    "X.describe() "
   ]
  },
  {
   "cell_type": "code",
   "execution_count": null,
   "metadata": {},
   "outputs": [],
   "source": []
  },
  {
   "cell_type": "markdown",
   "metadata": {},
   "source": [
    "### 【問題4】欠損値への対応"
   ]
  },
  {
   "cell_type": "markdown",
   "metadata": {},
   "source": [
    "・各特徴量の欠損値の有無を確認する。"
   ]
  },
  {
   "cell_type": "code",
   "execution_count": null,
   "metadata": {
    "ExecuteTime": {
     "end_time": "2019-07-23T11:46:25.011733Z",
     "start_time": "2019-07-23T11:46:25.010Z"
    }
   },
   "outputs": [],
   "source": [
    "install missingno"
   ]
  },
  {
   "cell_type": "markdown",
   "metadata": {},
   "source": [
    "### 【問題5】用語の調査"
   ]
  },
  {
   "cell_type": "code",
   "execution_count": null,
   "metadata": {},
   "outputs": [],
   "source": []
  },
  {
   "cell_type": "code",
   "execution_count": null,
   "metadata": {},
   "outputs": [],
   "source": []
  },
  {
   "cell_type": "markdown",
   "metadata": {},
   "source": [
    "### 【問題6】分布の確認"
   ]
  },
  {
   "cell_type": "code",
   "execution_count": null,
   "metadata": {},
   "outputs": [],
   "source": []
  },
  {
   "cell_type": "code",
   "execution_count": null,
   "metadata": {},
   "outputs": [],
   "source": []
  },
  {
   "cell_type": "markdown",
   "metadata": {},
   "source": [
    "### 【問題7】相関係数の確認"
   ]
  },
  {
   "cell_type": "code",
   "execution_count": null,
   "metadata": {
    "ExecuteTime": {
     "end_time": "2019-07-23T12:06:11.757186Z",
     "start_time": "2019-07-23T12:06:11.752538Z"
    }
   },
   "outputs": [],
   "source": [
    "pip install missingno\n",
    "import missingno as msno"
   ]
  },
  {
   "cell_type": "code",
   "execution_count": null,
   "metadata": {},
   "outputs": [],
   "source": []
  },
  {
   "cell_type": "code",
   "execution_count": null,
   "metadata": {},
   "outputs": [],
   "source": []
  },
  {
   "cell_type": "code",
   "execution_count": null,
   "metadata": {},
   "outputs": [],
   "source": []
  },
  {
   "cell_type": "code",
   "execution_count": null,
   "metadata": {},
   "outputs": [],
   "source": []
  }
 ],
 "metadata": {
  "celltoolbar": "Initialization Cell",
  "kernelspec": {
   "display_name": "Python 3",
   "language": "python",
   "name": "python3"
  },
  "language_info": {
   "codemirror_mode": {
    "name": "ipython",
    "version": 3
   },
   "file_extension": ".py",
   "mimetype": "text/x-python",
   "name": "python",
   "nbconvert_exporter": "python",
   "pygments_lexer": "ipython3",
   "version": "3.6.5"
  },
  "nbTranslate": {
   "displayLangs": [
    "*"
   ],
   "hotkey": "alt-t",
   "langInMainMenu": true,
   "sourceLang": "en",
   "targetLang": "fr",
   "useGoogleTranslate": true
  },
  "toc": {
   "base_numbering": 1,
   "nav_menu": {},
   "number_sections": true,
   "sideBar": true,
   "skip_h1_title": false,
   "title_cell": "Table of Contents",
   "title_sidebar": "Contents",
   "toc_cell": false,
   "toc_position": {},
   "toc_section_display": true,
   "toc_window_display": false
  }
 },
 "nbformat": 4,
 "nbformat_minor": 2
}
