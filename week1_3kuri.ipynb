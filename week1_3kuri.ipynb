{
 "cells": [
  {
   "cell_type": "markdown",
   "metadata": {},
   "source": [
    "# Week1 授業課題3 栗まんじゅう問題"
   ]
  },
  {
   "cell_type": "markdown",
   "metadata": {},
   "source": [
    "### 【問題】栗まんじゅうが太陽系を覆う日"
   ]
  },
  {
   "cell_type": "code",
   "execution_count": 5,
   "metadata": {},
   "outputs": [
    {
     "name": "stdout",
     "output_type": "stream",
     "text": [
      "栗まんじゅうの体積は1.1309733552923252e-13立方km\n",
      "太陽系の体積は3.812590971970916e+29立方km\n",
      "太陽系が栗まんじゅうに覆われるのは710分後\n"
     ]
    },
    {
     "data": {
      "image/png": "[encoded data removed]",
      "text/plain": [
       "<Figure size 432x288 with 1 Axes>"
      ]
     },
     "metadata": {
      "needs_background": "light"
     },
     "output_type": "display_data"
    }
   ],
   "source": [
    "# 栗まんじゅうの半径（球体）3cm\n",
    "# 太陽系の体積　= solar_volume 　\n",
    "# 太陽系の半径 = 4,498,252,900km\n",
    "# 1光年　＝　9460730472580.800km\n",
    "# 球体の体積を求める公式 V = 4/3*pai*(r**3)\n",
    "# まんじゅうが倍になる間隔 ５分\n",
    "\n",
    "import math\n",
    "pai = math.pi\n",
    "from fractions import Fraction # 分数のモジュール\n",
    "import matplotlib.pyplot as plt\n",
    "\n",
    "# 栗まんじゅうと太陽系の体積を求める(単位をkmに揃える)\n",
    "\n",
    "manju_radius = 3/100/1000\n",
    "the_solar_system_radius = 4498252900\n",
    "\n",
    "manju_volume = Fraction(4, 3)*pai*(manju_radius**3)\n",
    "the_solar_system_volume = Fraction(4, 3)*pai*(the_solar_system_radius**3)\n",
    "\n",
    "print(\"栗まんじゅうの体積は{}立方km\".format(manju_volume))\n",
    "print(\"太陽系の体積は{}立方km\".format(the_solar_system_volume))\n",
    "\n",
    "# 太陽系が栗まんじゅうに覆われる時間を求める\n",
    "\n",
    "def time_fill_up_object(increase_object):\n",
    "    term = 5\n",
    "    increase_count = 0\n",
    "    increase_time_list = [increase_count]\n",
    "    increase_object_list = [increase_object] # 増加した物の体積のリストを用意\n",
    "    any_volume = the_solar_system_volume\n",
    "    increase_object = manju_volume\n",
    "    \n",
    "    while True:\n",
    "        increase_object_list.append(increase_object_list[-1]*2)\n",
    "        increase_time_list.append(increase_time_list[-1]+term)\n",
    "        #increase_count += term\n",
    "        if increase_object_list[-1] > any_volume:\n",
    "            break\n",
    "    return increase_object_list,increase_time_list\n",
    "\n",
    "increase_object_list,increase_time_list = time_fill_up_object(manju_volume)\n",
    "\n",
    "print(\"太陽系が栗まんじゅうに覆われるのは{}分後\".format(increase_time_list[-1]))\n",
    "\n",
    "# グラフに表示\n",
    "%matplotlib inline\n",
    "\n",
    "xmin, xmax = 0, 750\n",
    "\n",
    "plt.title(\"Steamed buns increase\")\n",
    "plt.xlabel(\"time[minute]\")\n",
    "plt.ylabel(\"manju_volume[km^3]\")\n",
    "plt.plot(increase_time_list,increase_object_list)\n",
    "plt.hlines([the_solar_system_volume],xmin, xmax,linestyle=\"dashed\",color = \"red\") # 太陽系の体積の補助線を加える\n",
    "plt.show()\n"
   ]
  },
  {
   "cell_type": "code",
   "execution_count": null,
   "metadata": {},
   "outputs": [],
   "source": []
  },
  {
   "cell_type": "code",
   "execution_count": null,
   "metadata": {},
   "outputs": [],
   "source": []
  }
 ],
 "metadata": {
  "kernelspec": {
   "display_name": "Python 3",
   "language": "python",
   "name": "python3"
  },
  "language_info": {
   "codemirror_mode": {
    "name": "ipython",
    "version": 3
   },
   "file_extension": ".py",
   "mimetype": "text/x-python",
   "name": "python",
   "nbconvert_exporter": "python",
   "pygments_lexer": "ipython3",
   "version": "3.7.3"
  }
 },
 "nbformat": 4,
 "nbformat_minor": 2
}
