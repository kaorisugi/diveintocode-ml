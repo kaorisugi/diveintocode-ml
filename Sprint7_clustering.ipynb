{
 "cells": [
  {
   "cell_type": "markdown",
   "metadata": {},
   "source": [
    "# Sprint 機械学習スクラッチ　クラスタリング"
   ]
  },
  {
   "cell_type": "code",
   "execution_count": 1,
   "metadata": {},
   "outputs": [],
   "source": [
    "import numpy as np\n",
    "import random\n",
    "import pandas as pd\n",
    "from numpy import linalg as LA\n",
    "import matplotlib.pyplot as plt\n",
    "#import japanize_matplotlib"
   ]
  },
  {
   "cell_type": "code",
   "execution_count": 2,
   "metadata": {},
   "outputs": [],
   "source": [
    "# シンプルデータセット\n",
    "from sklearn.datasets import make_blobs\n",
    "X, _ = make_blobs(n_samples=100, n_features=2, centers=4, cluster_std=0.5, shuffle=True, random_state=0)\n"
   ]
  },
  {
   "cell_type": "code",
   "execution_count": 3,
   "metadata": {},
   "outputs": [
    {
     "name": "stdout",
     "output_type": "stream",
     "text": [
      "(100, 2)\n",
      "[[ 0.72086751  3.71347124]\n",
      " [-1.89468423  7.96898545]\n",
      " [ 1.35678894  4.36462484]\n",
      " [ 1.05374379  4.49286859]]\n"
     ]
    }
   ],
   "source": [
    "print(X.shape)\n",
    "print(X[:4])"
   ]
  },
  {
   "cell_type": "markdown",
   "metadata": {},
   "source": [
    "### 【問題1】中心点の初期値を決める"
   ]
  },
  {
   "cell_type": "code",
   "execution_count": 4,
   "metadata": {},
   "outputs": [
    {
     "name": "stdout",
     "output_type": "stream",
     "text": [
      "[[ 1.19820169  4.47062449]\n",
      " [-0.69842598  8.16309188]\n",
      " [-0.59312453  3.37090459]]\n"
     ]
    }
   ],
   "source": [
    "# XからランダムにK個の点を決める（K＝３）\n",
    "\n",
    "index = np.array(len(X))\n",
    "random_index = np.random.choice(index, 3, replace=False)\n",
    "μ = X[random_index]\n",
    "print(μ)"
   ]
  },
  {
   "cell_type": "markdown",
   "metadata": {},
   "source": [
    "### 【問題2】SSEを求める関数の作成"
   ]
  },
  {
   "cell_type": "raw",
   "metadata": {},
   "source": [
    "# 初期のクラスのデータを作る\n",
    "\n",
    "# μまでの距離のデータ\n",
    "norm = []\n",
    "for n in range(len(X)):\n",
    "    for k in range(len(μ)):\n",
    "        norm.append(np.linalg.norm(X[n] - μ[k])**2)\n",
    "norm = np.array(norm).reshape(len(X), len(μ))\n",
    "print(norm[:4])\n",
    "print(norm.shape)\n"
   ]
  },
  {
   "cell_type": "code",
   "execution_count": 5,
   "metadata": {
    "scrolled": true
   },
   "outputs": [
    {
     "name": "stdout",
     "output_type": "stream",
     "text": [
      "[ 0.80112898  1.46871111  0.03638584  0.02136289  0.34327935  0.27383594\n",
      "  2.1135806   0.08621729  1.8095224   0.73947027  1.34353719  2.312407\n",
      "  1.15545535  0.25395804  0.44133943 21.27076313  6.50543746  0.06682649\n",
      "  1.80636583 19.59489379  1.63274161  1.56110438  1.77270337 18.80788019\n",
      "  0.44915938  1.58215086  0.0832708   0.16458813  9.45452585 15.50924057\n",
      " 12.38459425  1.33014548 14.64272321  7.92612573  0.39286807  0.3569763\n",
      "  1.04409491  9.20154429  0.3988289   2.45642033  0.33640859  0.74161488\n",
      "  2.8314353   1.94375714  1.9197381   1.36045645 12.52966226  1.57993954\n",
      "  0.3761969   1.27006219  0.76890576 12.19193238  0.72709     1.54803678\n",
      "  1.12326707  0.80115346  0.03395074 13.80169106 11.4380428   0.03056762\n",
      "  1.55872039  8.25181017 12.21751623  0.61887929  8.00707271  0.\n",
      "  3.00121698  1.54047287 10.43892384  0.          1.13855823  8.35943228\n",
      "  0.07630403  0.70634791  0.10744515  0.33357798  0.          1.14283925\n",
      " 16.04787084  8.38685333 16.15719844  1.04271034  0.65986362  1.1332374\n",
      " 12.4816003   0.49320054 10.80601808 14.06655412  0.34832347  0.0358409\n",
      "  0.05794674  1.56132259  1.14194462  0.41931034  2.8748534   1.30538331\n",
      "  1.357549    1.0997635   0.03630656  1.67261426]\n",
      "381.63545704897217\n"
     ]
    }
   ],
   "source": [
    "#SSE\n",
    "\n",
    "# μまでの距離のデータの最小値\n",
    "\n",
    "norm = []\n",
    "for n in range(len(X)):\n",
    "    for k in range(len(μ)):\n",
    "        norm.append(np.linalg.norm(X[n] - μ[k])**2)\n",
    "norm = np.array(norm).reshape(len(X), len(μ))\n",
    "#print(norm)\n",
    "norm_min = np.amin(norm, axis=1) # 各行の最小値\n",
    "print(norm_min)\n",
    "SSE = sum(norm_min)\n",
    "print(SSE)\n"
   ]
  },
  {
   "cell_type": "markdown",
   "metadata": {},
   "source": [
    "### 【問題3】クラスタへの割り当て"
   ]
  },
  {
   "cell_type": "code",
   "execution_count": 6,
   "metadata": {},
   "outputs": [
    {
     "name": "stdout",
     "output_type": "stream",
     "text": [
      "[0.72086751 3.71347124]\n"
     ]
    }
   ],
   "source": [
    "print(X[0])"
   ]
  },
  {
   "cell_type": "code",
   "execution_count": 7,
   "metadata": {
    "scrolled": true
   },
   "outputs": [
    {
     "name": "stdout",
     "output_type": "stream",
     "text": [
      "[[0.89505809 4.66952597 0.19075073]\n",
      " [0.14616048 0.58590046 0.52329336]\n",
      " [3.21182448 3.93781874 1.34518489]\n",
      " [4.17772519 3.32513238 3.92467107]]\n",
      "int64\n",
      "[2 0 2 1 2 2 2 1 0 0 1 2 1 1 1 2 0 1 0 1]\n"
     ]
    },
    {
     "data": {
      "text/html": [
       "<div>\n",
       "<style scoped>\n",
       "    .dataframe tbody tr th:only-of-type {\n",
       "        vertical-align: middle;\n",
       "    }\n",
       "\n",
       "    .dataframe tbody tr th {\n",
       "        vertical-align: top;\n",
       "    }\n",
       "\n",
       "    .dataframe thead th {\n",
       "        text-align: right;\n",
       "    }\n",
       "</style>\n",
       "<table border=\"1\" class=\"dataframe\">\n",
       "  <thead>\n",
       "    <tr style=\"text-align: right;\">\n",
       "      <th></th>\n",
       "      <th>0</th>\n",
       "      <th>1</th>\n",
       "      <th>clus</th>\n",
       "    </tr>\n",
       "  </thead>\n",
       "  <tbody>\n",
       "    <tr>\n",
       "      <th>0</th>\n",
       "      <td>0.720868</td>\n",
       "      <td>3.713471</td>\n",
       "      <td>2</td>\n",
       "    </tr>\n",
       "    <tr>\n",
       "      <th>1</th>\n",
       "      <td>-1.894684</td>\n",
       "      <td>7.968985</td>\n",
       "      <td>0</td>\n",
       "    </tr>\n",
       "    <tr>\n",
       "      <th>2</th>\n",
       "      <td>1.356789</td>\n",
       "      <td>4.364625</td>\n",
       "      <td>2</td>\n",
       "    </tr>\n",
       "    <tr>\n",
       "      <th>3</th>\n",
       "      <td>1.053744</td>\n",
       "      <td>4.492869</td>\n",
       "      <td>1</td>\n",
       "    </tr>\n",
       "    <tr>\n",
       "      <th>4</th>\n",
       "      <td>1.591415</td>\n",
       "      <td>4.904977</td>\n",
       "      <td>2</td>\n",
       "    </tr>\n",
       "  </tbody>\n",
       "</table>\n",
       "</div>"
      ],
      "text/plain": [
       "          0         1  clus\n",
       "0  0.720868  3.713471     2\n",
       "1 -1.894684  7.968985     0\n",
       "2  1.356789  4.364625     2\n",
       "3  1.053744  4.492869     1\n",
       "4  1.591415  4.904977     2"
      ]
     },
     "execution_count": 7,
     "metadata": {},
     "output_type": "execute_result"
    }
   ],
   "source": [
    "# 全てのデータXを最も近いμに割り当てる\n",
    "#for n in range(len(X)):\n",
    "\n",
    "# μとXの距離を求める\n",
    "distance = []\n",
    "for k in range(len(μ)):\n",
    "    for n in range(len(X)):\n",
    "        distance.append(np.linalg.norm(X[n] - μ[k]))\n",
    "distance = np.array(distance)\n",
    "distance = distance.reshape(len(X), len(μ))\n",
    "print(distance[:4])\n",
    "\n",
    "# distanceの最小値のインデックスデータmin_disを作る（クラス分け）\n",
    "min_index = np.argmin(distance, axis=1)# 最小距離のインデックス\n",
    "#min_index = min_index.reshape(len(X), 1)\n",
    "min_index = min_index.astype(int) # 整数配列にする\n",
    "print(min_index.dtype)\n",
    "print(min_index[:20])\n",
    "\n",
    "# X配列と結合、クラスへの割り当て付きデータにする\n",
    "X_clus = pd.DataFrame(X)\n",
    "min_index1 = pd.DataFrame(min_index)\n",
    "min_index = min_index1.rename(columns={0:\"clus\"})\n",
    "min_index.head()\n",
    "X_clus = pd.concat([X_clus, min_index], axis=1)\n",
    "X_clus.head()"
   ]
  },
  {
   "cell_type": "markdown",
   "metadata": {},
   "source": [
    "###  【問題4】中心点の移動"
   ]
  },
  {
   "cell_type": "code",
   "execution_count": 8,
   "metadata": {
    "scrolled": true
   },
   "outputs": [
    {
     "name": "stdout",
     "output_type": "stream",
     "text": [
      "[[-0.1619649   4.19613982]\n",
      " [-0.02069346  4.66623828]\n",
      " [ 0.35191536  3.2163293 ]]\n"
     ]
    }
   ],
   "source": [
    "# k番目のクラスの中心点の算出\n",
    "\n",
    "#k = 0\n",
    "μ_new = [] # 移動先の中心点を入れるリストを用意\n",
    "for k in range(len(μ)): # Kの数分ループ\n",
    "    X_clus_copy = X_clus.copy()\n",
    "    # clus列にkの値を持つ行\n",
    "    X_clus_copy = X_clus_copy[X_clus_copy[\"clus\"].isin([k])] # クラス別データに分ける\n",
    "    X_clus_copy = X_clus_copy.mean() # 列ごとの平均値（重心）＝次の中心点\n",
    "    μ_new.append(X_clus_copy) # μ_newにμごと次の中心点を入れる\n",
    "μ_new = np.array(μ_new) # リスト型をnumpyに変換\n",
    "μ_new = μ_new[:, :-1] # 右端のクラス名の列を削除\n",
    "print(μ_new)\n"
   ]
  },
  {
   "cell_type": "markdown",
   "metadata": {},
   "source": [
    "### 【問題5】繰り返し"
   ]
  },
  {
   "cell_type": "markdown",
   "metadata": {},
   "source": [
    "クラスタへの割り当てと中心点の移動を繰り返すことで学習を行うコードを作成してください。次のどれかの条件を満たしたらこれを止めます。<br>\n",
    "繰り返しが指定した回数に到達する。（雛形では引数max_iter）<br>\n",
    "中心点 \n",
    "μ\n",
    "k\n",
    " と重心の差が指定した許容値以下になる。（雛形では引数tol）"
   ]
  },
  {
   "cell_type": "code",
   "execution_count": 9,
   "metadata": {},
   "outputs": [],
   "source": [
    "# クラスに入れて回したい"
   ]
  },
  {
   "cell_type": "code",
   "execution_count": 10,
   "metadata": {},
   "outputs": [],
   "source": [
    "class ScratchKMeans():\n",
    "    \"\"\"\n",
    "    K-meansのスクラッチ実装\n",
    "\n",
    "    Parameters\n",
    "    ----------\n",
    "    n_clusters : int\n",
    "      クラスタ数\n",
    "    n_init : int\n",
    "      中心点の初期値を何回変えて計算するか\n",
    "    max_iter : int\n",
    "      1回の計算で最大何イテレーションするか\n",
    "    tol : float\n",
    "      イテレーションを終了する基準となる中心点と重心の許容誤差\n",
    "    verbose : bool\n",
    "      学習過程を出力する場合はTrue\n",
    "    \"\"\"\n",
    "\n",
    "    def __init__(self, n_clusters=3, n_init=5, max_iter=10, tol=0.001, verbose=True):\n",
    "        # ハイパーパラメータを属性として記録\n",
    "        self.n_clusters = n_clusters\n",
    "        self.n_init = n_init\n",
    "        self.max_iter = max_iter\n",
    "        self.tol = tol\n",
    "        self.verbose = verbose\n",
    "\n",
    "    # XからランダムにK個の点を決める（K＝３）\n",
    "    def _generation_μ_(self, X):\n",
    "        index = np.array(len(X))\n",
    "        random_index = np.random.choice(index, self.n_clusters, replace=False)\n",
    "        self.μ = X[random_index]\n",
    "        return self.μ\n",
    "\n",
    "    # データXを最も近いμに割り当て、新しい中心点を求める（中心点の移動）\n",
    "    def _move_μ_(self, X, μ):\n",
    "        # μとXの距離を求める\n",
    "        self.distance = []\n",
    "        for k in range(len(μ)):\n",
    "            for n in range(len(X)):\n",
    "                self.distance.append(np.linalg.norm(X[n] - μ[k])) # Xとμの距離を計算\n",
    "        self.distance = np.array(self.distance)\n",
    "        self.distance = self.distance.reshape(len(X), len(μ))\n",
    "\n",
    "        # distanceの最小値のインデックスデータmin_indexを作る（クラス分け）\n",
    "        min_index = np.argmin(self.distance, axis=1)# 最小距離のインデックス\n",
    "        min_index = min_index.astype(int) # 整数配列にする\n",
    "\n",
    "        # X配列と結合、クラスへの割り当て付きデータにする\n",
    "        X_clus = pd.DataFrame(X)\n",
    "        min_index = pd.DataFrame(min_index)\n",
    "        min_index = min_index.rename(columns={0:\"clus\"})\n",
    "        X_clus = pd.concat([X_clus, min_index], axis=1)\n",
    "\n",
    "        # k番目のクラスの中心点の算出\n",
    "        μ_new = [] # 移動先の中心点を入れるリストを用意\n",
    "        for k in range(len(μ)): # Kの数分ループ\n",
    "            X_clus_copy = X_clus.copy()\n",
    "            # clus列にkの値を持つ行\n",
    "            X_clus_copy = X_clus_copy[X_clus_copy[\"clus\"].isin([k])] # クラス別データに分ける\n",
    "            X_clus_copy = X_clus_copy.mean() # 列ごとの平均値（重心）＝次の中心点\n",
    "            μ_new.append(X_clus_copy) # μ_newにμごと次の中心点を入れる\n",
    "\n",
    "        μ_new = np.array(μ_new) # リスト型をnumpyに変換\n",
    "        μ_new = μ_new[:, :-1] # 右端のクラス名の列を削除\n",
    "                \n",
    "        return μ_new\n",
    "    \n",
    "    # 初期値を決定し、最も近い中心点に移動\n",
    "    def _minimum_center_(self, X):\n",
    "        self.μ = self._generation_μ_(X) # 初期μを決定\n",
    "        #print(\"\\n＝＝＝初期μ＝＝＝\\n{}\".format(self.μ))\n",
    "\n",
    "        \n",
    "        # 中心点への割り当て、割り当てを固定して中心点の移動\n",
    "        self.μ_fit = []\n",
    "        for m in range(self.max_iter):\n",
    "            #print(\"\\n------ {}回目の移動------\".format(m+1))\n",
    "            # 繰り返し条件を満たしたらbreak\n",
    "            if m == 0: # 初回のみ初期のμを使う\n",
    "                self.μ_fit = (self._move_μ_(X, self.μ)) # 初回μから中心点を移動\n",
    "                #print(\"μ_fit\\n{}\".format(self.μ_fit))\n",
    "                μ_differences = []\n",
    "                for i in range(self.n_clusters):\n",
    "                    μ_differences.append(np.linalg.norm(self.μ_fit[i] - self.μ[i])**2)\n",
    "                μ_difference = np.amax(μ_differences) # 中心点の差の最大値\n",
    "                #print(\"中心点の移動距離：{}\".format(μ_difference))\n",
    "            else: # 2回目以降は移動したμを使う\n",
    "                self.μ_fit = (self._move_μ_(X, self.μ_fit)) # μ_fitから中心点を移動\n",
    "                #print(\"self.μ_fit\\n{}\".format(self.μ_fit))\n",
    "                μ_differences = []\n",
    "                for i in range(self.n_clusters):\n",
    "                    μ_differences.append(np.linalg.norm(self.μ_fit[i] - μ_previous[i])**2)\n",
    "                μ_difference = np.amax(μ_differences) # 中心点の差の最大値\n",
    "                #print(\"中心点の移動距離：{}\".format(μ_difference))\n",
    "                \n",
    "                if(m == self.max_iter or μ_difference < self.tol):\n",
    "                    break\n",
    "            μ_previous = self.μ_fit.copy() # 次回、差を出すためにコピーしておく\n",
    "\n",
    "        return self.μ_fit\n",
    "    \n",
    "    # μまでの距離のデータの最小値:正常のはず\n",
    "    def _SSE_(self, X, μ):\n",
    "        norm = []\n",
    "        for n in range(len(X)):\n",
    "            for k in range(len(μ)):\n",
    "                norm.append(np.linalg.norm(X[n] - μ[k])**2)\n",
    "        norm = np.array(norm).reshape(len(X), len(μ))\n",
    "        norm_min = np.argmin(norm, axis=1)\n",
    "        SSE = np.sum(norm_min)\n",
    "        return SSE\n",
    "\n",
    "    def fit(self, X):\n",
    "        \"\"\"\n",
    "        K-meansによるクラスタリングを計算\n",
    "        Parameters\n",
    "        ----------\n",
    "        X : 次の形のndarray, shape (n_samples, n_features)\n",
    "            学習用データの特徴量\n",
    "        \"\"\"                \n",
    "\n",
    "        #　初期値を変えてn_init回計算\n",
    "        for n in range(self.n_init):\n",
    "            min_μs = self._minimum_center_(X) # 異なる初期値で最も近い中心点に移動\n",
    "            self.SSE = self._SSE_(X, min_μs)\n",
    "\n",
    "            if n == 0:\n",
    "                SSE_previous = self.SSE.copy()\n",
    "                self.min_best = min_μs\n",
    "                #print(\"\\nn_init初回min_best:\\n{}\\n\".format(self.min_best))\n",
    "            else:\n",
    "                if self.SSE > SSE_previous:\n",
    "                    self.min_best = min_μs\n",
    "\n",
    "        #print(\"\\n====n_init{}回のmin_best===\\n{}\\n\\n\".format(self.n_init, self.min_best))            \n",
    "        return self.min_best\n",
    "\n",
    "    def predict(self, X):\n",
    "        \"\"\"\n",
    "        入力されたデータがどのクラスタに属するかを計算\n",
    "        \"\"\"\n",
    "        #def predict_Xclus(self, X, self.min_best):\n",
    "        self.distance = []\n",
    "        for k in range(len(self.min_best)):\n",
    "            for n in range(len(X)):\n",
    "                self.distance.append(np.linalg.norm(X[n] - self.min_best[k])) # Xとμの距離を計算\n",
    "        self.distance = np.array(self.distance)\n",
    "        self.distance = self.distance.reshape(len(X), len(self.min_best))\n",
    "\n",
    "        # distanceの最小値のインデックスデータmin_indexを作る（クラス分け）\n",
    "        min_index = np.argmin(self.distance, axis=1)# 最小距離のインデックス\n",
    "        min_index = min_index.astype(int) # 整数配列にする\n",
    "\n",
    "        # X配列と結合、クラスへの割り当て付きデータにする\n",
    "        X_clus = pd.DataFrame(X)\n",
    "        min_index = pd.DataFrame(min_index)\n",
    "        min_index = min_index.rename(columns={0:\"clus\"})\n",
    "        X_clus = pd.concat([X_clus, min_index], axis=1)\n",
    "        return X_clus\n"
   ]
  },
  {
   "cell_type": "code",
   "execution_count": 11,
   "metadata": {
    "scrolled": true
   },
   "outputs": [],
   "source": []
  },
  {
   "cell_type": "markdown",
   "metadata": {},
   "source": [
    "### 【問題7】学習、推定"
   ]
  },
  {
   "cell_type": "code",
   "execution_count": 12,
   "metadata": {},
   "outputs": [
    {
     "data": {
      "text/html": [
       "<div>\n",
       "<style scoped>\n",
       "    .dataframe tbody tr th:only-of-type {\n",
       "        vertical-align: middle;\n",
       "    }\n",
       "\n",
       "    .dataframe tbody tr th {\n",
       "        vertical-align: top;\n",
       "    }\n",
       "\n",
       "    .dataframe thead th {\n",
       "        text-align: right;\n",
       "    }\n",
       "</style>\n",
       "<table border=\"1\" class=\"dataframe\">\n",
       "  <thead>\n",
       "    <tr style=\"text-align: right;\">\n",
       "      <th></th>\n",
       "      <th>0</th>\n",
       "      <th>1</th>\n",
       "      <th>clus</th>\n",
       "    </tr>\n",
       "  </thead>\n",
       "  <tbody>\n",
       "    <tr>\n",
       "      <th>0</th>\n",
       "      <td>0.720868</td>\n",
       "      <td>3.713471</td>\n",
       "      <td>0</td>\n",
       "    </tr>\n",
       "    <tr>\n",
       "      <th>1</th>\n",
       "      <td>-1.894684</td>\n",
       "      <td>7.968985</td>\n",
       "      <td>2</td>\n",
       "    </tr>\n",
       "    <tr>\n",
       "      <th>2</th>\n",
       "      <td>1.356789</td>\n",
       "      <td>4.364625</td>\n",
       "      <td>2</td>\n",
       "    </tr>\n",
       "    <tr>\n",
       "      <th>3</th>\n",
       "      <td>1.053744</td>\n",
       "      <td>4.492869</td>\n",
       "      <td>1</td>\n",
       "    </tr>\n",
       "  </tbody>\n",
       "</table>\n",
       "</div>"
      ],
      "text/plain": [
       "          0         1  clus\n",
       "0  0.720868  3.713471     0\n",
       "1 -1.894684  7.968985     2\n",
       "2  1.356789  4.364625     2\n",
       "3  1.053744  4.492869     1"
      ]
     },
     "execution_count": 12,
     "metadata": {},
     "output_type": "execute_result"
    }
   ],
   "source": [
    "SKM = ScratchKMeans(n_clusters=3, n_init=5, max_iter=10, tol=0.001)\n",
    "SKM_fit = SKM.fit(X)\n",
    "#print(\"\\nSSE:{}\".format(SSE))\n",
    "SKM_pred = SKM.predict(X)\n",
    "SKM_pred = pd.DataFrame(SKM_pred)\n",
    "SKM_pred[:4]"
   ]
  },
  {
   "cell_type": "markdown",
   "metadata": {},
   "source": [
    "## 【問題8】エルボー法の実装\n",
    "K-meansにおいて中心点の個数 kは人為的に決める必要がありますが、その判断方法としてエルボー法があります。エルボー法により中心点の個数 kを検討するためのコードを作成してください。\n",
    "\n",
    "SSEを縦軸、クラスタ数 kを横軸にした折れ線グラフを表示します。このためにK-meansのインスタンスからはSSEを取得できるようにしてください。"
   ]
  },
  {
   "cell_type": "code",
   "execution_count": 13,
   "metadata": {
    "scrolled": true
   },
   "outputs": [],
   "source": [
    "# SSE\n",
    "\n",
    "#n_init=5, max_iter=10, tol=0.001\n",
    "\n",
    "# エルボー法グラフ表示\n",
    "def elbow(X, k, n_init, max_iter, tol):\n",
    "    def SSE(X, μ):\n",
    "        norm = []\n",
    "        for n in range(len(X)):\n",
    "            for k in range(len(μ)):\n",
    "                norm.append(np.linalg.norm(X[n] - μ[k])**2)\n",
    "        norm = np.array(norm).reshape(len(X), len(μ))\n",
    "        norm_min = np.amin(norm, axis=1) # 各行の最小値\n",
    "        SSE = sum(norm_min)\n",
    "        return SSE\n",
    "\n",
    "    SSE_list = []\n",
    "    for i in range(1, k+1):\n",
    "        SKM = ScratchKMeans(i, n_init, max_iter, tol)\n",
    "        SKM.fit(X)\n",
    "        sse = SSE(X, SKM.min_best)\n",
    "        SSE_list.append(sse)\n",
    "    return SSE_list\n",
    "\n",
    "#     k_array = np.arange(k)\n",
    "#     x = k_array\n",
    "#     y = SSE_list\n",
    "    #return plt.plot(x, y)\n",
    "#print(SSE_list)\n",
    "#print(SKM.min_best)"
   ]
  },
  {
   "cell_type": "code",
   "execution_count": 14,
   "metadata": {},
   "outputs": [
    {
     "data": {
      "text/plain": [
       "[870.2611797855423,\n",
       " 723.521845853988,\n",
       " 690.9540030786359,\n",
       " 717.6478722174605,\n",
       " 611.8112936030125,\n",
       " 597.734796923314,\n",
       " 536.0802907472154,\n",
       " 585.9118813874052,\n",
       " 580.933694817727,\n",
       " 322.72420432652837]"
      ]
     },
     "execution_count": 14,
     "metadata": {},
     "output_type": "execute_result"
    }
   ],
   "source": [
    "elbow(X, k=10, n_init=10, max_iter=50, tol=0.01)"
   ]
  },
  {
   "cell_type": "code",
   "execution_count": 15,
   "metadata": {},
   "outputs": [],
   "source": [
    "def SSE(X, μ):\n",
    "    norm = []\n",
    "    for n in range(len(X)):\n",
    "        for k in range(len(μ)):\n",
    "            norm.append(np.linalg.norm(X[n] - μ[k])**2)\n",
    "    norm = np.array(norm).reshape(len(X), len(μ))\n",
    "    norm_min = np.amin(norm, axis=1) # 各行の最小値\n",
    "    SSE = sum(norm_min)\n",
    "    return SSE"
   ]
  },
  {
   "cell_type": "code",
   "execution_count": 16,
   "metadata": {},
   "outputs": [
    {
     "name": "stdout",
     "output_type": "stream",
     "text": [
      "[711.2090904056424, 690.9540030786359, 711.2090904056424, 690.9540030786359, 711.2090904056424, 711.2090904056424, 711.2090904056424, 743.9119518201435, 711.2090904056424, 711.2090904056424]\n"
     ]
    },
    {
     "data": {
      "text/plain": [
       "Text(0, 0.5, 'SSE')"
      ]
     },
     "execution_count": 16,
     "metadata": {},
     "output_type": "execute_result"
    },
    {
     "data": {
      "image/png": "[encoded data removed]",
      "text/plain": [
       "<Figure size 432x288 with 1 Axes>"
      ]
     },
     "metadata": {
      "needs_background": "light"
     },
     "output_type": "display_data"
    }
   ],
   "source": [
    "SSE_list = []\n",
    "for i in range(1, 10+1):\n",
    "    SKM = ScratchKMeans(n_clusters=3, n_init=3, max_iter=200, tol=0.0001)\n",
    "    SKM.fit(X)\n",
    "    sse = SSE(X, SKM.min_best)\n",
    "    SSE_list.append(sse)\n",
    "print(SSE_list)\n",
    "\n",
    "# ｘ軸は１～10のクラスタ、ｙ軸はSSE\n",
    "plt.plot(range(1,10+1),SSE_list,marker='+')\n",
    "plt.xlabel('clusters num')\n",
    "plt.ylabel('SSE')"
   ]
  },
  {
   "cell_type": "markdown",
   "metadata": {},
   "source": [
    "## 考察\n",
    "グラフがギザギザになってしまいわかりにくいが、2個(もしくは４個）が適していると見られる"
   ]
  },
  {
   "cell_type": "markdown",
   "metadata": {},
   "source": [
    "# クラスタ分析 卸売業者のデータ分析"
   ]
  },
  {
   "cell_type": "code",
   "execution_count": 116,
   "metadata": {},
   "outputs": [
    {
     "data": {
      "text/html": [
       "<div>\n",
       "<style scoped>\n",
       "    .dataframe tbody tr th:only-of-type {\n",
       "        vertical-align: middle;\n",
       "    }\n",
       "\n",
       "    .dataframe tbody tr th {\n",
       "        vertical-align: top;\n",
       "    }\n",
       "\n",
       "    .dataframe thead th {\n",
       "        text-align: right;\n",
       "    }\n",
       "</style>\n",
       "<table border=\"1\" class=\"dataframe\">\n",
       "  <thead>\n",
       "    <tr style=\"text-align: right;\">\n",
       "      <th></th>\n",
       "      <th>Channel</th>\n",
       "      <th>Region</th>\n",
       "      <th>Fresh</th>\n",
       "      <th>Milk</th>\n",
       "      <th>Grocery</th>\n",
       "      <th>Frozen</th>\n",
       "      <th>Detergents_Paper</th>\n",
       "      <th>Delicassen</th>\n",
       "    </tr>\n",
       "  </thead>\n",
       "  <tbody>\n",
       "    <tr>\n",
       "      <th>0</th>\n",
       "      <td>2</td>\n",
       "      <td>3</td>\n",
       "      <td>12669</td>\n",
       "      <td>9656</td>\n",
       "      <td>7561</td>\n",
       "      <td>214</td>\n",
       "      <td>2674</td>\n",
       "      <td>1338</td>\n",
       "    </tr>\n",
       "    <tr>\n",
       "      <th>1</th>\n",
       "      <td>2</td>\n",
       "      <td>3</td>\n",
       "      <td>7057</td>\n",
       "      <td>9810</td>\n",
       "      <td>9568</td>\n",
       "      <td>1762</td>\n",
       "      <td>3293</td>\n",
       "      <td>1776</td>\n",
       "    </tr>\n",
       "    <tr>\n",
       "      <th>2</th>\n",
       "      <td>2</td>\n",
       "      <td>3</td>\n",
       "      <td>6353</td>\n",
       "      <td>8808</td>\n",
       "      <td>7684</td>\n",
       "      <td>2405</td>\n",
       "      <td>3516</td>\n",
       "      <td>7844</td>\n",
       "    </tr>\n",
       "    <tr>\n",
       "      <th>3</th>\n",
       "      <td>1</td>\n",
       "      <td>3</td>\n",
       "      <td>13265</td>\n",
       "      <td>1196</td>\n",
       "      <td>4221</td>\n",
       "      <td>6404</td>\n",
       "      <td>507</td>\n",
       "      <td>1788</td>\n",
       "    </tr>\n",
       "    <tr>\n",
       "      <th>4</th>\n",
       "      <td>2</td>\n",
       "      <td>3</td>\n",
       "      <td>22615</td>\n",
       "      <td>5410</td>\n",
       "      <td>7198</td>\n",
       "      <td>3915</td>\n",
       "      <td>1777</td>\n",
       "      <td>5185</td>\n",
       "    </tr>\n",
       "  </tbody>\n",
       "</table>\n",
       "</div>"
      ],
      "text/plain": [
       "   Channel  Region  Fresh  Milk  Grocery  Frozen  Detergents_Paper  Delicassen\n",
       "0        2       3  12669  9656     7561     214              2674        1338\n",
       "1        2       3   7057  9810     9568    1762              3293        1776\n",
       "2        2       3   6353  8808     7684    2405              3516        7844\n",
       "3        1       3  13265  1196     4221    6404               507        1788\n",
       "4        2       3  22615  5410     7198    3915              1777        5185"
      ]
     },
     "execution_count": 116,
     "metadata": {},
     "output_type": "execute_result"
    }
   ],
   "source": [
    "# データの読み込み\n",
    "Wholesale = pd.read_csv('./Wholesale customers data.csv')\n",
    "Wholesale.head()"
   ]
  },
  {
   "cell_type": "code",
   "execution_count": 117,
   "metadata": {},
   "outputs": [
    {
     "data": {
      "text/plain": [
       "Index(['Channel', 'Region', 'Fresh', 'Milk', 'Grocery', 'Frozen',\n",
       "       'Detergents_Paper', 'Delicassen'],\n",
       "      dtype='object')"
      ]
     },
     "execution_count": 117,
     "metadata": {},
     "output_type": "execute_result"
    }
   ],
   "source": [
    "# カラム名の確認\n",
    "Wholesale.columns"
   ]
  },
  {
   "cell_type": "code",
   "execution_count": 118,
   "metadata": {},
   "outputs": [
    {
     "name": "stdout",
     "output_type": "stream",
     "text": [
      "(440, 6)\n"
     ]
    }
   ],
   "source": [
    "# データを対数変換\n",
    "data = Wholesale.drop(['Channel','Region'],axis=1)\n",
    "data_log = np.log(data).values\n",
    "print(data_log.shape)"
   ]
  },
  {
   "cell_type": "code",
   "execution_count": 119,
   "metadata": {},
   "outputs": [
    {
     "name": "stdout",
     "output_type": "stream",
     "text": [
      "次元削減前 (440, 6)\n",
      "次元削減後： (440, 2)\n"
     ]
    }
   ],
   "source": [
    "# 次元削減\n",
    "print('次元削減前',data_log.shape)\n",
    "from sklearn.decomposition import PCA\n",
    "pca = PCA(n_components = 2)\n",
    "pca = pca.fit(data_log)\n",
    "data_pca = pca.transform(data_log)\n",
    "print('次元削減後：',data_pca.shape)"
   ]
  },
  {
   "cell_type": "code",
   "execution_count": 120,
   "metadata": {},
   "outputs": [
    {
     "name": "stdout",
     "output_type": "stream",
     "text": [
      "[0.44237417 0.71894523 0.83511865 0.93129585 0.97705265 1.        ]\n"
     ]
    },
    {
     "data": {
      "image/png": "[encoded data removed]",
      "text/plain": [
       "<Figure size 432x288 with 1 Axes>"
      ]
     },
     "metadata": {
      "needs_background": "light"
     },
     "output_type": "display_data"
    }
   ],
   "source": [
    "# PCAの分散説明率を表示するコードサンプル\n",
    "pca = PCA(n_components=None)\n",
    "pca = pca.fit(data_log)\n",
    "var_exp = pca.explained_variance_ratio_\n",
    "cum_var_exp = np.cumsum(var_exp)\n",
    "print(cum_var_exp)\n",
    "plt.bar(range(1,7), var_exp, alpha=0.5, align='center', label='individual explained variance')\n",
    "plt.step(range(1,7), cum_var_exp, where='mid', label='cumulative expalined variance')\n",
    "plt.ylabel('Explained variance ratio')\n",
    "plt.xlabel('Principal components')\n",
    "plt.hlines(0.7, 0, 6,  \"blue\", linestyles='dashed')\n",
    "plt.legend(loc='best')\n",
    "plt.grid()\n",
    "plt.show()"
   ]
  },
  {
   "cell_type": "markdown",
   "metadata": {},
   "source": [
    "## 【問題10】クラスタ数kの選択\n",
    "最適だと思われるクラスタ数 kを選択してください。エルボー法やシルエット図を活用する他、人間が後々どう利用したいのかも選択に関わってきます。選択した上で、なぜそれを選んだか説明してください。"
   ]
  },
  {
   "cell_type": "code",
   "execution_count": 121,
   "metadata": {},
   "outputs": [
    {
     "name": "stdout",
     "output_type": "stream",
     "text": [
      "[3310.816002996101, 3310.816002996101, 3310.816002996101, 3310.816002996101, 3310.816002996101, 3310.816002996101, 3310.816002996101, 3310.816002996101, 3310.816002996101, 3312.7429265710784]\n"
     ]
    },
    {
     "data": {
      "text/plain": [
       "Text(0, 0.5, 'SSE')"
      ]
     },
     "execution_count": 121,
     "metadata": {},
     "output_type": "execute_result"
    },
    {
     "data": {
      "image/png": "[encoded data removed]",
      "text/plain": [
       "<Figure size 432x288 with 1 Axes>"
      ]
     },
     "metadata": {
      "needs_background": "light"
     },
     "output_type": "display_data"
    }
   ],
   "source": [
    "## SSEをいれるリストを用意\n",
    "SSE_list = []\n",
    "\n",
    "# クラスター数を１～10まで試してみる\n",
    "for i in range(1, 10+1):\n",
    "    SKM = ScratchKMeans(n_clusters=3, n_init=3, max_iter=200, tol=0.0001)\n",
    "    SKM.fit(data_pca)\n",
    "    sse = SSE(data_pca, SKM.min_best)\n",
    "    SSE_list.append(sse)\n",
    "print(SSE_list)\n",
    "\n",
    "# ｘ軸は１～10のクラスタ、ｙ軸はSSE\n",
    "plt.plot(range(1,10+1),SSE_list,marker='+')\n",
    "plt.xlabel('clusters num')\n",
    "plt.ylabel('SSE')"
   ]
  },
  {
   "cell_type": "markdown",
   "metadata": {},
   "source": [
    "### 考察\n",
    "うまくエルボーになっていないが、３が谷に見えるためクラスタ数は３とする。"
   ]
  },
  {
   "cell_type": "markdown",
   "metadata": {},
   "source": [
    "## 【問題11】既知のグループとの比較\n",
    "RegionとChannelはK-meansに使用しなかったが、これれらは既知のグループです。クラスタとこれら既知のグループがどう違うかを確認し、説明してください。まずはそれぞれを可視化してください。"
   ]
  },
  {
   "cell_type": "code",
   "execution_count": 122,
   "metadata": {},
   "outputs": [
    {
     "data": {
      "text/html": [
       "<div>\n",
       "<style scoped>\n",
       "    .dataframe tbody tr th:only-of-type {\n",
       "        vertical-align: middle;\n",
       "    }\n",
       "\n",
       "    .dataframe tbody tr th {\n",
       "        vertical-align: top;\n",
       "    }\n",
       "\n",
       "    .dataframe thead th {\n",
       "        text-align: right;\n",
       "    }\n",
       "</style>\n",
       "<table border=\"1\" class=\"dataframe\">\n",
       "  <thead>\n",
       "    <tr style=\"text-align: right;\">\n",
       "      <th></th>\n",
       "      <th>0</th>\n",
       "      <th>1</th>\n",
       "      <th>clus</th>\n",
       "    </tr>\n",
       "  </thead>\n",
       "  <tbody>\n",
       "    <tr>\n",
       "      <th>0</th>\n",
       "      <td>-1.750985</td>\n",
       "      <td>-0.070515</td>\n",
       "      <td>0</td>\n",
       "    </tr>\n",
       "    <tr>\n",
       "      <th>1</th>\n",
       "      <td>-1.800365</td>\n",
       "      <td>-0.869754</td>\n",
       "      <td>2</td>\n",
       "    </tr>\n",
       "    <tr>\n",
       "      <th>2</th>\n",
       "      <td>-1.893736</td>\n",
       "      <td>-1.676621</td>\n",
       "      <td>2</td>\n",
       "    </tr>\n",
       "    <tr>\n",
       "      <th>3</th>\n",
       "      <td>1.127313</td>\n",
       "      <td>-1.457982</td>\n",
       "      <td>2</td>\n",
       "    </tr>\n",
       "  </tbody>\n",
       "</table>\n",
       "</div>"
      ],
      "text/plain": [
       "          0         1  clus\n",
       "0 -1.750985 -0.070515     0\n",
       "1 -1.800365 -0.869754     2\n",
       "2 -1.893736 -1.676621     2\n",
       "3  1.127313 -1.457982     2"
      ]
     },
     "execution_count": 122,
     "metadata": {},
     "output_type": "execute_result"
    }
   ],
   "source": [
    "#学習、推定\n",
    "SKM = ScratchKMeans(n_clusters=3, n_init=5, max_iter=100, tol=0.001)\n",
    "SKM_fit = SKM.fit(data_pca)\n",
    "#print(\"\\nSSE:{}\".format(SSE))\n",
    "SKM_pred = SKM.predict(data_pca)\n",
    "SKM_pred = pd.DataFrame(SKM_pred)\n",
    "SKM_pred[:4]"
   ]
  },
  {
   "cell_type": "code",
   "execution_count": 123,
   "metadata": {},
   "outputs": [
    {
     "name": "stdout",
     "output_type": "stream",
     "text": [
      "\n",
      "channel 0\n",
      "1    298\n",
      "2    142\n",
      "Name: 1, dtype: int64\n",
      "\n",
      "region 0\n",
      "1     77\n",
      "2     47\n",
      "3    316\n",
      "Name: 1, dtype: int64\n",
      "\n",
      "clusters 0\n",
      "0    143\n",
      "1    148\n",
      "2    149\n",
      "Name: 1, dtype: int64\n"
     ]
    }
   ],
   "source": [
    "channel = np.array(Wholesale[\"Channel\"])\n",
    "region = np.array(Wholesale[\"Region\"])\n",
    "clusters = np.array(SKM_pred[\"clus\"])\n",
    "#display(Wholesale)\n",
    "#display(channel)\n",
    "#print(\"channel\",np.unique(channel, return_counts=True))\n",
    "channel = np.unique(channel, return_counts=True)\n",
    "channel = pd.DataFrame(channel)\n",
    "channel.columns = channel.iloc[0]\n",
    "channel = channel.iloc[1]\n",
    "print(\"\\nchannel\", channel)\n",
    "\n",
    "region = np.unique(region, return_counts=True)\n",
    "region = pd.DataFrame(region)\n",
    "region.columns = region.iloc[0]\n",
    "region = region.iloc[1]\n",
    "print(\"\\nregion\", region)\n",
    "\n",
    "clusters = np.unique(clusters, return_counts=True)\n",
    "clusters = pd.DataFrame(clusters)\n",
    "clusters.columns = clusters.iloc[0]\n",
    "clusters = clusters.iloc[1]\n",
    "print(\"\\nclusters\",clusters)"
   ]
  },
  {
   "cell_type": "code",
   "execution_count": 124,
   "metadata": {},
   "outputs": [
    {
     "data": {
      "image/png": "[encoded data removed]",
      "text/plain": [
       "<Figure size 432x288 with 1 Axes>"
      ]
     },
     "metadata": {},
     "output_type": "display_data"
    }
   ],
   "source": [
    "label = [1,2]\n",
    "\n",
    "plt.ylabel('count')\n",
    "plt.xlabel('channel_class')\n",
    "plt.pie(channel, labels = label, startangle=90,)\n",
    "#plt.plot(y_pred)\n",
    "plt.grid()\n",
    "plt.show()"
   ]
  },
  {
   "cell_type": "code",
   "execution_count": 125,
   "metadata": {},
   "outputs": [
    {
     "data": {
      "image/png": "[encoded data removed]",
      "text/plain": [
       "<Figure size 432x288 with 1 Axes>"
      ]
     },
     "metadata": {},
     "output_type": "display_data"
    }
   ],
   "source": [
    "label = [1,2,3]\n",
    "\n",
    "plt.ylabel('count')\n",
    "plt.xlabel('region_class')\n",
    "plt.pie(region, labels = label, startangle=90,)\n",
    "#plt.plot(y_pred)\n",
    "plt.grid()\n",
    "plt.show()"
   ]
  },
  {
   "cell_type": "code",
   "execution_count": 126,
   "metadata": {},
   "outputs": [
    {
     "data": {
      "image/png": "[encoded data removed]",
      "text/plain": [
       "<Figure size 432x288 with 1 Axes>"
      ]
     },
     "metadata": {},
     "output_type": "display_data"
    }
   ],
   "source": [
    "label = [0,1,2]\n",
    "\n",
    "plt.ylabel('count')\n",
    "plt.xlabel('SKM_pred_class')\n",
    "plt.pie(clusters, labels = label, startangle=90,)\n",
    "#plt.plot(y_pred)\n",
    "plt.grid()\n",
    "plt.show()"
   ]
  },
  {
   "cell_type": "markdown",
   "metadata": {},
   "source": [
    "## 考察\n",
    "クラス数３でScratchKMeansで推定を行ったところ、人数が均等に割れた。\n",
    "channelクラスはクラス数２でクラス１に多く分布が偏っており、\n",
    "regionクラスはクラス数３でクラス３に分布が偏っていた。"
   ]
  },
  {
   "cell_type": "markdown",
   "metadata": {},
   "source": [
    "## 【問題12】卸売業者にとって有益な情報\n",
    "卸売業者にとって有益な情報を探し出し文章にまとめてください。\n",
    "\n",
    "《ヒント》\n",
    "\n",
    "前処理を行う前のデータを使い、各クラスタの要約統計量を見るなどしてみましょう。また、PCAで次元削減したデータに対してK-meansを使用しましたが、6個の特徴量をそのまま使ったり、一部の特徴量のみを使ったりということも試してみてください。既知のグループとの比較結果も参考にしてください。\n",
    "\n",
    "条件ごとにデータを見る際にはPandasのgroupbyが便利です。\n",
    "\n",
    "pandas.DataFrame.groupby — pandas 0.23.4 documentation"
   ]
  },
  {
   "cell_type": "code",
   "execution_count": 127,
   "metadata": {
    "scrolled": false
   },
   "outputs": [
    {
     "data": {
      "text/html": [
       "<div>\n",
       "<style scoped>\n",
       "    .dataframe tbody tr th:only-of-type {\n",
       "        vertical-align: middle;\n",
       "    }\n",
       "\n",
       "    .dataframe tbody tr th {\n",
       "        vertical-align: top;\n",
       "    }\n",
       "\n",
       "    .dataframe thead th {\n",
       "        text-align: right;\n",
       "    }\n",
       "</style>\n",
       "<table border=\"1\" class=\"dataframe\">\n",
       "  <thead>\n",
       "    <tr style=\"text-align: right;\">\n",
       "      <th></th>\n",
       "      <th>Channel</th>\n",
       "      <th>Region</th>\n",
       "      <th>Fresh</th>\n",
       "      <th>Milk</th>\n",
       "      <th>Grocery</th>\n",
       "      <th>Frozen</th>\n",
       "      <th>Detergents_Paper</th>\n",
       "      <th>Delicassen</th>\n",
       "      <th>clus</th>\n",
       "    </tr>\n",
       "  </thead>\n",
       "  <tbody>\n",
       "    <tr>\n",
       "      <th>0</th>\n",
       "      <td>2</td>\n",
       "      <td>3</td>\n",
       "      <td>12669</td>\n",
       "      <td>9656</td>\n",
       "      <td>7561</td>\n",
       "      <td>214</td>\n",
       "      <td>2674</td>\n",
       "      <td>1338</td>\n",
       "      <td>0</td>\n",
       "    </tr>\n",
       "    <tr>\n",
       "      <th>1</th>\n",
       "      <td>2</td>\n",
       "      <td>3</td>\n",
       "      <td>7057</td>\n",
       "      <td>9810</td>\n",
       "      <td>9568</td>\n",
       "      <td>1762</td>\n",
       "      <td>3293</td>\n",
       "      <td>1776</td>\n",
       "      <td>2</td>\n",
       "    </tr>\n",
       "    <tr>\n",
       "      <th>2</th>\n",
       "      <td>2</td>\n",
       "      <td>3</td>\n",
       "      <td>6353</td>\n",
       "      <td>8808</td>\n",
       "      <td>7684</td>\n",
       "      <td>2405</td>\n",
       "      <td>3516</td>\n",
       "      <td>7844</td>\n",
       "      <td>2</td>\n",
       "    </tr>\n",
       "    <tr>\n",
       "      <th>3</th>\n",
       "      <td>1</td>\n",
       "      <td>3</td>\n",
       "      <td>13265</td>\n",
       "      <td>1196</td>\n",
       "      <td>4221</td>\n",
       "      <td>6404</td>\n",
       "      <td>507</td>\n",
       "      <td>1788</td>\n",
       "      <td>2</td>\n",
       "    </tr>\n",
       "    <tr>\n",
       "      <th>4</th>\n",
       "      <td>2</td>\n",
       "      <td>3</td>\n",
       "      <td>22615</td>\n",
       "      <td>5410</td>\n",
       "      <td>7198</td>\n",
       "      <td>3915</td>\n",
       "      <td>1777</td>\n",
       "      <td>5185</td>\n",
       "      <td>1</td>\n",
       "    </tr>\n",
       "  </tbody>\n",
       "</table>\n",
       "</div>"
      ],
      "text/plain": [
       "   Channel  Region  Fresh  Milk  Grocery  Frozen  Detergents_Paper  \\\n",
       "0        2       3  12669  9656     7561     214              2674   \n",
       "1        2       3   7057  9810     9568    1762              3293   \n",
       "2        2       3   6353  8808     7684    2405              3516   \n",
       "3        1       3  13265  1196     4221    6404               507   \n",
       "4        2       3  22615  5410     7198    3915              1777   \n",
       "\n",
       "   Delicassen  clus  \n",
       "0        1338     0  \n",
       "1        1776     2  \n",
       "2        7844     2  \n",
       "3        1788     2  \n",
       "4        5185     1  "
      ]
     },
     "execution_count": 127,
     "metadata": {},
     "output_type": "execute_result"
    }
   ],
   "source": [
    "# Wholesaleデータにclusterを追加する\n",
    "Wholesale_clus = pd.concat([Wholesale, SKM_pred['clus']], axis=1)\n",
    "Wholesale_clus.head()"
   ]
  },
  {
   "cell_type": "markdown",
   "metadata": {},
   "source": [
    "## clusごとに各項目を平均する"
   ]
  },
  {
   "cell_type": "code",
   "execution_count": 131,
   "metadata": {
    "scrolled": true
   },
   "outputs": [
    {
     "data": {
      "text/html": [
       "<div>\n",
       "<style scoped>\n",
       "    .dataframe tbody tr th:only-of-type {\n",
       "        vertical-align: middle;\n",
       "    }\n",
       "\n",
       "    .dataframe tbody tr th {\n",
       "        vertical-align: top;\n",
       "    }\n",
       "\n",
       "    .dataframe thead th {\n",
       "        text-align: right;\n",
       "    }\n",
       "</style>\n",
       "<table border=\"1\" class=\"dataframe\">\n",
       "  <thead>\n",
       "    <tr style=\"text-align: right;\">\n",
       "      <th></th>\n",
       "      <th>Channel</th>\n",
       "      <th>Region</th>\n",
       "      <th>Fresh</th>\n",
       "      <th>Milk</th>\n",
       "      <th>Grocery</th>\n",
       "      <th>Frozen</th>\n",
       "      <th>Detergents_Paper</th>\n",
       "      <th>Delicassen</th>\n",
       "    </tr>\n",
       "    <tr>\n",
       "      <th>clus</th>\n",
       "      <th></th>\n",
       "      <th></th>\n",
       "      <th></th>\n",
       "      <th></th>\n",
       "      <th></th>\n",
       "      <th></th>\n",
       "      <th></th>\n",
       "      <th></th>\n",
       "    </tr>\n",
       "  </thead>\n",
       "  <tbody>\n",
       "    <tr>\n",
       "      <th>0</th>\n",
       "      <td>1.0</td>\n",
       "      <td>3.0</td>\n",
       "      <td>10949.0</td>\n",
       "      <td>5716.0</td>\n",
       "      <td>8283.0</td>\n",
       "      <td>2455.0</td>\n",
       "      <td>2955.0</td>\n",
       "      <td>1471.0</td>\n",
       "    </tr>\n",
       "    <tr>\n",
       "      <th>1</th>\n",
       "      <td>1.0</td>\n",
       "      <td>3.0</td>\n",
       "      <td>11944.0</td>\n",
       "      <td>5780.0</td>\n",
       "      <td>7822.0</td>\n",
       "      <td>3564.0</td>\n",
       "      <td>2894.0</td>\n",
       "      <td>1712.0</td>\n",
       "    </tr>\n",
       "    <tr>\n",
       "      <th>2</th>\n",
       "      <td>1.0</td>\n",
       "      <td>3.0</td>\n",
       "      <td>13065.0</td>\n",
       "      <td>5890.0</td>\n",
       "      <td>7761.0</td>\n",
       "      <td>3175.0</td>\n",
       "      <td>2799.0</td>\n",
       "      <td>1390.0</td>\n",
       "    </tr>\n",
       "  </tbody>\n",
       "</table>\n",
       "</div>"
      ],
      "text/plain": [
       "      Channel  Region    Fresh    Milk  Grocery  Frozen  Detergents_Paper  \\\n",
       "clus                                                                        \n",
       "0         1.0     3.0  10949.0  5716.0   8283.0  2455.0            2955.0   \n",
       "1         1.0     3.0  11944.0  5780.0   7822.0  3564.0            2894.0   \n",
       "2         1.0     3.0  13065.0  5890.0   7761.0  3175.0            2799.0   \n",
       "\n",
       "      Delicassen  \n",
       "clus              \n",
       "0         1471.0  \n",
       "1         1712.0  \n",
       "2         1390.0  "
      ]
     },
     "execution_count": 131,
     "metadata": {},
     "output_type": "execute_result"
    }
   ],
   "source": [
    "Wholesale_clus.groupby([\"clus\"]).mean().round()"
   ]
  },
  {
   "cell_type": "markdown",
   "metadata": {},
   "source": [
    "## 考察（clus)\n",
    "・生鮮品、冷凍食品、惣菜はクラス１の平均が高い\n",
    "・ミルク、食品、洗剤、紙はクラスごとの差がそれほどない"
   ]
  },
  {
   "cell_type": "markdown",
   "metadata": {},
   "source": [
    "## Channelごとに各項目の平均を求める"
   ]
  },
  {
   "cell_type": "code",
   "execution_count": 132,
   "metadata": {},
   "outputs": [
    {
     "data": {
      "text/html": [
       "<div>\n",
       "<style scoped>\n",
       "    .dataframe tbody tr th:only-of-type {\n",
       "        vertical-align: middle;\n",
       "    }\n",
       "\n",
       "    .dataframe tbody tr th {\n",
       "        vertical-align: top;\n",
       "    }\n",
       "\n",
       "    .dataframe thead th {\n",
       "        text-align: right;\n",
       "    }\n",
       "</style>\n",
       "<table border=\"1\" class=\"dataframe\">\n",
       "  <thead>\n",
       "    <tr style=\"text-align: right;\">\n",
       "      <th></th>\n",
       "      <th>Region</th>\n",
       "      <th>Fresh</th>\n",
       "      <th>Milk</th>\n",
       "      <th>Grocery</th>\n",
       "      <th>Frozen</th>\n",
       "      <th>Detergents_Paper</th>\n",
       "      <th>Delicassen</th>\n",
       "      <th>clus</th>\n",
       "    </tr>\n",
       "    <tr>\n",
       "      <th>Channel</th>\n",
       "      <th></th>\n",
       "      <th></th>\n",
       "      <th></th>\n",
       "      <th></th>\n",
       "      <th></th>\n",
       "      <th></th>\n",
       "      <th></th>\n",
       "      <th></th>\n",
       "    </tr>\n",
       "  </thead>\n",
       "  <tbody>\n",
       "    <tr>\n",
       "      <th>1</th>\n",
       "      <td>3.0</td>\n",
       "      <td>13476.0</td>\n",
       "      <td>3452.0</td>\n",
       "      <td>3962.0</td>\n",
       "      <td>3748.0</td>\n",
       "      <td>791.0</td>\n",
       "      <td>1416.0</td>\n",
       "      <td>1.0</td>\n",
       "    </tr>\n",
       "    <tr>\n",
       "      <th>2</th>\n",
       "      <td>3.0</td>\n",
       "      <td>8904.0</td>\n",
       "      <td>10716.0</td>\n",
       "      <td>16323.0</td>\n",
       "      <td>1653.0</td>\n",
       "      <td>7270.0</td>\n",
       "      <td>1753.0</td>\n",
       "      <td>1.0</td>\n",
       "    </tr>\n",
       "  </tbody>\n",
       "</table>\n",
       "</div>"
      ],
      "text/plain": [
       "         Region    Fresh     Milk  Grocery  Frozen  Detergents_Paper  \\\n",
       "Channel                                                                \n",
       "1           3.0  13476.0   3452.0   3962.0  3748.0             791.0   \n",
       "2           3.0   8904.0  10716.0  16323.0  1653.0            7270.0   \n",
       "\n",
       "         Delicassen  clus  \n",
       "Channel                    \n",
       "1            1416.0   1.0  \n",
       "2            1753.0   1.0  "
      ]
     },
     "execution_count": 132,
     "metadata": {},
     "output_type": "execute_result"
    }
   ],
   "source": [
    "Wholesale_clus.groupby([\"Channel\"]).mean().round()"
   ]
  },
  {
   "cell_type": "markdown",
   "metadata": {},
   "source": [
    "## 考察(Channel)\n",
    "・生鮮品、冷凍品はクラス１の平均が高い\n",
    "・ミルク、食品、洗剤・紙はクラス２の平均が高い\n",
    "・惣菜はややクラス２の平均が高い"
   ]
  },
  {
   "cell_type": "markdown",
   "metadata": {},
   "source": [
    "## Regionごとに各項目の平均を求める"
   ]
  },
  {
   "cell_type": "code",
   "execution_count": 135,
   "metadata": {},
   "outputs": [
    {
     "data": {
      "text/html": [
       "<div>\n",
       "<style scoped>\n",
       "    .dataframe tbody tr th:only-of-type {\n",
       "        vertical-align: middle;\n",
       "    }\n",
       "\n",
       "    .dataframe tbody tr th {\n",
       "        vertical-align: top;\n",
       "    }\n",
       "\n",
       "    .dataframe thead th {\n",
       "        text-align: right;\n",
       "    }\n",
       "</style>\n",
       "<table border=\"1\" class=\"dataframe\">\n",
       "  <thead>\n",
       "    <tr style=\"text-align: right;\">\n",
       "      <th></th>\n",
       "      <th>Channel</th>\n",
       "      <th>Fresh</th>\n",
       "      <th>Milk</th>\n",
       "      <th>Grocery</th>\n",
       "      <th>Frozen</th>\n",
       "      <th>Detergents_Paper</th>\n",
       "      <th>Delicassen</th>\n",
       "      <th>clus</th>\n",
       "    </tr>\n",
       "    <tr>\n",
       "      <th>Region</th>\n",
       "      <th></th>\n",
       "      <th></th>\n",
       "      <th></th>\n",
       "      <th></th>\n",
       "      <th></th>\n",
       "      <th></th>\n",
       "      <th></th>\n",
       "      <th></th>\n",
       "    </tr>\n",
       "  </thead>\n",
       "  <tbody>\n",
       "    <tr>\n",
       "      <th>1</th>\n",
       "      <td>1.0</td>\n",
       "      <td>11102.0</td>\n",
       "      <td>5486.0</td>\n",
       "      <td>7403.0</td>\n",
       "      <td>3000.0</td>\n",
       "      <td>2651.0</td>\n",
       "      <td>1355.0</td>\n",
       "      <td>1.0</td>\n",
       "    </tr>\n",
       "    <tr>\n",
       "      <th>2</th>\n",
       "      <td>1.0</td>\n",
       "      <td>9888.0</td>\n",
       "      <td>5088.0</td>\n",
       "      <td>9219.0</td>\n",
       "      <td>4045.0</td>\n",
       "      <td>3687.0</td>\n",
       "      <td>1160.0</td>\n",
       "      <td>1.0</td>\n",
       "    </tr>\n",
       "    <tr>\n",
       "      <th>3</th>\n",
       "      <td>1.0</td>\n",
       "      <td>12533.0</td>\n",
       "      <td>5977.0</td>\n",
       "      <td>7896.0</td>\n",
       "      <td>2945.0</td>\n",
       "      <td>2818.0</td>\n",
       "      <td>1621.0</td>\n",
       "      <td>1.0</td>\n",
       "    </tr>\n",
       "  </tbody>\n",
       "</table>\n",
       "</div>"
      ],
      "text/plain": [
       "        Channel    Fresh    Milk  Grocery  Frozen  Detergents_Paper  \\\n",
       "Region                                                                \n",
       "1           1.0  11102.0  5486.0   7403.0  3000.0            2651.0   \n",
       "2           1.0   9888.0  5088.0   9219.0  4045.0            3687.0   \n",
       "3           1.0  12533.0  5977.0   7896.0  2945.0            2818.0   \n",
       "\n",
       "        Delicassen  clus  \n",
       "Region                    \n",
       "1           1355.0   1.0  \n",
       "2           1160.0   1.0  \n",
       "3           1621.0   1.0  "
      ]
     },
     "execution_count": 135,
     "metadata": {},
     "output_type": "execute_result"
    }
   ],
   "source": [
    "Wholesale_clus.groupby([\"Region\"]).mean().round()"
   ]
  },
  {
   "cell_type": "markdown",
   "metadata": {},
   "source": [
    "## 考察(Region)\n",
    "・生鮮品、ミルク、惣菜はクラス３の平均が高い\n",
    "・食品、冷凍品、洗剤、紙はクラス２の平均が高い"
   ]
  },
  {
   "cell_type": "code",
   "execution_count": null,
   "metadata": {},
   "outputs": [],
   "source": []
  }
 ],
 "metadata": {
  "kernelspec": {
   "display_name": "Python 3",
   "language": "python",
   "name": "python3"
  },
  "language_info": {
   "codemirror_mode": {
    "name": "ipython",
    "version": 3
   },
   "file_extension": ".py",
   "mimetype": "text/x-python",
   "name": "python",
   "nbconvert_exporter": "python",
   "pygments_lexer": "ipython3",
   "version": "3.7.3"
  }
 },
 "nbformat": 4,
 "nbformat_minor": 2
}
