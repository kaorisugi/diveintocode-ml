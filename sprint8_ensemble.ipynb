{
 "cells": [
  {
   "cell_type": "markdown",
   "metadata": {},
   "source": [
    "# Sprint アンサンブル学習"
   ]
  },
  {
   "cell_type": "code",
   "execution_count": 1,
   "metadata": {},
   "outputs": [],
   "source": [
    "import numpy as np\n",
    "import random\n",
    "import pandas as pd\n",
    "from numpy import linalg as LA\n",
    "import matplotlib.pyplot as plt\n",
    "from sklearn.model_selection import train_test_split # testとtrain分割\n",
    "from sklearn.preprocessing import StandardScaler #　標準化モジュール\n",
    "from sklearn.linear_model import LinearRegression # 線形回帰\n",
    "from sklearn.metrics import mean_squared_error # 平均二乗誤差\n",
    "from sklearn.tree import DecisionTreeRegressor # 決定木\n",
    "from sklearn.neighbors import KNeighborsClassifier # 最近傍法\n",
    "from sklearn.svm import SVR # こっちはSVM回帰　最適化すると強いが手間がかかる、重い\n",
    "from sklearn.svm import SVC # SVM\n",
    "from sklearn.preprocessing import MinMaxScaler # データが0〜1の間に収まるよう変換\n",
    "from sklearn.model_selection import GridSearchCV"
   ]
  },
  {
   "cell_type": "code",
   "execution_count": 2,
   "metadata": {},
   "outputs": [],
   "source": [
    "# データセットの用意"
   ]
  },
  {
   "cell_type": "code",
   "execution_count": 3,
   "metadata": {},
   "outputs": [
    {
     "data": {
      "text/html": [
       "<div>\n",
       "<style scoped>\n",
       "    .dataframe tbody tr th:only-of-type {\n",
       "        vertical-align: middle;\n",
       "    }\n",
       "\n",
       "    .dataframe tbody tr th {\n",
       "        vertical-align: top;\n",
       "    }\n",
       "\n",
       "    .dataframe thead th {\n",
       "        text-align: right;\n",
       "    }\n",
       "</style>\n",
       "<table border=\"1\" class=\"dataframe\">\n",
       "  <thead>\n",
       "    <tr style=\"text-align: right;\">\n",
       "      <th></th>\n",
       "      <th>Id</th>\n",
       "      <th>MSSubClass</th>\n",
       "      <th>MSZoning</th>\n",
       "      <th>LotFrontage</th>\n",
       "      <th>LotArea</th>\n",
       "      <th>Street</th>\n",
       "      <th>Alley</th>\n",
       "      <th>LotShape</th>\n",
       "      <th>LandContour</th>\n",
       "      <th>Utilities</th>\n",
       "      <th>...</th>\n",
       "      <th>PoolArea</th>\n",
       "      <th>PoolQC</th>\n",
       "      <th>Fence</th>\n",
       "      <th>MiscFeature</th>\n",
       "      <th>MiscVal</th>\n",
       "      <th>MoSold</th>\n",
       "      <th>YrSold</th>\n",
       "      <th>SaleType</th>\n",
       "      <th>SaleCondition</th>\n",
       "      <th>SalePrice</th>\n",
       "    </tr>\n",
       "  </thead>\n",
       "  <tbody>\n",
       "    <tr>\n",
       "      <th>0</th>\n",
       "      <td>1</td>\n",
       "      <td>60</td>\n",
       "      <td>RL</td>\n",
       "      <td>65.0</td>\n",
       "      <td>8450</td>\n",
       "      <td>Pave</td>\n",
       "      <td>NaN</td>\n",
       "      <td>Reg</td>\n",
       "      <td>Lvl</td>\n",
       "      <td>AllPub</td>\n",
       "      <td>...</td>\n",
       "      <td>0</td>\n",
       "      <td>NaN</td>\n",
       "      <td>NaN</td>\n",
       "      <td>NaN</td>\n",
       "      <td>0</td>\n",
       "      <td>2</td>\n",
       "      <td>2008</td>\n",
       "      <td>WD</td>\n",
       "      <td>Normal</td>\n",
       "      <td>208500</td>\n",
       "    </tr>\n",
       "    <tr>\n",
       "      <th>1</th>\n",
       "      <td>2</td>\n",
       "      <td>20</td>\n",
       "      <td>RL</td>\n",
       "      <td>80.0</td>\n",
       "      <td>9600</td>\n",
       "      <td>Pave</td>\n",
       "      <td>NaN</td>\n",
       "      <td>Reg</td>\n",
       "      <td>Lvl</td>\n",
       "      <td>AllPub</td>\n",
       "      <td>...</td>\n",
       "      <td>0</td>\n",
       "      <td>NaN</td>\n",
       "      <td>NaN</td>\n",
       "      <td>NaN</td>\n",
       "      <td>0</td>\n",
       "      <td>5</td>\n",
       "      <td>2007</td>\n",
       "      <td>WD</td>\n",
       "      <td>Normal</td>\n",
       "      <td>181500</td>\n",
       "    </tr>\n",
       "    <tr>\n",
       "      <th>2</th>\n",
       "      <td>3</td>\n",
       "      <td>60</td>\n",
       "      <td>RL</td>\n",
       "      <td>68.0</td>\n",
       "      <td>11250</td>\n",
       "      <td>Pave</td>\n",
       "      <td>NaN</td>\n",
       "      <td>IR1</td>\n",
       "      <td>Lvl</td>\n",
       "      <td>AllPub</td>\n",
       "      <td>...</td>\n",
       "      <td>0</td>\n",
       "      <td>NaN</td>\n",
       "      <td>NaN</td>\n",
       "      <td>NaN</td>\n",
       "      <td>0</td>\n",
       "      <td>9</td>\n",
       "      <td>2008</td>\n",
       "      <td>WD</td>\n",
       "      <td>Normal</td>\n",
       "      <td>223500</td>\n",
       "    </tr>\n",
       "    <tr>\n",
       "      <th>3</th>\n",
       "      <td>4</td>\n",
       "      <td>70</td>\n",
       "      <td>RL</td>\n",
       "      <td>60.0</td>\n",
       "      <td>9550</td>\n",
       "      <td>Pave</td>\n",
       "      <td>NaN</td>\n",
       "      <td>IR1</td>\n",
       "      <td>Lvl</td>\n",
       "      <td>AllPub</td>\n",
       "      <td>...</td>\n",
       "      <td>0</td>\n",
       "      <td>NaN</td>\n",
       "      <td>NaN</td>\n",
       "      <td>NaN</td>\n",
       "      <td>0</td>\n",
       "      <td>2</td>\n",
       "      <td>2006</td>\n",
       "      <td>WD</td>\n",
       "      <td>Abnorml</td>\n",
       "      <td>140000</td>\n",
       "    </tr>\n",
       "  </tbody>\n",
       "</table>\n",
       "<p>4 rows × 81 columns</p>\n",
       "</div>"
      ],
      "text/plain": [
       "   Id  MSSubClass MSZoning  LotFrontage  LotArea Street Alley LotShape  \\\n",
       "0   1          60       RL         65.0     8450   Pave   NaN      Reg   \n",
       "1   2          20       RL         80.0     9600   Pave   NaN      Reg   \n",
       "2   3          60       RL         68.0    11250   Pave   NaN      IR1   \n",
       "3   4          70       RL         60.0     9550   Pave   NaN      IR1   \n",
       "\n",
       "  LandContour Utilities  ... PoolArea PoolQC Fence MiscFeature MiscVal MoSold  \\\n",
       "0         Lvl    AllPub  ...        0    NaN   NaN         NaN       0      2   \n",
       "1         Lvl    AllPub  ...        0    NaN   NaN         NaN       0      5   \n",
       "2         Lvl    AllPub  ...        0    NaN   NaN         NaN       0      9   \n",
       "3         Lvl    AllPub  ...        0    NaN   NaN         NaN       0      2   \n",
       "\n",
       "  YrSold  SaleType  SaleCondition  SalePrice  \n",
       "0   2008        WD         Normal     208500  \n",
       "1   2007        WD         Normal     181500  \n",
       "2   2008        WD         Normal     223500  \n",
       "3   2006        WD        Abnorml     140000  \n",
       "\n",
       "[4 rows x 81 columns]"
      ]
     },
     "execution_count": 3,
     "metadata": {},
     "output_type": "execute_result"
    }
   ],
   "source": [
    "Ames = pd.read_csv(\"train.csv\")\n",
    "Ames.head(4)"
   ]
  },
  {
   "cell_type": "code",
   "execution_count": 4,
   "metadata": {},
   "outputs": [
    {
     "data": {
      "text/html": [
       "<div>\n",
       "<style scoped>\n",
       "    .dataframe tbody tr th:only-of-type {\n",
       "        vertical-align: middle;\n",
       "    }\n",
       "\n",
       "    .dataframe tbody tr th {\n",
       "        vertical-align: top;\n",
       "    }\n",
       "\n",
       "    .dataframe thead th {\n",
       "        text-align: right;\n",
       "    }\n",
       "</style>\n",
       "<table border=\"1\" class=\"dataframe\">\n",
       "  <thead>\n",
       "    <tr style=\"text-align: right;\">\n",
       "      <th></th>\n",
       "      <th>nan</th>\n",
       "    </tr>\n",
       "  </thead>\n",
       "  <tbody>\n",
       "    <tr>\n",
       "      <th>Id</th>\n",
       "      <td>0</td>\n",
       "    </tr>\n",
       "    <tr>\n",
       "      <th>MSSubClass</th>\n",
       "      <td>0</td>\n",
       "    </tr>\n",
       "    <tr>\n",
       "      <th>MSZoning</th>\n",
       "      <td>0</td>\n",
       "    </tr>\n",
       "    <tr>\n",
       "      <th>LotFrontage</th>\n",
       "      <td>259</td>\n",
       "    </tr>\n",
       "    <tr>\n",
       "      <th>LotArea</th>\n",
       "      <td>0</td>\n",
       "    </tr>\n",
       "  </tbody>\n",
       "</table>\n",
       "</div>"
      ],
      "text/plain": [
       "             nan\n",
       "Id             0\n",
       "MSSubClass     0\n",
       "MSZoning       0\n",
       "LotFrontage  259\n",
       "LotArea        0"
      ]
     },
     "execution_count": 4,
     "metadata": {},
     "output_type": "execute_result"
    }
   ],
   "source": [
    "# 欠損値の確認\n",
    "\n",
    "# 欠損値の有無を確認する\n",
    "nan_Ames = pd.DataFrame(Ames.isnull().sum()) # 列ごとの欠損値の合計。\n",
    "nan_Ames.columns = [\"nan\"]\n",
    "nan_Ames.head()"
   ]
  },
  {
   "cell_type": "code",
   "execution_count": 5,
   "metadata": {},
   "outputs": [
    {
     "data": {
      "text/html": [
       "<div>\n",
       "<style scoped>\n",
       "    .dataframe tbody tr th:only-of-type {\n",
       "        vertical-align: middle;\n",
       "    }\n",
       "\n",
       "    .dataframe tbody tr th {\n",
       "        vertical-align: top;\n",
       "    }\n",
       "\n",
       "    .dataframe thead th {\n",
       "        text-align: right;\n",
       "    }\n",
       "</style>\n",
       "<table border=\"1\" class=\"dataframe\">\n",
       "  <thead>\n",
       "    <tr style=\"text-align: right;\">\n",
       "      <th></th>\n",
       "      <th>GrLivArea</th>\n",
       "      <th>YearBuilt</th>\n",
       "      <th>SalePrice</th>\n",
       "    </tr>\n",
       "  </thead>\n",
       "  <tbody>\n",
       "    <tr>\n",
       "      <th>0</th>\n",
       "      <td>1710.0</td>\n",
       "      <td>2003.0</td>\n",
       "      <td>208500.0</td>\n",
       "    </tr>\n",
       "    <tr>\n",
       "      <th>1</th>\n",
       "      <td>1262.0</td>\n",
       "      <td>1976.0</td>\n",
       "      <td>181500.0</td>\n",
       "    </tr>\n",
       "    <tr>\n",
       "      <th>2</th>\n",
       "      <td>1786.0</td>\n",
       "      <td>2001.0</td>\n",
       "      <td>223500.0</td>\n",
       "    </tr>\n",
       "    <tr>\n",
       "      <th>3</th>\n",
       "      <td>1717.0</td>\n",
       "      <td>1915.0</td>\n",
       "      <td>140000.0</td>\n",
       "    </tr>\n",
       "    <tr>\n",
       "      <th>4</th>\n",
       "      <td>2198.0</td>\n",
       "      <td>2000.0</td>\n",
       "      <td>250000.0</td>\n",
       "    </tr>\n",
       "  </tbody>\n",
       "</table>\n",
       "</div>"
      ],
      "text/plain": [
       "   GrLivArea  YearBuilt  SalePrice\n",
       "0     1710.0     2003.0   208500.0\n",
       "1     1262.0     1976.0   181500.0\n",
       "2     1786.0     2001.0   223500.0\n",
       "3     1717.0     1915.0   140000.0\n",
       "4     2198.0     2000.0   250000.0"
      ]
     },
     "execution_count": 5,
     "metadata": {},
     "output_type": "execute_result"
    }
   ],
   "source": [
    "# GrLivAreaとYearBuiltと目的変数SalePriceを抜き出す\n",
    "Ames = Ames.loc[:, [\"GrLivArea\", \"YearBuilt\", \"SalePrice\"]]\n",
    "Ames = Ames.astype(float)\n",
    "Ames.head()"
   ]
  },
  {
   "cell_type": "code",
   "execution_count": 6,
   "metadata": {
    "scrolled": false
   },
   "outputs": [
    {
     "name": "stdout",
     "output_type": "stream",
     "text": [
      "X\n",
      "(1460, 2)\n",
      "(1460, 1)\n",
      "float64\n",
      "X_train\n",
      "(1168, 2)\n",
      "[[ 0.60188649  1.18803167]\n",
      " [-1.21671763 -0.29250097]\n",
      " [-1.08041967 -1.64143071]\n",
      " [ 0.3312377   1.02352804]]\n",
      "y_train\n",
      "(1168,)\n",
      "[314813. 109500. 163500. 271000.]\n",
      "X_test\n",
      "(292, 2)\n",
      "[[ 1.93955355 -0.4570046 ]\n",
      " [ 0.11510809 -0.9834162 ]\n",
      " [-0.61505952 -0.68730967]\n",
      " [ 0.97962654  0.20100991]]\n",
      "y_test\n",
      "(292,)\n",
      "[200624. 133000. 110000. 192000.]\n"
     ]
    }
   ],
   "source": [
    "# 訓練用（train）データ８０%、検証用（validation）データ２０%に分割する\n",
    "\n",
    "# 特徴量データから\"GrLivArea\", \"YearBuilt\"を抜き出しXに格納\n",
    "X = Ames.loc[:, [\"GrLivArea\", \"YearBuilt\"]]\n",
    "X = np.array(X)\n",
    "X = X.astype(float)\n",
    "print(\"X\\n{}\".format(X.shape))\n",
    "\n",
    "# 目的変数SalePrice列を抜き出し、yのndarrayに格納\n",
    "# 特徴量をX,目的変数をyのndarrayに格納\n",
    "y = Ames.loc[:, [\"SalePrice\"]]\n",
    "y = np.array(y)\n",
    "#print(\"y_array\\n{}\".format(y_array[:4]))\n",
    "print(y.shape)\n",
    "\n",
    "y = y.ravel()# 1次元配列に変換\n",
    "y = y.astype(float)\n",
    "print(y.dtype)\n",
    "\n",
    "#print(\"１次元配列に変換したy_array\\n{}\".format(y_array[:4]))\n",
    "\n",
    "\n",
    "# データを訓練用と検証用に分割 \n",
    "X_train, X_test, y_train, y_test = train_test_split(\n",
    "    X, y, train_size=0.8, test_size=0.2, random_state=0)\n",
    "\n",
    "# Xの標準化\n",
    "scaler = StandardScaler()\n",
    "scaler.fit(X_train)\n",
    "X_train = scaler.transform(X_train)\n",
    "X_test = scaler.transform(X_test)\n",
    "\n",
    "print(\"X_train\")\n",
    "print(X_train.shape)\n",
    "print(X_train[:4])\n",
    "print(\"y_train\")\n",
    "print(y_train.shape)\n",
    "print(y_train[:4])\n",
    "print(\"X_test\")\n",
    "print(X_test.shape)\n",
    "print(X_test[:4])\n",
    "print(\"y_test\") \n",
    "print(y_test.shape)\n",
    "print(y_test[:4])"
   ]
  },
  {
   "cell_type": "markdown",
   "metadata": {},
   "source": [
    "### 【問題1】ブレンディングのスクラッチ実装"
   ]
  },
  {
   "cell_type": "code",
   "execution_count": 7,
   "metadata": {
    "scrolled": true
   },
   "outputs": [
    {
     "name": "stdout",
     "output_type": "stream",
     "text": [
      "正解：y_test\n",
      "[200624. 133000. 110000. 192000.]\n",
      "単一モデル(線形回帰)：推定\n",
      "[264908.90812295 155745.99630863 127984.53226316 236857.47974938]\n",
      "MSE:\n",
      "2942066921.672107\n"
     ]
    }
   ],
   "source": [
    "# 単一モデル　：線形回帰\n",
    "reg = LinearRegression().fit(X_train, y_train) # 学習\n",
    "one_pre = reg.predict(X_test) # 推定\n",
    "\n",
    "print(\"正解：y_test\\n{}\".format(y_test[:4]))\n",
    "print(\"単一モデル(線形回帰)：推定\\n{}\".format(one_pre[:4]))\n",
    "\n",
    "# 平均二乗誤差（MSE）\n",
    "mse = mean_squared_error(y_test, one_pre)\n",
    "print(\"MSE:\\n{}\".format(mse))"
   ]
  },
  {
   "cell_type": "markdown",
   "metadata": {},
   "source": [
    "#### モデル１（線形回帰／SVM／決定木のブレンド）"
   ]
  },
  {
   "cell_type": "code",
   "execution_count": 8,
   "metadata": {
    "scrolled": true
   },
   "outputs": [
    {
     "name": "stdout",
     "output_type": "stream",
     "text": [
      "線形回帰（単一モデル）MSE:\n",
      "2942066921.672107\n",
      "SVM（単一モデル）MSE:\n",
      "7221625115.268777\n",
      "決定木（単一モデル）MSE:\n",
      "2695315830.674088\n"
     ]
    }
   ],
   "source": [
    "#モデル１\n",
    "#線形回帰\n",
    "#SVM\n",
    "#決定木\n",
    "\n",
    "# 線形回帰による学習、推定\n",
    "m1_reg = LinearRegression().fit(X_train, y_train) # 学習\n",
    "m1_reg_pred = m1_reg.predict(X_test) # 推定\n",
    "#print(\"線形回帰（単一モデル）：推定\\n{}\".format(m1_reg_pred[:4]))\n",
    "# 平均二乗誤差（MSE）\n",
    "mse = mean_squared_error(y_test, m1_reg_pred)\n",
    "print(\"線形回帰（単一モデル）MSE:\\n{}\".format(mse))\n",
    "\n",
    "# SVMによる学習、推定\n",
    "m1_svr = SVR(gamma='scale', C=1.0, epsilon=0.2)\n",
    "m1_svr.fit(X_train, y_train) # 学習\n",
    "m1_svr_pred = m1_svr.predict(X_test) # 推定\n",
    "#print(\"SVM（単一モデル）:推定\\n{}\".format(m1_svr_pred[:4]))\n",
    "# 平均二乗誤差（MSE）\n",
    "mse = mean_squared_error(y_test, m1_svr_pred)\n",
    "print(\"SVM（単一モデル）MSE:\\n{}\".format(mse))\n",
    "\n",
    "# 決定木による学習、推定\n",
    "m1_tree = DecisionTreeRegressor(max_depth = 3)\n",
    "m1_tree.fit(X_train, y_train)\n",
    "m1_tree_pred = m1_tree.predict(X_test)\n",
    "#print(\"決定木（単一モデル）:推定\\n{}\".format(m1_tree_pred[:4]))\n",
    "# 平均二乗誤差（MSE）\n",
    "mse = mean_squared_error(y_test, m1_tree_pred)\n",
    "print(\"決定木（単一モデル）MSE:\\n{}\".format(mse))\n"
   ]
  },
  {
   "cell_type": "code",
   "execution_count": 16,
   "metadata": {},
   "outputs": [
    {
     "name": "stdout",
     "output_type": "stream",
     "text": [
      "単一モデル（線形回帰）のMSE:\n",
      "2942066921.672107\n",
      "モデル１(線形回帰/SVM/決定木のブレンド)のMSE:\n",
      "2706205467.478844\n"
     ]
    }
   ],
   "source": [
    "# 推定方法の精度を踏まえ、重み付け（線形回帰０.２、SVM０.６、決定木０.２）\n",
    "\n",
    "m1_reg_weight = np.array(m1_reg_pred*0.1)\n",
    "m1_svr_weight = np.array(m1_svr_pred*0.1)\n",
    "m1_tree_weight = np.array(m1_tree_pred*0.8)\n",
    "\n",
    "m1 = m1_reg_weight +  m1_svr_weight + m1_tree_weight\n",
    "\n",
    "# 平均二乗誤差（MSE）\n",
    "mse = mean_squared_error(y_test, one_pre)\n",
    "print(\"単一モデル（線形回帰）のMSE:\\n{}\".format(mse))\n",
    "mse = mean_squared_error(y_test, m1)\n",
    "print(\"モデル１(線形回帰/SVM/決定木のブレンド)のMSE:\\n{}\".format(mse))\n"
   ]
  },
  {
   "cell_type": "markdown",
   "metadata": {},
   "source": [
    "#### ⬆︎モデル１(線形回帰/SVM/決定木のブレンド)で線形回帰の単一モデルより精度が上がった"
   ]
  },
  {
   "cell_type": "markdown",
   "metadata": {},
   "source": [
    "### モデル２"
   ]
  },
  {
   "cell_type": "code",
   "execution_count": 10,
   "metadata": {},
   "outputs": [
    {
     "name": "stdout",
     "output_type": "stream",
     "text": [
      "[[ 0.60188649  1.18803167]\n",
      " [-1.21671763 -0.29250097]\n",
      " [-1.08041967 -1.64143071]\n",
      " [ 0.3312377   1.02352804]]\n",
      "[[ 1.93955355 -0.4570046 ]\n",
      " [ 0.11510809 -0.9834162 ]\n",
      " [-0.61505952 -0.68730967]\n",
      " [ 0.97962654  0.20100991]]\n"
     ]
    }
   ],
   "source": [
    "# モデル２\n",
    "#　標準化、\n",
    "# グリッドリサーチしたSVM\n",
    "# \n",
    "\n",
    "# Xの標準化\n",
    "scaler = StandardScaler()\n",
    "scaler.fit(X_train)\n",
    "X_train = scaler.transform(X_train)\n",
    "X_test = scaler.transform(X_test)\n",
    "print(X_train[:4, :])\n",
    "print(X_test[:4, :])"
   ]
  },
  {
   "cell_type": "code",
   "execution_count": 11,
   "metadata": {},
   "outputs": [],
   "source": [
    "# モデル３\n",
    "\n"
   ]
  },
  {
   "cell_type": "code",
   "execution_count": 12,
   "metadata": {},
   "outputs": [
    {
     "name": "stdout",
     "output_type": "stream",
     "text": [
      "[[0. 0.]]\n"
     ]
    }
   ],
   "source": [
    "X_train = np.zeros((1, X.shape[1]))\n",
    "print(X_train)"
   ]
  },
  {
   "cell_type": "markdown",
   "metadata": {},
   "source": [
    "### 【問題2】バギングのスクラッチ実装"
   ]
  },
  {
   "cell_type": "code",
   "execution_count": 13,
   "metadata": {},
   "outputs": [],
   "source": [
    "# N種類のサブセットを作成、線形回帰で学習と推定の関数\n",
    "class ScratchBagging():\n",
    "        \n",
    "    # XデータをN回抽出して結合する関数(Xのshape)\n",
    "    def Bootstrap(self, X, y, N):\n",
    "        self.X_0 = np.empty((0, X.shape[1])) # 空の配列を用意\n",
    "        self.y_0 = np.empty((0, )) # 空の配列を用意\n",
    "        for i in range(N+1): # Nでサンプル数が割り切れないことがあるので多めに作る\n",
    "            X_0, X_, y_0, y_ = train_test_split(\n",
    "                X, y, train_size=(1/N), test_size=(1-(1/N)), shuffle=True, random_state=None)\n",
    "            self.X_0 = np.array(X_0)\n",
    "            self.y_0 = np.array(y_0)\n",
    "            self.X_0 = np.append(self.X_0, X_0, axis=0)\n",
    "            self.y_0 = np.append(self.y_0, y_0, axis=0)\n",
    "        \n",
    "        self.X_0 = self.X_0[:X.shape[0], :] # Xの行数以上の行は削除\n",
    "        self.y_0 = self.y_0[:y.shape[0]]\n",
    "\n",
    "        #print(self.X_0.shape)\n",
    "        return self.X_0, self.y_0\n",
    "        \n",
    "    def fit_predict(self, model, X, y, N):\n",
    "        \n",
    "        # 固定用ブートストラップサンプル１個作る(固定のX_test作るため)\n",
    "        X_fix, y_fix = self.Bootstrap(X, y, N)\n",
    "        \n",
    "        #20%のX_testを取り出す\n",
    "        X_train_fix, X_test_fix, y_, self.y_test_fix= train_test_split(\n",
    "                X_fix, y_fix, train_size=0.8, test_size=0.2, shuffle=True, random_state=0)\n",
    "        # X_testの標準化\n",
    "        scaler = StandardScaler()\n",
    "        scaler.fit(X_train_fix)\n",
    "        X_test_fix = scaler.transform(X_test_fix)#yじゃないからやってよし？\n",
    "        \n",
    "        # 指定したmodelでN回推定\n",
    "        self.N_pred = [] # N回分の推定値を入れるリスト\n",
    "        for i in range(N):\n",
    "            X_n, y_n = self.Bootstrap(X, y, N) # ブートストラップサンプル１個作る(Xのshape)\n",
    "            \n",
    "            # X,yのtrainデータを取り出す\n",
    "            X_train, X_, y_train, y_ = train_test_split(\n",
    "                X_n, y_n, train_size=0.8, test_size=0.2, shuffle=True, random_state=None)\n",
    "            X_train = np.array(X_train)\n",
    "            y_train = np.array(y_train)\n",
    "\n",
    "            # X_trainの標準化\n",
    "            scaler.fit(X_train)\n",
    "            X_train = scaler.transform(X_train) \n",
    "\n",
    "            # yを1次元に直す（modelに入れた時エラー出ないように）\n",
    "            y_train = np.ravel(y_train)\n",
    "            \n",
    "            #指定のモデルで学習する(インスタンス化)\n",
    "            fit_model = model.fit(X_train, y_train)\n",
    "            \n",
    "            #推定\n",
    "            fit_model_pred = fit_model.predict(X_test_fix)\n",
    "            self.N_pred.append(fit_model_pred) # 推定結果をリストに追加していく\n",
    "        \n",
    "        #N個の推定値をnumpyに直す\n",
    "        self.N_pred = np.array(self.N_pred)\n",
    "        #print(self.N_pred.shape)\n",
    "        \n",
    "        #推定値の平均を返す\n",
    "        self.N_pred = np.mean(self.N_pred, axis=0)\n",
    "\n",
    "        return self.N_pred\n"
   ]
  },
  {
   "cell_type": "code",
   "execution_count": 14,
   "metadata": {
    "scrolled": true
   },
   "outputs": [
    {
     "name": "stdout",
     "output_type": "stream",
     "text": [
      "\n",
      "バギングした線形回帰のMSE:\n",
      "1887472131.870954\n",
      "線形回帰のMSE:\n",
      "2942066921.672107\n",
      "\n",
      "バギングしたSVMのMSE:\n",
      "5319702684.948857\n",
      "SVMのMSE:\n",
      "7235023974.812659\n",
      "\n",
      "バギングした決定木のMSE:\n",
      "1224625919.9329352\n",
      "決定木のMSE:\n",
      "2695315830.674088\n"
     ]
    }
   ],
   "source": [
    "#モデルのメモ\n",
    "\n",
    "# SVM\n",
    "# \n",
    "\n",
    "# ScratchBagging(線形回帰: LinearRegression()) で推定\n",
    "n4 = ScratchBagging()\n",
    "n4_pred = n4.fit_predict(LinearRegression(), X, y, 4)\n",
    "n4_y_test = n4.y_test_fix\n",
    "mse = mean_squared_error(n4_y_test, n4_pred)\n",
    "print(\"\\nバギングした線形回帰のMSE:\\n{}\".format(mse))\n",
    "mse = mean_squared_error(y_test, one_pre)\n",
    "print(\"線形回帰のMSE:\\n{}\".format(mse))\n",
    "\n",
    "# ScratchBagging(SVM：SVR(gamma='scale', C=1.0, epsilon=0.2)) で推定\n",
    "n4_pred = n4.fit_predict(SVR(gamma='scale', C=1.0, epsilon=0.2), X, y, 4)\n",
    "n4_y_test = n4.y_test_fix\n",
    "mse = mean_squared_error(n4_y_test, n4_pred)\n",
    "print(\"\\nバギングしたSVMのMSE:\\n{}\".format(mse))\n",
    "mse = mean_squared_error(y_test, one_pre)\n",
    "print(\"SVMのMSE:\\n7235023974.812659\")\n",
    "\n",
    "# ScratchBagging(決定木：DecisionTreeRegressor(max_depth = 3)) で推定\n",
    "n4_pred = n4.fit_predict(DecisionTreeRegressor(max_depth = 3), X, y, 4)\n",
    "n4_y_test = n4.y_test_fix\n",
    "mse = mean_squared_error(n4_y_test, n4_pred)\n",
    "print(\"\\nバギングした決定木のMSE:\\n{}\".format(mse))\n",
    "print(\"決定木のMSE:\\n2695315830.674088\")"
   ]
  },
  {
   "cell_type": "markdown",
   "metadata": {},
   "source": [
    "### ⬆︎線形回帰、SVMはバギングで単一モデルより精度が上がった⬆︎"
   ]
  },
  {
   "cell_type": "markdown",
   "metadata": {},
   "source": [
    "### 【問題3】スタッキングのスクラッチ実装"
   ]
  },
  {
   "cell_type": "code",
   "execution_count": 15,
   "metadata": {},
   "outputs": [
    {
     "ename": "SyntaxError",
     "evalue": "invalid character in identifier (<ipython-input-15-eed56a323cf3>, line 19)",
     "output_type": "error",
     "traceback": [
      "\u001b[0;36m  File \u001b[0;32m\"<ipython-input-15-eed56a323cf3>\"\u001b[0;36m, line \u001b[0;32m19\u001b[0m\n\u001b[0;31m    X_train = np.empty((0, X.shape[1]))　# 0\u001b[0m\n\u001b[0m                                       ^\u001b[0m\n\u001b[0;31mSyntaxError\u001b[0m\u001b[0;31m:\u001b[0m invalid character in identifier\n"
     ]
    }
   ],
   "source": [
    "# ステージ０\n",
    "\n",
    "# N種類のサブセットを作成、線形回帰で学習と推定の関数\n",
    "class ScratchStacking():\n",
    "    \n",
    "    # ステージ０\n",
    "    \n",
    "    # 以下をMモデル分繰り返し、M個のブレンドデータを得る\n",
    "    \n",
    "        # 以下をK回繰り返してインスタンスをK個作る（ブレンドデータ）\n",
    "            # Xをtrainとvalidationに分割\n",
    "            # モデル１でtrainで学習、validationで推定する\n",
    "     \n",
    "    # ステージ１\n",
    "    \n",
    "    # ステージ０のブレンドデータを\n",
    "    \n",
    "    def make_X_train(self, X, N):\n",
    "        X_train = np.empty((0, X.shape[1]))　# 0\n",
    "        for i in range(N+1): # Nでサンプル数が割り切れないことがあるので多めに作る\n",
    "            #X_train, X_test = train_test_split(X, test_size=(1/N), train_size=(1-(1/N)), shuffle=True, random_state=None)\n",
    "            #X_t = np.array(X_t) # shape(365.2)\n",
    "            #X_test = np.append(X_test, X_t, axis=0)\n",
    "            #X_train をまとめたデータ作る\n",
    "\n",
    "        #print(X_train.shape)\n",
    "        X_train = X_train[:X.shape[0], :] # Xのサンプル数以上の行は削除\n",
    "        #print(X_train.shape)\n",
    "        return X_train, X_test\n",
    "        \n",
    "    def brend(self, model1, model2, model3, X, y, N):\n",
    "        \n",
    "        #train_testに分割\n",
    "        X_train, X_test = train_test_split(\n",
    "            X, test_size=(1/N), train_size=(1-(1/N)), shuffle=True, random_state=None)\n",
    "                \n",
    "        y = np.ravel(y)# SVMでエラーが出るので、１次元配列にする                \n",
    "        self.N_pred = [] # N回分の推定値を入れるリスト\n",
    "        \n",
    "        # 指定したmodel１、２、３で推定\n",
    "        model_list = [model1, model2, model3]\n",
    "        for i in range(len(model_list)):\n",
    "            \n",
    "            model[i].fit(X_train, y) # インスタンス化、学習\n",
    "            self.N_pred.append(model[i].predict(X_train)) # 推定結果をリストに追加していく\n",
    "        \n",
    "        self.N_pred = np.array(self.N_pred)\n",
    "        #print(self.N_pred.shape)\n",
    "        \n",
    "        #推定値の平均を返す\n",
    "        self.N_pred = np.mean(self.N_pred, axis=0)\n",
    "\n",
    "        return self.N_pred\n"
   ]
  },
  {
   "cell_type": "code",
   "execution_count": null,
   "metadata": {},
   "outputs": [],
   "source": [
    "X_train = np.empty((0, X.shape[1]))\n",
    "print(X_train)\n",
    "print(X_train.shape)"
   ]
  },
  {
   "cell_type": "code",
   "execution_count": null,
   "metadata": {},
   "outputs": [],
   "source": []
  },
  {
   "cell_type": "code",
   "execution_count": null,
   "metadata": {},
   "outputs": [],
   "source": []
  },
  {
   "cell_type": "code",
   "execution_count": null,
   "metadata": {},
   "outputs": [],
   "source": []
  }
 ],
 "metadata": {
  "kernelspec": {
   "display_name": "Python 3",
   "language": "python",
   "name": "python3"
  },
  "language_info": {
   "codemirror_mode": {
    "name": "ipython",
    "version": 3
   },
   "file_extension": ".py",
   "mimetype": "text/x-python",
   "name": "python",
   "nbconvert_exporter": "python",
   "pygments_lexer": "ipython3",
   "version": "3.7.3"
  }
 },
 "nbformat": 4,
 "nbformat_minor": 2
}
