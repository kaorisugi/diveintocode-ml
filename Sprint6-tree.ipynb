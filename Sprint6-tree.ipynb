{
 "cells": [
  {
   "cell_type": "markdown",
   "metadata": {},
   "source": [
    "# Sprint 機械学習スクラッチ　決定木"
   ]
  },
  {
   "cell_type": "code",
   "execution_count": 1,
   "metadata": {},
   "outputs": [],
   "source": [
    "import numpy as np\n",
    "import pandas as pd\n",
    "from sklearn.model_selection import train_test_split\n",
    "from sklearn.preprocessing import StandardScaler\n",
    "# 評価\n",
    "from sklearn.metrics import classification_report\n",
    "from sklearn.metrics import accuracy_score\n",
    "# 可視化\n",
    "import matplotlib.pyplot as plt\n",
    "#import japanize_matplotlib\n",
    "from matplotlib.colors import ListedColormap\n",
    "import matplotlib.patches as mpatches\n",
    "from sklearn.metrics import accuracy_score, confusion_matrix, precision_score, recall_score, f1_score"
   ]
  },
  {
   "cell_type": "markdown",
   "metadata": {},
   "source": [
    "### 【問題1】不純度を求める関数\n",
    "ノード の ジニ不純度 を計算する関数を作成してください。ノード tに対するジニ不純度 I(t)は以下の数式で求まります。クラスが混じり合っているほどジニ不純度は高くなります。"
   ]
  },
  {
   "cell_type": "code",
   "execution_count": 2,
   "metadata": {},
   "outputs": [
    {
     "name": "stdout",
     "output_type": "stream",
     "text": [
      "0.5\n",
      "0.6666666666666667\n",
      "0.48\n",
      "0.0\n"
     ]
    }
   ],
   "source": [
    "# 手計算\n",
    "#A:クラス1:サンプル数15, クラス2:サンプル数15 → ジニ不純度0.500\n",
    "A = 1- ((15/30)**2 + (15/30)**2)\n",
    "print(A)\n",
    "\n",
    "# B:クラス1:サンプル数15, クラス2:サンプル数15, クラス3:サンプル数15 → ジニ不純度0.667\n",
    "B = 1- ((15/45)**2 + (15/45)**2 + (15/45)**2)\n",
    "print(B)\n",
    "\n",
    "# C:クラス1:サンプル数18, クラス2:サンプル数12 → ジニ不純度0.480\n",
    "C = 1- ((18/30)**2 + (12/30)**2)\n",
    "print(C)\n",
    "\n",
    "# D:クラス1:サンプル数30, クラス2:サンプル数0 → ジニ不純度0.000\n",
    "D = 1- ((30/30)**2 + (0/30)**2)\n",
    "print(D)\n"
   ]
  },
  {
   "cell_type": "code",
   "execution_count": 3,
   "metadata": {},
   "outputs": [],
   "source": [
    "#不純度を求める関数\n",
    "def gini(c):\n",
    "    # クラスラベル\n",
    "    n_class = np.unique(c)\n",
    "    # サンプル数\n",
    "    n_all = len(c)\n",
    "    # シグマの初期化\n",
    "    sigma = 0\n",
    "    # ひとつひとつのクラスラベルについて計算する\n",
    "    for label in n_class:\n",
    "        sigma += (np.count_nonzero(c == label)/len(c))**2\n",
    "    gini = 1 - sigma\n",
    "    return gini"
   ]
  },
  {
   "cell_type": "code",
   "execution_count": 4,
   "metadata": {},
   "outputs": [
    {
     "name": "stdout",
     "output_type": "stream",
     "text": [
      "（１）ab_shape: (30,) \n",
      " [0. 0. 0. 0. 0. 0. 0. 0. 0. 0. 0. 0. 0. 0. 0. 1. 1. 1. 1. 1. 1. 1. 1. 1.\n",
      " 1. 1. 1. 1. 1. 1.]\n",
      "gini(1) 0.5\n",
      "\n",
      "（２）abc_shape: (45,) \n",
      " [0. 0. 0. 0. 0. 0. 0. 0. 0. 0. 0. 0. 0. 0. 0. 1. 1. 1. 1. 1. 1. 1. 1. 1.\n",
      " 1. 1. 1. 1. 1. 1. 2. 2. 2. 2. 2. 2. 2. 2. 2. 2. 2. 2. 2. 2. 2.]\n",
      "gini(2) 0.6666666666666667\n"
     ]
    }
   ],
   "source": [
    "a = np.zeros(15)\n",
    "b = np.ones(15)\n",
    "c = np.full(15, 2)\n",
    "# クラス1:サンプル数15, クラス2:サンプル数15 →ジニ不純度0.500\n",
    "ab = np.concatenate([a,b],axis=0)\n",
    "# クラス1:サンプル数15,クラス2:サンプル数15, クラス3:サンプル数15 → ジニ不純度0.667\n",
    "abc = np.concatenate([a,b,c],axis=0)\n",
    "print('（１）ab_shape:',ab.shape,'\\n',ab)\n",
    "print('gini(1)',gini(ab))\n",
    "\n",
    "print('\\n（２）abc_shape:',abc.shape,'\\n',abc)\n",
    "print('gini(2)',gini(abc))"
   ]
  },
  {
   "cell_type": "markdown",
   "metadata": {},
   "source": [
    "### 【問題2】情報利得を求める関数\n",
    "次に、ノード間の 情報利得 を計算する関数を作成してください。問題1で作成したジニ不純度 \n",
    "I(t)を計算する関数を呼び出して使います。情報利得IGは以下の数式で求まります。うまく分けられている時ほど情報利得は大きくなります。\n",
    "ここで分岐は2つのみであるため、分岐先を「左側のノード・右側のノード」と呼びます。"
   ]
  },
  {
   "cell_type": "code",
   "execution_count": 5,
   "metadata": {},
   "outputs": [
    {
     "name": "stdout",
     "output_type": "stream",
     "text": [
      "0.4970414201183432\n",
      "0.375\n",
      "0.31999999999999984\n",
      "情報利得 0.14319526627218937\n"
     ]
    }
   ],
   "source": [
    "#手計算\n",
    "gini_p = 1 - ((30/65)**2 + (35/65)**2)\n",
    "print(gini_p)\n",
    "\n",
    "gini_left = 1-((10/40)**2 + (30/40)**2)\n",
    "print(gini_left)\n",
    "\n",
    "gini_right = 1 - ((20/25)**2 + (5/25)**2)\n",
    "print(gini_right)\n",
    "\n",
    "info_profit = gini_p - (40/65)*gini_left - (25/65)*gini_right\n",
    "print(\"情報利得\", info_profit)"
   ]
  },
  {
   "cell_type": "code",
   "execution_count": 6,
   "metadata": {},
   "outputs": [],
   "source": [
    "# 情報利得関数（left,rightは決めてある場合）\n",
    "\n",
    "def info_G(N,left,right):\n",
    "    # 親ノードのジニ\n",
    "    Ip = gini(N)\n",
    "    print('IP:',Ip)\n",
    "    # 左子ノード\n",
    "    left = (len(left)/len(N))*gini(left)\n",
    "    print('left:',left)\n",
    "    # 右子ノード\n",
    "    right = (len(right)/len(N))*gini(right)\n",
    "    print('right:',right)\n",
    "    # 情報利得を計算\n",
    "    IG = Ip - left - right\n",
    "    print('情報利得:',IG)\n",
    "    return IG"
   ]
  },
  {
   "cell_type": "code",
   "execution_count": 7,
   "metadata": {},
   "outputs": [
    {
     "name": "stdout",
     "output_type": "stream",
     "text": [
      "N_left_shape (40,)\n",
      "N_right_shape (25,)\n",
      "N_all_shape (65,)\n"
     ]
    }
   ],
   "source": [
    "a = np.zeros(10)\n",
    "b = np.ones(30)\n",
    "N_left = np.concatenate([a,b],axis=0)\n",
    "print('N_left_shape',N_left.shape)\n",
    "c = np.zeros(20)\n",
    "d = np.ones(5)\n",
    "N_right = np.concatenate([c,d],axis=0)\n",
    "print('N_right_shape',N_right.shape)\n",
    "N_all = np.concatenate([N_left,N_right],axis=0)\n",
    "print('N_all_shape',N_all.shape)"
   ]
  },
  {
   "cell_type": "code",
   "execution_count": 8,
   "metadata": {},
   "outputs": [
    {
     "name": "stdout",
     "output_type": "stream",
     "text": [
      "IP: 0.4970414201183432\n",
      "left: 0.23076923076923078\n",
      "right: 0.12307692307692303\n",
      "情報利得: 0.14319526627218937\n"
     ]
    },
    {
     "data": {
      "text/plain": [
       "0.14319526627218937"
      ]
     },
     "execution_count": 8,
     "metadata": {},
     "output_type": "execute_result"
    }
   ],
   "source": [
    "info_G(N_all,N_left,N_right)"
   ]
  },
  {
   "cell_type": "markdown",
   "metadata": {},
   "source": [
    "## 【問題3】学習\n",
    "空間の分割を行い、決定木のグラフを生成するコードを作成してください。今は深さ1の決定木なので、分割を1回だけ行います。ここでグラフを生成するとは、1回の分割の際の条件としてどの特徴量がいくつ以上の時とするかを求めるということです。\n",
    "\n",
    "訓練データに対して全ての組み合わせの分割を行い、その中でノード間の情報利得が最大となる分割をそのノードの分割基準として記録します。\n",
    "\n",
    "クラスが混ざらない不純度が0のノード、または指定された深さのノードが 葉ノード となります。葉ノードにはクラスを記録しておき、これを推定時に分類するクラスとします。クラスが混ざらない場合はそのままのクラスを記録し、混ざっている場合は多数決により決めます。"
   ]
  },
  {
   "cell_type": "markdown",
   "metadata": {},
   "source": [
    "## 【問題4】推定\n",
    "推定する仕組みを実装してください。ScratchDecesionTreeClassifierDepth1クラスの雛形に含まれるpredictメソッドに書き加えてください。\n",
    "\n",
    "入力されたデータの値を学習した条件で判定していき、どの葉ノードに到達するかを見ます。葉ノードにはクラスが記録されているので、これが推定値となります。"
   ]
  },
  {
   "cell_type": "code",
   "execution_count": 9,
   "metadata": {},
   "outputs": [],
   "source": [
    "class ScratchDecesionTreeClassifierDepth1():\n",
    "    \"\"\"\n",
    "    深さ1の決定木分類器のスクラッチ実装\n",
    "\n",
    "    Parameters\n",
    "    ----------\n",
    "    verbose : bool\n",
    "      学習過程を出力する場合はTrue\n",
    "    \"\"\"\n",
    "\n",
    "    def __init__(self, verbose=False):\n",
    "        # ハイパーパラメータを属性として記録\n",
    "        self.verbose = verbose\n",
    "\n",
    "    def gini_score(self,c):\n",
    "        \"\"\"\n",
    "        ジニ不純度を計算する\n",
    "        \n",
    "        Parameters\n",
    "        ----------\n",
    "        c : ndarray\n",
    "        \"\"\"\n",
    "        n_class = np.unique(c)\n",
    "        n_all = len(c)\n",
    "        sigma = 0\n",
    "        for label in n_class:\n",
    "            sigma += (np.count_nonzero(c == label)/len(c))**2\n",
    "        gini = 1 - sigma\n",
    "        return gini    \n",
    "    \n",
    "    def information_gain(self,N,left,right):\n",
    "        \"\"\"\n",
    "        情報利得を計算する．\n",
    "        \n",
    "        Parameters\n",
    "        ----------\n",
    "        N : ndarray (n_samples,n_features)\n",
    "        left : ndarray (n_sample,)\n",
    "        right: ndarray (n_samples,)\n",
    "        \"\"\"\n",
    "        Ip = self.gini_score(N)\n",
    "        left = (len(left)/len(N))*self.gini_score(left)\n",
    "        right = (len(right)/len(N))*self.gini_score(right)\n",
    "        IG = Ip - left - right\n",
    "        return IG\n",
    "    \n",
    "\n",
    "    def fit(self, X, y):\n",
    "        \"\"\"\n",
    "        決定木分類器を学習する\n",
    "        Parameters\n",
    "        ----------\n",
    "        X : 次の形のndarray, shape (n_samples, n_features)\n",
    "            学習用データの特徴量\n",
    "        y : 次の形のndarray, shape (n_samples, )\n",
    "            学習用データの正解値\n",
    "        \"\"\"\n",
    "        # 特徴量の数\n",
    "        num_features = X.shape[1]\n",
    "        # forの中でのX\n",
    "        split_points_list = []\n",
    "        # 特徴量ごとの情報利得\n",
    "        info_gain_list = []\n",
    "        # 特徴量の数だけ回まわして，Xを全部取り出す\n",
    "        for f in range(num_features):\n",
    "            # 重複するものは計算しない．\n",
    "            uniq_feature = np.unique(X[:, f])\n",
    "            # 情報利得\n",
    "            ig_list = []\n",
    "            # 取り出したXすべてでIGを計算していく．\n",
    "            for val in uniq_feature:\n",
    "                # x以上ならleft，以下ならright\n",
    "                n_l,n_r = [y[X[:, f] >= val], y[X[:, f] < val]]\n",
    "                ig = self.information_gain(y,n_l,n_r)\n",
    "                ig_list.append(ig)\n",
    "\n",
    "            # Xを特徴量ごとにリスト化\n",
    "            split_points_list.append(uniq_feature.tolist())\n",
    "            # 情報利得を特徴量ごとに保存\n",
    "            info_gain_list.append(ig_list)\n",
    "            \n",
    "        # 特徴量ごとに情報利得が最大なものを取り出す\n",
    "        for f in range(num_features):\n",
    "            x_atmax = split_points_list[f][np.where(info_gain_list[f] == np.max(info_gain_list[f]))[0].tolist()[0]]\n",
    "            y_atmax = np.max(info_gain_list[f])\n",
    "            max_info_gain = np.max(np.max(info_gain_list))\n",
    "                  \n",
    "            # 全特徴量の中から，情報利得が最大のものを記録\n",
    "            if y_atmax == max_info_gain:\n",
    "                # 情報利得が最大の列（特徴量）\n",
    "                self.feature = f\n",
    "                # その特徴量の値\n",
    "                self.threshold = x_atmax\n",
    "                \n",
    "                \n",
    "        # 閾値を超えた特徴量は左\n",
    "        idx_left = X[:, self.feature] >= self.threshold\n",
    "        idx_right = X[:, self.feature] < self.threshold\n",
    "        # 閾値を超えたｙは左\n",
    "        left = y[idx_left]\n",
    "        right = y[idx_right]\n",
    "        \n",
    "        # 多数決\n",
    "        count_left = np.bincount(left)\n",
    "        self.left = np.argmax(count_left)\n",
    "        print('左子ノードのラベル：',self.left)\n",
    "        count_right = np.bincount(right)\n",
    "        self.right = np.argmax(count_right)    \n",
    "        print('右子ノードのラベル',self.right)\n",
    "        \n",
    "        #if self.verbose:\n",
    "            #verboseをTrueにした際は学習過程を出力\n",
    "            #print()\n",
    "        #pass\n",
    "        \n",
    "    def predict(self,X):\n",
    "        \"\"\"\n",
    "        学習で得た閾値で推定する．\n",
    "\n",
    "        Parameters\n",
    "        ----------\n",
    "        X　: ndarray　shape(n_sample,n_feature)\n",
    "        \"\"\"\n",
    "        return np.where(X[:,self.feature] > self.threshold, self.left,self.right)"
   ]
  },
  {
   "cell_type": "markdown",
   "metadata": {},
   "source": [
    "### 【問題5】学習と推定\n",
    "機械学習スクラッチ入門のSprintで用意したシンプルデータセット2の2値分類に対してスクラッチ実装の学習と推定を行なってください。\n",
    "\n",
    "scikit-learnによる実装と比べ、正しく動いているかを確認してください。\n",
    "\n",
    "AccuracyやPrecision、Recallなどの指標値はscikit-learnを使用してください。"
   ]
  },
  {
   "cell_type": "code",
   "execution_count": 10,
   "metadata": {},
   "outputs": [],
   "source": [
    "# シンプルデータセット２\n",
    "X = np.array([[-0.44699 , -2.8073  ],[-1.4621  , -2.4586  ],\n",
    "       [ 0.10645 ,  1.9242  ],[-3.5944  , -4.0112  ],\n",
    "       [-0.9888  ,  4.5718  ],[-3.1625  , -3.9606  ],\n",
    "       [ 0.56421 ,  0.72888 ],[-0.60216 ,  8.4636  ],\n",
    "       [-0.61251 , -0.75345 ],[-0.73535 , -2.2718  ],\n",
    "       [-0.80647 , -2.2135  ],[ 0.86291 ,  2.3946  ],\n",
    "       [-3.1108  ,  0.15394 ],[-2.9362  ,  2.5462  ],\n",
    "       [-0.57242 , -2.9915  ],[ 1.4771  ,  3.4896  ],\n",
    "       [ 0.58619 ,  0.37158 ],[ 0.6017  ,  4.3439  ],\n",
    "       [-2.1086  ,  8.3428  ],[-4.1013  , -4.353   ],\n",
    "       [-1.9948  , -1.3927  ],[ 0.35084 , -0.031994],\n",
    "       [ 0.96765 ,  7.8929  ],[-1.281   , 15.6824  ],\n",
    "       [ 0.96765 , 10.083   ],[ 1.3763  ,  1.3347  ],\n",
    "       [-2.234   , -2.5323  ],[-2.9452  , -1.8219  ],\n",
    "       [ 0.14654 , -0.28733 ],[ 0.5461  ,  5.8245  ],\n",
    "       [-0.65259 ,  9.3444  ],[ 0.59912 ,  5.3524  ],\n",
    "       [ 0.50214 , -0.31818 ],[-3.0603  , -3.6461  ],\n",
    "       [-6.6797  ,  0.67661 ],[-2.353   , -0.72261 ],\n",
    "       [ 1.1319  ,  2.4023  ],[-0.12243 ,  9.0162  ],\n",
    "       [-2.5677  , 13.1779  ],[ 0.057313,  5.4681  ]])\n",
    "y = np.array([0, 0, 0, 0, 0, 0, 0, 0, 0, 0, 0, 0, 0, 0, 0, 0, 0, 0, 0, 0, 1, 1,\n",
    "       1, 1, 1, 1, 1, 1, 1, 1, 1, 1, 1, 1, 1, 1, 1, 1, 1, 1])"
   ]
  },
  {
   "cell_type": "code",
   "execution_count": 11,
   "metadata": {},
   "outputs": [
    {
     "name": "stdout",
     "output_type": "stream",
     "text": [
      "X_train_shape: (28, 2)\n",
      "y_train_shape: (28,)\n",
      "X_test_shape: (12, 2)\n",
      "y_test_shape: (12,)\n",
      "[15 13]\n",
      "左子ノードのラベル： 0\n"
     ]
    },
    {
     "data": {
      "text/plain": [
       "(array([0, 1]), array([15, 13]))"
      ]
     },
     "execution_count": 11,
     "metadata": {},
     "output_type": "execute_result"
    }
   ],
   "source": [
    "#シンプルデータセットの用意\n",
    "# trainとtestに分ける\n",
    "X_train,X_test,y_train,y_test = train_test_split(X,y,random_state=0,test_size=0.3)\n",
    "print('X_train_shape:',X_train.shape)\n",
    "print('y_train_shape:',y_train.shape)\n",
    "print('X_test_shape:',X_test.shape)\n",
    "print('y_test_shape:',y_test.shape)\n",
    "\n",
    "#ノードのラベルづけ\n",
    "count_left = np.bincount(y_train)\n",
    "print(count_left)\n",
    "left = np.argmax(count_left)\n",
    "print('左子ノードのラベル：',left)\n",
    "np.unique(y_train, return_counts=True)"
   ]
  },
  {
   "cell_type": "code",
   "execution_count": null,
   "metadata": {},
   "outputs": [],
   "source": []
  },
  {
   "cell_type": "markdown",
   "metadata": {},
   "source": [
    "## スクラッチした決定木で学習、推定"
   ]
  },
  {
   "cell_type": "code",
   "execution_count": 12,
   "metadata": {},
   "outputs": [
    {
     "name": "stdout",
     "output_type": "stream",
     "text": [
      "左子ノードのラベル： 1\n",
      "右子ノードのラベル 0\n",
      "[1 0 0 0 0 0 0 0 1 1 0 0]\n",
      "[1 1 1 0 0 0 1 0 0 1 1 1]\n"
     ]
    }
   ],
   "source": [
    "# 初期化，学習，推定\n",
    "tree = ScratchDecesionTreeClassifierDepth1()\n",
    "tree.fit(X_train,y_train)\n",
    "y_pred = tree.predict(X_test)\n",
    "print(y_pred)\n",
    "print(y_test)"
   ]
  },
  {
   "cell_type": "code",
   "execution_count": 13,
   "metadata": {},
   "outputs": [
    {
     "name": "stdout",
     "output_type": "stream",
     "text": [
      "accuracy: 0.5\n",
      "              precision    recall  f1-score   support\n",
      "\n",
      "           0       0.44      0.80      0.57         5\n",
      "           1       0.67      0.29      0.40         7\n",
      "\n",
      "    accuracy                           0.50        12\n",
      "   macro avg       0.56      0.54      0.49        12\n",
      "weighted avg       0.57      0.50      0.47        12\n",
      "\n"
     ]
    }
   ],
   "source": [
    "# Accuracy，Precision，Recall\n",
    "from sklearn.metrics import accuracy_score\n",
    "print('accuracy:',accuracy_score(y_test,y_pred))\n",
    "print(classification_report(y_test,y_pred))"
   ]
  },
  {
   "cell_type": "code",
   "execution_count": 14,
   "metadata": {},
   "outputs": [],
   "source": [
    "sdt = ScratchDecesionTreeClassifierDepth1()"
   ]
  },
  {
   "cell_type": "code",
   "execution_count": 15,
   "metadata": {},
   "outputs": [
    {
     "name": "stdout",
     "output_type": "stream",
     "text": [
      "左子ノードのラベル： 1\n",
      "右子ノードのラベル 0\n"
     ]
    }
   ],
   "source": [
    "sdt.fit(X_train, y_train)\n",
    "y_pred = sdt.predict(X_test)"
   ]
  },
  {
   "cell_type": "code",
   "execution_count": 16,
   "metadata": {},
   "outputs": [
    {
     "name": "stdout",
     "output_type": "stream",
     "text": [
      "accuracy: 0.5\n",
      "precision: 0.6666666666666666\n",
      "recall: 0.2857142857142857\n",
      "f1: 0.4\n",
      "matrix\n",
      " [[4 1]\n",
      " [5 2]]\n"
     ]
    }
   ],
   "source": [
    "print(\"accuracy:\", accuracy_score(y_test, y_pred))\n",
    "print(\"precision:\", precision_score(y_test, y_pred))\n",
    "print(\"recall:\", recall_score(y_test, y_pred))\n",
    "print(\"f1:\",f1_score(y_test, y_pred) )\n",
    "print(\"matrix\\n\", confusion_matrix(y_test, y_pred))"
   ]
  },
  {
   "cell_type": "markdown",
   "metadata": {},
   "source": [
    "## sklearnのDecisionTreeClassifierで学習、推定"
   ]
  },
  {
   "cell_type": "code",
   "execution_count": 17,
   "metadata": {},
   "outputs": [],
   "source": [
    "from sklearn.tree import DecisionTreeClassifier\n",
    "# 初期化，学習，推定\n",
    "model = DecisionTreeClassifier(criterion='gini',max_depth=1,random_state=0)\n",
    "model.fit(X_train,y_train)\n",
    "y_pred_sk = model.predict(X_test)"
   ]
  },
  {
   "cell_type": "code",
   "execution_count": 18,
   "metadata": {},
   "outputs": [
    {
     "name": "stdout",
     "output_type": "stream",
     "text": [
      "accuracy: 0.5\n",
      "precision: 0.6666666666666666\n",
      "recall: 0.2857142857142857\n",
      "f1: 0.4\n",
      "matrix\n",
      " [[4 1]\n",
      " [5 2]]\n",
      "accuracy: 0.5\n",
      "              precision    recall  f1-score   support\n",
      "\n",
      "           0       0.44      0.80      0.57         5\n",
      "           1       0.67      0.29      0.40         7\n",
      "\n",
      "    accuracy                           0.50        12\n",
      "   macro avg       0.56      0.54      0.49        12\n",
      "weighted avg       0.57      0.50      0.47        12\n",
      "\n"
     ]
    }
   ],
   "source": [
    "print(\"accuracy:\", accuracy_score(y_test, y_pred))\n",
    "print(\"precision:\", precision_score(y_test, y_pred))\n",
    "print(\"recall:\", recall_score(y_test, y_pred))\n",
    "print(\"f1:\",f1_score(y_test, y_pred) )\n",
    "print(\"matrix\\n\", confusion_matrix(y_test, y_pred))\n",
    "\n",
    "# Accuracy，Precision，Recall\n",
    "print('accuracy:',accuracy_score(y_test,y_pred_sk))\n",
    "print(classification_report(y_test,y_pred_sk))"
   ]
  },
  {
   "cell_type": "markdown",
   "metadata": {},
   "source": []
  },
  {
   "cell_type": "markdown",
   "metadata": {},
   "source": [
    "## 【問題6】決定領域の可視化\n",
    "決定領域を可視化してください。"
   ]
  },
  {
   "cell_type": "code",
   "execution_count": 19,
   "metadata": {},
   "outputs": [],
   "source": [
    "def decision_region(X, y, model, step=0.01, title='decision region', \n",
    "                    xlabel='xlabel', ylabel='ylabel', target_names=['versicolor', 'virginica']):\n",
    "    \"\"\"\n",
    "    2値分類を2次元の特徴量で学習したモデルの決定領域を描く。\n",
    "    背景の色が学習したモデルによる推定値から描画される。\n",
    "    散布図の点は学習用データである。\n",
    "\n",
    "    Parameters\n",
    "    ----------------\n",
    "    X_train : ndarray, shape(n_samples, 2)\n",
    "        学習用データの特徴量\n",
    "    y_train : ndarray, shape(n_samples,)\n",
    "        学習用データの正解値\n",
    "    model : object\n",
    "        学習したモデルのインスンタスを入れる\n",
    "    step : float, (default : 0.1)\n",
    "        推定値を計算する間隔を設定する\n",
    "    title : str\n",
    "        グラフのタイトルの文章を与える\n",
    "    xlabel, ylabel : str\n",
    "        軸ラベルの文章を与える\n",
    "    target_names= : list of str\n",
    "        凡例の一覧を与える\n",
    "    \"\"\"\n",
    "    # setting\n",
    "    scatter_color = ['red', 'blue']\n",
    "    contourf_color = ['pink', 'skyblue']\n",
    "    n_class = 2\n",
    "\n",
    "    # pred\n",
    "    mesh_f0, mesh_f1  = np.meshgrid(np.arange(np.min(X_train[:,0])-0.5, np.max(X_train[:,0])+0.5, step), \n",
    "                                    np.arange(np.min(X_train[:,1])-0.5, np.max(X_train[:,1])+0.5, step))\n",
    "    mesh = np.c_[np.ravel(mesh_f0),np.ravel(mesh_f1)]\n",
    "    pred = model.predict(mesh).reshape(mesh_f0.shape)\n",
    "\n",
    "    # plot\n",
    "    plt.title(title)\n",
    "    plt.xlabel(xlabel)\n",
    "    plt.ylabel(ylabel)\n",
    "    plt.contourf(mesh_f0, mesh_f1, pred, n_class-1, cmap=ListedColormap(contourf_color))\n",
    "    plt.contour(mesh_f0, mesh_f1, pred, n_class-1, colors='y', linewidths=3, alpha=0.5)\n",
    "    for i, target in enumerate(set(y_train)):\n",
    "        plt.scatter(X_train[y_train==target][:, 0], X_train[y_train==target][:, 1], s=80, color=scatter_color[i],\n",
    "                    label=target_names[i], marker='o')\n",
    "    patches = [mpatches.Patch(color=scatter_color[i], label=target_names[i]) for i in range(n_class)]\n",
    "    plt.legend(handles=patches)\n",
    "    plt.legend()\n",
    "    plt.show()"
   ]
  },
  {
   "cell_type": "markdown",
   "metadata": {},
   "source": [
    "## スクラッチ決定木の可視化"
   ]
  },
  {
   "cell_type": "code",
   "execution_count": 20,
   "metadata": {},
   "outputs": [
    {
     "data": {
      "image/png": "[encoded data removed]",
      "text/plain": [
       "<Figure size 432x288 with 1 Axes>"
      ]
     },
     "metadata": {
      "needs_background": "light"
     },
     "output_type": "display_data"
    }
   ],
   "source": [
    "decision_region(X=X_test, y=y_test, model=tree, step=0.01, title='Decision Region', xlabel='f0', ylabel='f1', target_names=['0', '1'])"
   ]
  },
  {
   "cell_type": "markdown",
   "metadata": {},
   "source": [
    "## skleanの決定木"
   ]
  },
  {
   "cell_type": "code",
   "execution_count": 21,
   "metadata": {},
   "outputs": [
    {
     "data": {
      "image/png": "[encoded data removed]",
      "text/plain": [
       "<Figure size 432x288 with 1 Axes>"
      ]
     },
     "metadata": {
      "needs_background": "light"
     },
     "output_type": "display_data"
    }
   ],
   "source": [
    "decision_region(X=X_test, y=y_test, model=model, step=0.01, title='Decision Region', xlabel='f0', ylabel='f1', target_names=['0', '1'])"
   ]
  },
  {
   "cell_type": "code",
   "execution_count": null,
   "metadata": {},
   "outputs": [],
   "source": []
  },
  {
   "cell_type": "code",
   "execution_count": null,
   "metadata": {},
   "outputs": [],
   "source": []
  },
  {
   "cell_type": "code",
   "execution_count": null,
   "metadata": {},
   "outputs": [],
   "source": []
  },
  {
   "cell_type": "code",
   "execution_count": null,
   "metadata": {},
   "outputs": [],
   "source": []
  },
  {
   "cell_type": "code",
   "execution_count": null,
   "metadata": {},
   "outputs": [],
   "source": []
  }
 ],
 "metadata": {
  "kernelspec": {
   "display_name": "Python 3",
   "language": "python",
   "name": "python3"
  },
  "language_info": {
   "codemirror_mode": {
    "name": "ipython",
    "version": 3
   },
   "file_extension": ".py",
   "mimetype": "text/x-python",
   "name": "python",
   "nbconvert_exporter": "python",
   "pygments_lexer": "ipython3",
   "version": "3.7.3"
  }
 },
 "nbformat": 4,
 "nbformat_minor": 2
}
