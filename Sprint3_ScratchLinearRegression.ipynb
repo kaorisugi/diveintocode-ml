{
 "cells": [
  {
   "cell_type": "markdown",
   "metadata": {},
   "source": [
    "# Sprint 機械学習スクラッチ　線形回帰"
   ]
  },
  {
   "cell_type": "code",
   "execution_count": 1,
   "metadata": {},
   "outputs": [],
   "source": [
    "import numpy as np\n",
    "from numpy.random import *\n",
    "import matplotlib.pyplot as plt\n",
    "import pandas as pd\n",
    "from sklearn.model_selection import train_test_split # testとtrain分割\n",
    "\n",
    "# データの読み込み\n",
    "df = pd.read_csv('./train.csv')\n",
    "X = df.loc[:,['GrLivArea','YearBuilt']].values\n",
    "y = df.SalePrice.values\n",
    "\n",
    "# データの前処理\n",
    "X_train,X_test,y_train,y_test = train_test_split(X,y,random_state=0)\n",
    "# 標準化\n",
    "X_train_std = (X_train - X_train.mean()) / X_train.std()\n",
    "X_test_std = (X_test -X_test.mean()) / X_test.std()\n",
    "y_train_std = (y_train - y_train.mean()) / y_train.std()\n",
    "y_test_std = (y_test - y_test.mean()) / y_test.std()"
   ]
  },
  {
   "cell_type": "markdown",
   "metadata": {},
   "source": [
    "### 【問題1】仮定関数\n",
    "以下の数式で表される線形回帰の仮定関数を実装してください。メソッドの雛形を用意してあります。"
   ]
  },
  {
   "cell_type": "code",
   "execution_count": 2,
   "metadata": {},
   "outputs": [],
   "source": [
    "def _linear_hypothesis(X, theta_array):\n",
    "    \"\"\"\n",
    "    線形の仮定関数を計算する\n",
    "\n",
    "    Parameters\n",
    "    ----------\n",
    "    X : 次の形のndarray, shape (n_samples, n_features)\n",
    "      学習データ\n",
    "    theta_array : 次の形のndarray, shape(n_samples, 1)\n",
    "     パラメータベクトル\n",
    "\n",
    "    Returns\n",
    "    -------\n",
    "      Y:次の形のndarray, shape (n_samples, 1)\n",
    "      線形の仮定関数による推定結果\n",
    "\n",
    "    \"\"\"\n",
    "    # 仮定関数\n",
    "    Y = np.dot(X,theta_array)\n",
    "    return Y\n"
   ]
  },
  {
   "cell_type": "code",
   "execution_count": 3,
   "metadata": {},
   "outputs": [
    {
     "name": "stdout",
     "output_type": "stream",
     "text": [
      "X_1_shape : (365, 3)\n",
      "coef_shape： 　 (3,)\n"
     ]
    }
   ],
   "source": [
    "#仮データを作成（HousePrise）\n",
    "# バイアス項の追加\n",
    "X_1 = np.insert(X_test_std, 0, 1, axis=1)\n",
    "# シータの初期値\n",
    "coef = np.random.rand(X_1.shape[1])\n",
    "# パラメータ\n",
    "lr = 0.001\n",
    "\n",
    "# shapeの確認\n",
    "print('X_1_shape :',X_1.shape)\n",
    "print('coef_shape： 　',coef.shape)"
   ]
  },
  {
   "cell_type": "code",
   "execution_count": 4,
   "metadata": {},
   "outputs": [
    {
     "name": "stdout",
     "output_type": "stream",
     "text": [
      "hypothesis_shape： (365,) \n",
      "\n",
      "[0.4512232  0.29614398 0.25713514 0.41216549 0.27303397 0.17193245\n",
      " 0.37897929 0.26174752 0.78403466 0.32382807]\n"
     ]
    }
   ],
   "source": [
    "hypothesis = _linear_hypothesis(X_1,coef)\n",
    "print('hypothesis_shape：',hypothesis.shape,'\\n')\n",
    "print(hypothesis[:10])"
   ]
  },
  {
   "cell_type": "markdown",
   "metadata": {},
   "source": [
    "### 【問題2】最急降下法\n",
    "最急降下法により学習させる実装を行なってください。以下の式で表されるパラメータの更新式のメソッド_gradient_descentを追加し、fitメソッドから呼び出すようにしてください"
   ]
  },
  {
   "cell_type": "code",
   "execution_count": 5,
   "metadata": {
    "scrolled": true
   },
   "outputs": [],
   "source": [
    "def _gradient_descent(X,error,lr,coef):\n",
    "    \"\"\"\n",
    "    最急降下法によるパラメータの更新．\n",
    "\n",
    "    Parameters\n",
    "    ----------\n",
    "    X : 次の形のndarray, shape (n_samples, n_features)\n",
    "    データの特徴量\n",
    "    error : 次の形のndarray, shape (n_samples,)\n",
    "    \n",
    "    Returns\n",
    "    -------\n",
    "      次の形のndarray, shape (n_features,)\n",
    "      線形回帰式の切片と重み\n",
    "\n",
    "    \"\"\"\n",
    "    coef = coef - lr/len(X) * np.dot(error,X)\n",
    "    return coef"
   ]
  },
  {
   "cell_type": "code",
   "execution_count": 6,
   "metadata": {},
   "outputs": [
    {
     "name": "stdout",
     "output_type": "stream",
     "text": [
      "error_shape： (365,)\n",
      "error [ 0.21567671  0.89287055  1.13693103  0.28275769  1.42359183  1.3594124\n",
      " -0.86943848  0.76001519 -6.15134436  0.72609832]\n"
     ]
    }
   ],
   "source": [
    "# 仮データで予測値と実測値の差（error)を確認\n",
    "error = (_linear_hypothesis(X_1,coef)) - y_test_std\n",
    "print('error_shape：',error.shape)\n",
    "print(\"error\",error[:10])"
   ]
  },
  {
   "cell_type": "markdown",
   "metadata": {},
   "source": [
    "### 【問題3】推定\n",
    "推定する仕組みを実装してください。ScratchLinearRegressionクラスの雛形に含まれるpredictメソッドに書き加えてください。\n",
    "\n",
    "仮定関数 hθ(x)の出力が推定結果です。"
   ]
  },
  {
   "cell_type": "code",
   "execution_count": 7,
   "metadata": {},
   "outputs": [],
   "source": [
    "def predict(X,theta_array):\n",
    "    \"\"\"\n",
    "    線形回帰を使い推定する。\n",
    "\n",
    "    Parameters\n",
    "    ----------\n",
    "    X : 次の形のndarray, shape (n_samples, n_features)\n",
    "        サンプル\n",
    "\n",
    "    Returns\n",
    "    -------\n",
    "        次の形のndarray, shape (n_samples, 1)\n",
    "        線形回帰による推定結果\n",
    "    \"\"\"\n",
    "    y_pred = np.dot(X,theta_array).reshape(-1,1)\n",
    "    return y_pred"
   ]
  },
  {
   "cell_type": "code",
   "execution_count": 8,
   "metadata": {},
   "outputs": [
    {
     "name": "stdout",
     "output_type": "stream",
     "text": [
      "y_pred_shape： (365, 1)\n",
      "y_test_shape： (365,)\n",
      "\n",
      "predict：\n",
      " [[0.4512232 ]\n",
      " [0.29614398]\n",
      " [0.25713514]\n",
      " [0.41216549]\n",
      " [0.27303397]\n",
      " [0.17193245]\n",
      " [0.37897929]\n",
      " [0.26174752]\n",
      " [0.78403466]\n",
      " [0.32382807]]\n"
     ]
    }
   ],
   "source": [
    "#仮データで確認\n",
    "y_pred = predict(X_1,coef)\n",
    "print('y_pred_shape：',y_pred.shape)\n",
    "print('y_test_shape：',y_test_std.shape)\n",
    "print('\\npredict：\\n',y_pred[:10])\n"
   ]
  },
  {
   "cell_type": "markdown",
   "metadata": {},
   "source": [
    "### 【問題4】平均二乗誤差"
   ]
  },
  {
   "cell_type": "code",
   "execution_count": 9,
   "metadata": {},
   "outputs": [
    {
     "name": "stdout",
     "output_type": "stream",
     "text": [
      "MSE: 1.1193429939353083\n"
     ]
    }
   ],
   "source": [
    "def MSE(y_pred, y):\n",
    "    \"\"\"\n",
    "    平均二乗誤差の計算\n",
    "\n",
    "    Parameters\n",
    "    ----------\n",
    "    y_pred : 次の形のndarray, shape (n_samples,)\n",
    "      推定した値\n",
    "    y : 次の形のndarray, shape (n_samples,)\n",
    "      正解値\n",
    "\n",
    "    Returns\n",
    "    ----------\n",
    "    mse : numpy.float\n",
    "      平均二乗誤差\n",
    "    \"\"\"\n",
    "    mse = (np.mean((y_pred - y)**2))\n",
    "    \n",
    "    return mse\n",
    "\n",
    "print(\"MSE:\", MSE(y_pred, y_train_std))"
   ]
  },
  {
   "cell_type": "markdown",
   "metadata": {},
   "source": [
    "### 【問題5】目的関数\n",
    "以下の数式で表される線形回帰の 目的関数（損失関数） を実装してください。そして、これをself.loss, self.val_lossに記録するようにしてください。\n",
    "目的関数（損失関数） J(θ)は次の式です。"
   ]
  },
  {
   "cell_type": "code",
   "execution_count": 10,
   "metadata": {},
   "outputs": [],
   "source": [
    "#mse = MSE(y_pred,y_test_std)/2\n",
    "\n",
    "#問題６のクラス内に実装(128行、１６３行)"
   ]
  },
  {
   "cell_type": "markdown",
   "metadata": {},
   "source": [
    "## 【問題6】学習と推定\n",
    "機械学習スクラッチ入門のSprintで用意したHouse Pricesコンペティションのデータに対してスクラッチ実装の学習と推定を行なってください。\n",
    "scikit-learnによる実装と比べ、正しく動いているかを確認してください。"
   ]
  },
  {
   "cell_type": "code",
   "execution_count": 11,
   "metadata": {},
   "outputs": [],
   "source": [
    "class ScratchLinearRegression():\n",
    "    \"\"\"\n",
    "    線形回帰のスクラッチ実装\n",
    "\n",
    "    Parameters\n",
    "    ----------\n",
    "    num_iter : int\n",
    "      イテレーション数\n",
    "    lr : float\n",
    "      学習率\n",
    "    no_bias : bool\n",
    "      バイアス項を入れない場合はTrue\n",
    "    verbose : bool\n",
    "      学習過程を出力する場合はTrue\n",
    "\n",
    "    Attributes\n",
    "    ----------\n",
    "    self.coef_ : 次の形のndarray, shape (n_features,)\n",
    "      パラメータ\n",
    "    self.loss : 次の形のndarray, shape (self.iter,)\n",
    "      学習用データに対する損失の記録\n",
    "    self.val_loss : 次の形のndarray, shape (self.iter,)\n",
    "      検証用データに対する損失の記録\n",
    "\n",
    "    \"\"\"\n",
    "\n",
    "    def __init__(self, num_iter, lr, bias, verbose):\n",
    "        # ハイパーパラメータを属性として記録\n",
    "        self.iter = num_iter\n",
    "        self.lr = lr\n",
    "        self.bias = bias\n",
    "        self.verbose = verbose\n",
    "        # 損失を記録する配列を用意\n",
    "        self.loss = np.zeros(self.iter)\n",
    "        self.val_loss = np.zeros(self.iter)\n",
    "\n",
    "        \n",
    "    def _linear_hypothesis(self,X,coef):\n",
    "        \"\"\"\n",
    "        線形の仮定関数を計算する\n",
    "\n",
    "        Parameters\n",
    "        ----------\n",
    "        X : 次の形のndarray, shape (n_samples, n_features)\n",
    "          学習データ\n",
    "\n",
    "        Returns\n",
    "        -------\n",
    "          次の形のndarray, shape (n_samples, 1)\n",
    "          線形の仮定関数による推定結果\n",
    "\n",
    "        \"\"\"\n",
    "        hypothesis = np.dot(X,coef)\n",
    "        return hypothesis\n",
    "    \n",
    "    \n",
    "    def _gradient_descent(self,X,coef,error):\n",
    "        \"\"\"\n",
    "        最急降下法によるパラメータの更新．\n",
    "\n",
    "        Parameters\n",
    "        ----------\n",
    "        X : 次の形のndarray, shape (n_samples, n_features)\n",
    "        データの特徴量\n",
    "        error : 次の形のndarray, shape (n_samples,)\n",
    "        \"\"\"\n",
    "        coef = coef - self.lr/len(X) * np.dot(error,X)\n",
    "        return coef\n",
    "    \n",
    "    \n",
    "    def MSE(self,y_pred, y):\n",
    "        \"\"\"\n",
    "        平均二乗誤差の計算\n",
    "\n",
    "        Parameters\n",
    "        ----------\n",
    "        y_pred : 次の形のndarray, shape (n_samples,)\n",
    "          推定した値\n",
    "        y : 次の形のndarray, shape (n_samples,)\n",
    "          正解値\n",
    "\n",
    "        Returns\n",
    "        ----------\n",
    "        mse : numpy.float\n",
    "          平均二乗誤差\n",
    "        \"\"\"\n",
    "        mse = np.mean((y_pred - y)**2)\n",
    "        return mse\n",
    "\n",
    "    \n",
    "    def fit(self, X, y, X_val=None, y_val=None):\n",
    "        \"\"\"\n",
    "        線形回帰を学習する。検証用データが入力された場合はそれに対する損失と精度もイテレーションごとに計算する。\n",
    "\n",
    "        Parameters\n",
    "        ----------\n",
    "        X : 次の形のndarray, shape (n_samples, n_features)\n",
    "            学習用データの特徴量\n",
    "        y : 次の形のndarray, shape (n_samples, )\n",
    "            学習用データの正解値\n",
    "        X_val : 次の形のndarray, shape (n_samples, n_features)\n",
    "            検証用データの特徴量\n",
    "        y_val : 次の形のndarray, shape (n_samples, )\n",
    "            検証用データの正解値\n",
    "        \"\"\"\n",
    "        \n",
    "        # trainデータ\n",
    "        #バイアス項を入れる場合はXの０列目に１を挿入する\n",
    "        if self.bias is False:\n",
    "            X_new = np.insert(X, 0, 1, axis=1)\n",
    "        #バイアス項を入れない場合はXの０列目に０を挿入する\n",
    "        else:\n",
    "            X_new = np.insert(X, 0, 0, axis=1)\n",
    "\n",
    "        # シータの初期化\n",
    "        self.coef_ = np.random.rand(X_new.shape[1])\n",
    "        # num_iter回更新\n",
    "        for i in range(self.iter):\n",
    "            # 仮定関数\n",
    "            hypothesis = self._linear_hypothesis(X_new,self.coef_)\n",
    "            \n",
    "            # 予測と実測値との誤差\n",
    "            error = hypothesis - y\n",
    "            \n",
    "            # 最急降下法\n",
    "            self.coef_ = self._gradient_descent(X_new,self.coef_,error)\n",
    "            \n",
    "            # lossを記録 （【問題５】目的関数の実装箇所）\n",
    "            self.loss[i] = self.MSE(self._linear_hypothesis(X_new,self.coef_),y)/2\n",
    "        \n",
    "            # 学習過程の出力\n",
    "            if self.verbose is True:\n",
    "                map_result = map(str, self.loss)\n",
    "                result = ',\\n'.join(map_result)                \n",
    "                print('Train Data Loss Iteration{0}: \\n{1}'.format(self.iter,result))\n",
    "            else:\n",
    "                pass\n",
    "\n",
    "        \n",
    "        \n",
    "        # 検証用データがある場合\n",
    "        if X_val is not None:\n",
    "            #バイアス項を入れる場合はXの０列目に１を挿入する\n",
    "            if self.bias is False:\n",
    "                X_val_new = np.insert(X_val, 0, 1, axis=1)\n",
    "            #バイアス項を入れない場合、0を挿入する\n",
    "            else:\n",
    "                X_val_new = np.insert(X_val, 0, 0, axis=1)\n",
    "                \n",
    "        # シータの初期化\n",
    "        self.coef_val_ = np.random.rand(X_val_new.shape[1])\n",
    "        # num_iter回更新\n",
    "        for i in range(self.iter):\n",
    "            # 仮定関数\n",
    "            hypothesis_val = self._linear_hypothesis(X_val_new,self.coef_val_)\n",
    "            \n",
    "            # 予測と実測値との誤差\n",
    "            error_val = hypothesis_val - y_val\n",
    "            \n",
    "            # 最急降下法\n",
    "            self.coef_val_ = self._gradient_descent(X_val_new,self.coef_val_,error_val)\n",
    "            \n",
    "            # lossを記録　 （【問題５】目的関数の実装箇所）\n",
    "            self.val_loss[i] = self.MSE(self._linear_hypothesis(X_val_new,self.coef_val_),y_val)/2\n",
    "        \n",
    "            # 学習過程の出力\n",
    "            if self.verbose is True:\n",
    "                map_result_val = map(str, self.val_loss)\n",
    "                result_val = ',\\n'.join(map_result_val)                \n",
    "                print('\\nTest Data Loss Iteration{0}: \\n{1}'.format(self.iter,result_val))\n",
    "            else:\n",
    "                pass\n",
    "\n",
    "            \n",
    "    def predict(self,X):\n",
    "        \"\"\"\n",
    "        線形回帰を使い推定する。\n",
    "\n",
    "        Parameters\n",
    "        ----------\n",
    "        X : 次の形のndarray, shape (n_samples, n_features)\n",
    "        サンプル\n",
    "\n",
    "        Returns\n",
    "        -------\n",
    "        次の形のndarray, shape (n_samples, 1)\n",
    "        線形回帰による推定結果\n",
    "        \"\"\"\n",
    "        #バイアス項を入れる場合はXの０列目に１を挿入する\n",
    "        if self.bias is False:\n",
    "            X_add = np.insert(X, 0, 1, axis=1)\n",
    "        #バイアス項を入れない場合、0を挿入する\n",
    "        else:\n",
    "            X_add = np.insert(X, 0, 0, axis=1)\n",
    "            \n",
    "        y_pred = np.dot(X_add,self.coef_).reshape(-1,1)\n",
    "        return y_pred"
   ]
  },
  {
   "cell_type": "code",
   "execution_count": 12,
   "metadata": {},
   "outputs": [],
   "source": [
    "# 初期化，学習\n",
    "slr=ScratchLinearRegression(num_iter=5000, lr=0.001, bias=False ,verbose=False)\n",
    "slr.fit(X=X_train_std, y=y_train_std, X_val=X_test_std, y_val=y_test_std)"
   ]
  },
  {
   "cell_type": "code",
   "execution_count": 13,
   "metadata": {},
   "outputs": [
    {
     "name": "stdout",
     "output_type": "stream",
     "text": [
      "y_pred:\n",
      " [[ 1.33989710e+00]\n",
      " [ 9.00106658e-02]\n",
      " [-3.96774481e-01]\n",
      " [ 7.07061744e-01]\n",
      " [-5.24868613e-01]\n",
      " [-6.70410180e-01]\n",
      " [-2.78759648e-03]\n",
      " [-1.81241299e-01]\n",
      " [ 3.96053148e+00]\n",
      " [-4.82892826e-01]]\n"
     ]
    }
   ],
   "source": [
    "# 推定\n",
    "y_pred_train = slr.predict(X_train_std)\n",
    "y_pred = slr.predict(X_test_std)\n",
    "print('y_pred:\\n',y_pred[:10])"
   ]
  },
  {
   "cell_type": "code",
   "execution_count": 14,
   "metadata": {},
   "outputs": [
    {
     "name": "stdout",
     "output_type": "stream",
     "text": [
      "Train_MSE： 1.532636986644203\n",
      "Test_MSE： 1.536583533200892\n",
      "切片： 0.11783911168929005\n",
      "係数： [0.60181832 0.39798896]\n"
     ]
    }
   ],
   "source": [
    "print('Train_MSE：',slr.MSE(y_pred_train,y_train_std))\n",
    "print('Test_MSE：',slr.MSE(y_pred,y_test_std))\n",
    "print('切片：',slr.coef_[0])\n",
    "print('係数：',slr.coef_[1:])"
   ]
  },
  {
   "cell_type": "markdown",
   "metadata": {},
   "source": [
    "## SKlean　LinearRegressionと比較"
   ]
  },
  {
   "cell_type": "code",
   "execution_count": 15,
   "metadata": {},
   "outputs": [
    {
     "name": "stdout",
     "output_type": "stream",
     "text": [
      "Train_MSE： 0.3230340002216025\n",
      "Test_MSE： 0.41002698832759593\n",
      "切片： -2.690696506883759\n",
      "係数： [0.53730804 5.67444994]\n"
     ]
    }
   ],
   "source": [
    "from sklearn.linear_model import LinearRegression\n",
    "from sklearn.metrics import mean_squared_error\n",
    "# 初期化，学習，推定\n",
    "model = LinearRegression()\n",
    "model.fit(X_train_std,y_train_std)\n",
    "y_train_pred_sk = model.predict(X_train_std)\n",
    "y_pred_sk = model.predict(X_test_std)\n",
    "\n",
    "print('Train_MSE：',mean_squared_error(y_train_std,y_train_pred_sk))\n",
    "print('Test_MSE：',mean_squared_error(y_test_std,y_pred_sk))\n",
    "print('切片：',model.intercept_)\n",
    "print('係数：',model.coef_)"
   ]
  },
  {
   "cell_type": "markdown",
   "metadata": {},
   "source": [
    "## 【問題7】学習曲線のプロット\n",
    "学習曲線を表示する関数を作成し、実行してください。グラフを見て損失が適切に下がっているかどうか確認してください。\n",
    "線形回帰クラスの雛形ではself.loss, self.val_lossに損失を記録しておくようになっているため、入力にはこれを利用してください。"
   ]
  },
  {
   "cell_type": "code",
   "execution_count": 16,
   "metadata": {},
   "outputs": [
    {
     "data": {
      "text/plain": [
       "<function matplotlib.pyplot.show(*args, **kw)>"
      ]
     },
     "execution_count": 16,
     "metadata": {},
     "output_type": "execute_result"
    },
    {
     "data": {
      "image/png": "[encoded data removed]",
      "text/plain": [
       "<Figure size 432x288 with 1 Axes>"
      ]
     },
     "metadata": {
      "needs_background": "light"
     },
     "output_type": "display_data"
    }
   ],
   "source": [
    "plt.scatter(np.array(range(slr.iter)), slr.loss, label=\"loss\")\n",
    "plt.scatter(np.array(range(slr.iter)), slr.val_loss, label=\"val_loss\")\n",
    "\n",
    "plt.title(\"model loss\")\n",
    "plt.xlabel(\"iter\")\n",
    "plt.ylabel(\"loss\")\n",
    "plt.legend()\n",
    "\n",
    "plt.show"
   ]
  },
  {
   "cell_type": "code",
   "execution_count": null,
   "metadata": {},
   "outputs": [],
   "source": []
  }
 ],
 "metadata": {
  "kernelspec": {
   "display_name": "Python 3",
   "language": "python",
   "name": "python3"
  },
  "language_info": {
   "codemirror_mode": {
    "name": "ipython",
    "version": 3
   },
   "file_extension": ".py",
   "mimetype": "text/x-python",
   "name": "python",
   "nbconvert_exporter": "python",
   "pygments_lexer": "ipython3",
   "version": "3.7.3"
  }
 },
 "nbformat": 4,
 "nbformat_minor": 2
}
