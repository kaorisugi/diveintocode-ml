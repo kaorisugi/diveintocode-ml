{
 "cells": [
  {
   "cell_type": "markdown",
   "metadata": {},
   "source": [
    "### Week2授業課題１　二次元配列と勾配問題"
   ]
  },
  {
   "cell_type": "code",
   "execution_count": null,
   "metadata": {},
   "outputs": [],
   "source": [
    "import numpy as np\n",
    "import matplotlib.pyplot as plt\n",
    "np.set_printoptions(threshold=0)　# ndarrayを常に省略"
   ]
  },
  {
   "cell_type": "markdown",
   "metadata": {},
   "source": [
    "### 【問題1】1次関数"
   ]
  },
  {
   "cell_type": "code",
   "execution_count": 209,
   "metadata": {},
   "outputs": [
    {
     "name": "stdout",
     "output_type": "stream",
     "text": [
      "[-50.  -49.9 -49.8 ...  49.8  49.9  50. ]\n",
      "(1001,)\n",
      "[-24.   -23.95 -23.9  ...  25.9   25.95  26.  ]\n"
     ]
    }
   ],
   "source": [
    "# x配列と1次関数からなるy配列を作る\n",
    "x_array = np.arange(-50, 50.1, 0.1)\n",
    "y_array = np.array(1/2*x_array + 1)\n",
    "print(x_array)\n",
    "print(x_array.shape)\n",
    "print(y_array)"
   ]
  },
  {
   "cell_type": "markdown",
   "metadata": {},
   "source": [
    "### 【問題2】配列の結合"
   ]
  },
  {
   "cell_type": "code",
   "execution_count": 210,
   "metadata": {},
   "outputs": [
    {
     "name": "stdout",
     "output_type": "stream",
     "text": [
      "[[-50.   -24.  ]\n",
      " [-49.9  -23.95]\n",
      " [-49.8  -23.9 ]\n",
      " ...\n",
      " [ 49.8   25.9 ]\n",
      " [ 49.9   25.95]\n",
      " [ 50.    26.  ]]\n",
      "(1001, 2)\n"
     ]
    }
   ],
   "source": [
    "# x配列、y配列をreshape\n",
    "x_array = x_array.reshape(1001, 1)\n",
    "y_array = y_array.reshape(1001, 1)\n",
    "\n",
    "# 配列を結合\n",
    "xy_array = (np.concatenate([x_array, y_array], 1))\n",
    "print(xy_array)\n",
    "print(xy_array.shape)"
   ]
  },
  {
   "cell_type": "markdown",
   "metadata": {},
   "source": [
    "### 【問題3】勾配を求める"
   ]
  },
  {
   "cell_type": "code",
   "execution_count": 211,
   "metadata": {},
   "outputs": [
    {
     "name": "stdout",
     "output_type": "stream",
     "text": [
      "各x座標における勾配：\n",
      "[[0.5]\n",
      " [0.5]\n",
      " [0.5]\n",
      " ...\n",
      " [0.5]\n",
      " [0.5]\n",
      " [0.5]]\n"
     ]
    }
   ],
   "source": [
    "# xとyの変化量\n",
    "x_difference = x_array[1:] - x_array[:-1]\n",
    "y_difference = y_array[1:] - y_array[:-1]\n",
    "# print(x_difference)\n",
    "\n",
    "# 勾配\n",
    "xy_gradient = y_difference/x_difference\n",
    "print(\"各x座標における勾配：\\n{}\".format(xy_gradient))"
   ]
  },
  {
   "cell_type": "markdown",
   "metadata": {},
   "source": [
    "### 【問題4】グラフを描く"
   ]
  },
  {
   "cell_type": "code",
   "execution_count": 212,
   "metadata": {},
   "outputs": [
    {
     "data": {
      "image/png": "[encoded data removed]",
      "text/plain": [
       "<Figure size 432x288 with 1 Axes>"
      ]
     },
     "metadata": {
      "needs_background": "light"
     },
     "output_type": "display_data"
    }
   ],
   "source": [
    "%matplotlib inline\n",
    "\n",
    "# 1次関数のグラフ\n",
    "\n",
    "plt.xlabel(\"x\")\n",
    "plt.ylabel(\"y\")\n",
    "plt.title(\"primary function and gradient\")\n",
    "plt.plot(x_array, y_array, label = \"primary function\")\n",
    "plt.legend()\n",
    "plt.show()"
   ]
  },
  {
   "cell_type": "code",
   "execution_count": 213,
   "metadata": {},
   "outputs": [
    {
     "data": {
      "image/png": "[encoded data removed]",
      "text/plain": [
       "<Figure size 432x288 with 1 Axes>"
      ]
     },
     "metadata": {
      "needs_background": "light"
     },
     "output_type": "display_data"
    }
   ],
   "source": [
    "%matplotlib inline\n",
    "\n",
    "# 勾配のグラフ\n",
    "\n",
    "plt.xlabel(\"x\")\n",
    "plt.ylabel(\"y\")\n",
    "plt.title(\"primary function and gradient\")\n",
    "plt.plot(x_array[:-1], xy_gradient, color = \"red\", label = \"xy_gradient\")\n",
    "plt.legend()\n",
    "plt.show()"
   ]
  },
  {
   "cell_type": "markdown",
   "metadata": {},
   "source": [
    "### 【問題5】Pythonの関数化"
   ]
  },
  {
   "cell_type": "code",
   "execution_count": 214,
   "metadata": {},
   "outputs": [],
   "source": [
    "def compute_gradient(function, start = -50, stop = 50.1, step = 0.1):\n",
    "    \"\"\"\n",
    "    変化量を使い勾配を計算する。\n",
    "\n",
    "    Parameters\n",
    "    ----------------\n",
    "    function : function\n",
    "    求めたい関数、xのndarrayを入れるとyのndarrayを返すもの。\n",
    "    x_range : tuple\n",
    "    np.arange()の引数と同じ方法で範囲を指定する。\n",
    "\n",
    "    Returns\n",
    "    ----------------\n",
    "    array_xy : ndarray, shape(n, 2)\n",
    "    xとyを結合したもの。nはx_rangeに依存する。\n",
    "    gradient : ndarray, shape(n-1,)\n",
    "    関数の勾配。差をとるため要素は1つ減る\n",
    "    \"\"\"\n",
    "    # X配列を用意\n",
    "    array_x = np.arange(start, stop, step) # rangeをx_rangeで指定したい\n",
    "    \n",
    "    # X,yの配列をreshape\n",
    "    array_x = array_x.reshape(len(array_x), 1)\n",
    "    array_y = function(array_x)\n",
    "    array_y.reshape(len(array_y), 1)\n",
    "    \n",
    "    # 配列を結合\n",
    "    array_xy = (np.concatenate([array_x, array_y], 1))\n",
    "    \n",
    "    # xとyの変化量\n",
    "    x_difference = array_x[1:] - array_x[:-1]\n",
    "    y_difference = array_y[1:] - array_y[:-1]\n",
    "    \n",
    "    # 勾配\n",
    "    gradient = y_difference/x_difference\n",
    "\n",
    "    return array_x, array_y, gradient #あとでgradientに直す"
   ]
  },
  {
   "cell_type": "code",
   "execution_count": 215,
   "metadata": {},
   "outputs": [],
   "source": [
    "#1 y = (1/2)*x + 1の勾配\n",
    "def function1(array_x):\n",
    "    #y配列を用意\n",
    "    array_y = np.array((1/2)*array_x + 1)\n",
    "    return array_y\n",
    "\n",
    "array_x_f1, array_y_f1, gradient_f1 = compute_gradient(function1)\n",
    "#print(gradient_f1)\n",
    "#print(array_x_f1)"
   ]
  },
  {
   "cell_type": "code",
   "execution_count": 216,
   "metadata": {},
   "outputs": [],
   "source": [
    "#2 y=x^2 の勾配\n",
    "\n",
    "def function2(array_x):\n",
    "    #y配列を用意\n",
    "    array_y = np.array(array_x**2)\n",
    "    return array_y\n",
    "\n",
    "array_x_f2, array_y_f2, gradient_f2 = compute_gradient(function2)\n",
    "#print(array_y_f2[:10])\n",
    "#print(gradient_f2[:10])"
   ]
  },
  {
   "cell_type": "code",
   "execution_count": 217,
   "metadata": {},
   "outputs": [],
   "source": [
    "#3 y=2*x^2 + 2^x　の勾配\n",
    "\n",
    "def function3(array_x):\n",
    "    #y配列を用意\n",
    "    array_y = np.array(2*array_x**2 + 2**array_x)\n",
    "    return array_y\n",
    "\n",
    "array_x_f3, array_y_f3, gradient_f3 = compute_gradient(function3, -50, 50.1, 0.1)"
   ]
  },
  {
   "cell_type": "code",
   "execution_count": 218,
   "metadata": {},
   "outputs": [],
   "source": [
    "#4 y=sin(x^1/2)　の勾配\n",
    "\n",
    "def function4(array_x):\n",
    "    #y配列を用意\n",
    "    array_y = np.sin(array_x ** (1/2))\n",
    "    return array_y\n",
    "\n",
    "array_x_f4, array_y_f4, gradient_f4 = compute_gradient(function4, 0, 50.1, 0.1)\n",
    "#print(gradient_f4[:10,:10])\n",
    "#print(array_x_f4)"
   ]
  },
  {
   "cell_type": "markdown",
   "metadata": {},
   "source": [
    "### 【問題6】最小値を求める"
   ]
  },
  {
   "cell_type": "code",
   "execution_count": 219,
   "metadata": {},
   "outputs": [
    {
     "name": "stdout",
     "output_type": "stream",
     "text": [
      "y=x^2の最小値：5.048709793414476e-25\n",
      "y=x^2の最小値のインデックス：500\n",
      "最小値の前の勾配：[-0.1]\n",
      "最小値の後の勾配：[0.3]\n"
     ]
    }
   ],
   "source": [
    "# y=x^2 の最小値\n",
    "\n",
    "# minメソッド(最小値)\n",
    "min_f2 = np.amin(array_y_f2)\n",
    "print(\"y=x^2の最小値：{}\".format(min_f2))\n",
    "\n",
    "# argminメソッド(最小値のインデックス)\n",
    "argmin_f2 = np.argmin(array_y_f2)\n",
    "print(\"y=x^2の最小値のインデックス：{}\".format(argmin_f2))\n",
    "\n",
    "# 最小のyをとる前後の勾配\n",
    "argmin_before_f2 = argmin_f2 - 1\n",
    "argmin_next_f2 = argmin_f2 + 1\n",
    "print(\"最小値の前の勾配：{}\".format(gradient_f2[argmin_before_f2]))\n",
    "print(\"最小値の後の勾配：{}\".format(gradient_f2[argmin_next_f2]))"
   ]
  },
  {
   "cell_type": "code",
   "execution_count": 220,
   "metadata": {},
   "outputs": [
    {
     "name": "stdout",
     "output_type": "stream",
     "text": [
      "y=2*x^2 + 2^xの最小値：0.9505505632959851\n",
      "y=2*x^2 + 2^xの最小値のインデックス：498\n",
      "最小値の前の勾配：[-0.41701833]\n",
      "最小値の後の勾配：[0.46967008]\n"
     ]
    }
   ],
   "source": [
    "# y=2*x^2 + 2^x の最小値\n",
    "\n",
    "# minメソッド(最小値)\n",
    "min_f3 = np.amin(array_y_f3)\n",
    "print(\"y=2*x^2 + 2^xの最小値：{}\".format(min_f3))\n",
    "\n",
    "# argminメソッド(最小値のインデックス)\n",
    "argmin_f3 = np.argmin(array_y_f3)\n",
    "print(\"y=2*x^2 + 2^xの最小値のインデックス：{}\".format(argmin_f3))\n",
    "\n",
    "# 最小のyをとる前後の勾配\n",
    "argmin_before_f3 = argmin_f3 - 1\n",
    "argmin_next_f3 = argmin_f3 + 1\n",
    "print(\"最小値の前の勾配：{}\".format(gradient_f3[argmin_before_f3]))\n",
    "print(\"最小値の後の勾配：{}\".format(gradient_f3[argmin_next_f3]))"
   ]
  },
  {
   "cell_type": "code",
   "execution_count": 221,
   "metadata": {},
   "outputs": [
    {
     "name": "stdout",
     "output_type": "stream",
     "text": [
      "function4(y=sin(x^1/2))の最小値：-0.9999997540298113\n",
      "function4(y=sin(x^1/2))の最小値のインデックス：222\n",
      "最小値の前の勾配：[-0.00063884]\n",
      "最小値の後の勾配：[0.00160612]\n"
     ]
    }
   ],
   "source": [
    "# y=sin(x^1/2) の最小値\n",
    "\n",
    "# minメソッド(最小値)\n",
    "min_f4 = np.amin(array_y_f4)\n",
    "print(\"function4(y=sin(x^1/2))の最小値：{}\".format(min_f4))\n",
    "\n",
    "# argminメソッド(最小値のインデックス)\n",
    "argmin_f4 = np.argmin(array_y_f4)\n",
    "print(\"function4(y=sin(x^1/2))の最小値のインデックス：{}\".format(argmin_f4))\n",
    "\n",
    "# 最小のyをとる前後の勾配\n",
    "argmin_before_f4 = argmin_f4 - 1\n",
    "argmin_next_f4 = argmin_f4 + 1\n",
    "print(\"最小値の前の勾配：{}\".format(gradient_f4[argmin_before_f4]))\n",
    "print(\"最小値の後の勾配：{}\".format(gradient_f4[argmin_next_f4]))"
   ]
  },
  {
   "cell_type": "code",
   "execution_count": null,
   "metadata": {},
   "outputs": [],
   "source": []
  }
 ],
 "metadata": {
  "kernelspec": {
   "display_name": "Python 3",
   "language": "python",
   "name": "python3"
  },
  "language_info": {
   "codemirror_mode": {
    "name": "ipython",
    "version": 3
   },
   "file_extension": ".py",
   "mimetype": "text/x-python",
   "name": "python",
   "nbconvert_exporter": "python",
   "pygments_lexer": "ipython3",
   "version": "3.7.3"
  }
 },
 "nbformat": 4,
 "nbformat_minor": 2
}
