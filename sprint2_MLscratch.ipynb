{
 "cells": [
  {
   "cell_type": "markdown",
   "metadata": {},
   "source": [
    "# Sprint２課題 機械学習スクラッチ入門¶"
   ]
  },
  {
   "cell_type": "code",
   "execution_count": 20,
   "metadata": {},
   "outputs": [],
   "source": [
    "import numpy as np\n",
    "import pandas as pd\n",
    "import statsmodels.api as sm\n",
    "import random\n",
    "\n",
    "from sklearn.datasets import load_iris\n",
    "from sklearn.linear_model import SGDClassifier\n",
    "from sklearn.tree import DecisionTreeClassifier\n",
    "from sklearn.svm import SVC\n",
    "from sklearn.linear_model import SGDRegressor"
   ]
  },
  {
   "cell_type": "markdown",
   "metadata": {},
   "source": [
    "## 【問題1】train_test_splitのスクラッチ\n",
    "スクラッチの練習として、scikit-learnのtrain_test_splitを自作してみます。以下の雛形をベースとして関数を完成させてください。"
   ]
  },
  {
   "cell_type": "code",
   "execution_count": 21,
   "metadata": {},
   "outputs": [],
   "source": [
    "def scratch_train_test_split(X, y, train_size=0.8,):\n",
    "    \"\"\"\n",
    "    検証用データを分割する。\n",
    "\n",
    "    Parameters\n",
    "    ----------\n",
    "    X : 次の形のndarray, shape (n_samples, n_features)\n",
    "      学習データ\n",
    "    y : 次の形のndarray, shape (n_samples, )\n",
    "      正解値\n",
    "    train_size : float (0<train_size<1)\n",
    "      何割をtrainとするか指定\n",
    "\n",
    "    Returns\n",
    "    ----------\n",
    "    X_train : 次の形のndarray, shape (n_samples, n_features)\n",
    "      学習データ\n",
    "    X_test : 次の形のndarray, shape (n_samples, n_features)\n",
    "      検証データ\n",
    "    y_train : 次の形のndarray, shape (n_samples, )\n",
    "      学習データの正解値\n",
    "    y_test : 次の形のndarray, shape (n_samples, )\n",
    "      検証データの正解値\n",
    "    \"\"\"\n",
    "    #ここにコードを書く\n",
    "    X = np.array(X)\n",
    "    y = np.array(y)\n",
    "    i = random.sample(range(len(X)), k=round(len(X)*train_size))\n",
    "    e = list(range(len(X)))\n",
    "    w = list(set(e) - set(i))\n",
    "    X_train = X_test = np.empty(X.shape[1])\n",
    "    y_train = y_test = np.empty(())\n",
    "    \n",
    "    for a in i:\n",
    "        X_train = np.vstack([X_train, X[a,:]])\n",
    "        y_train = np.vstack([y_train, y[a]])\n",
    "    for b in w:\n",
    "        X_test = np.vstack([X_test, X[b,:]])\n",
    "        y_test = np.vstack([y_test, y[b]])\n",
    "        \n",
    "    X_train = X_train[1:, :]\n",
    "    y_train = y_train[1:, :]\n",
    "    X_test = X_test[1:, :]\n",
    "    y_test = y_test[1:, :]\n",
    "\n",
    "    return X_train, X_test, y_train, y_test"
   ]
  },
  {
   "cell_type": "code",
   "execution_count": 22,
   "metadata": {},
   "outputs": [],
   "source": [
    "data = load_iris()"
   ]
  },
  {
   "cell_type": "code",
   "execution_count": 23,
   "metadata": {},
   "outputs": [],
   "source": [
    "iris_data = pd.DataFrame(data.data, columns=data.feature_names)\n",
    "iris_data[\"species\"] = data.target\n",
    "iris_data = iris_data[iris_data[\"species\"].isin([\"1\", \"2\"])]"
   ]
  },
  {
   "cell_type": "code",
   "execution_count": 24,
   "metadata": {},
   "outputs": [],
   "source": [
    "X_iris = iris_data.drop(\"species\", axis=1)\n",
    "y_iris = iris_data[\"species\"]"
   ]
  },
  {
   "cell_type": "code",
   "execution_count": 25,
   "metadata": {},
   "outputs": [],
   "source": [
    "np.random.seed(seed=0)\n",
    "n_samples = 500\n",
    "f0 = [-1, 2]\n",
    "f1 = [2, -1]\n",
    "cov = [[1.0,0.8], [0.8, 1.0]]\n",
    "\n",
    "f0 = np.random.multivariate_normal(f0, cov, int(n_samples/2))\n",
    "f1 = np.random.multivariate_normal(f1, cov, int(n_samples/2))\n",
    "\n",
    "X_sample1 = np.concatenate((f0, f1))\n",
    "y_sample1 = np.concatenate((np.ones((int(n_samples/2))), np.ones((int(n_samples/2))) *(-1))).astype(np.int)\n",
    "\n",
    "random_index = np.random.permutation(np.arange(n_samples))\n",
    "X_sample1 = X_sample1[random_index]\n",
    "y_sample1 = y_sample1[random_index]"
   ]
  },
  {
   "cell_type": "code",
   "execution_count": 26,
   "metadata": {},
   "outputs": [],
   "source": [
    "\n",
    "X_sample2 = np.array([[-0.44699 , -2.8073  ],[-1.4621  , -2.4586  ],\n",
    "       [ 0.10645 ,  1.9242  ],[-3.5944  , -4.0112  ],\n",
    "       [-0.9888  ,  4.5718  ],[-3.1625  , -3.9606  ],\n",
    "       [ 0.56421 ,  0.72888 ],[-0.60216 ,  8.4636  ],\n",
    "       [-0.61251 , -0.75345 ],[-0.73535 , -2.2718  ],\n",
    "       [-0.80647 , -2.2135  ],[ 0.86291 ,  2.3946  ],\n",
    "       [-3.1108  ,  0.15394 ],[-2.9362  ,  2.5462  ],\n",
    "       [-0.57242 , -2.9915  ],[ 1.4771  ,  3.4896  ],\n",
    "       [ 0.58619 ,  0.37158 ],[ 0.6017  ,  4.3439  ],\n",
    "       [-2.1086  ,  8.3428  ],[-4.1013  , -4.353   ],\n",
    "       [-1.9948  , -1.3927  ],[ 0.35084 , -0.031994],\n",
    "       [ 0.96765 ,  7.8929  ],[-1.281   , 15.6824  ],\n",
    "       [ 0.96765 , 10.083   ],[ 1.3763  ,  1.3347  ],\n",
    "       [-2.234   , -2.5323  ],[-2.9452  , -1.8219  ],\n",
    "       [ 0.14654 , -0.28733 ],[ 0.5461  ,  5.8245  ],\n",
    "       [-0.65259 ,  9.3444  ],[ 0.59912 ,  5.3524  ],\n",
    "       [ 0.50214 , -0.31818 ],[-3.0603  , -3.6461  ],\n",
    "       [-6.6797  ,  0.67661 ],[-2.353   , -0.72261 ],\n",
    "       [ 1.1319  ,  2.4023  ],[-0.12243 ,  9.0162  ],\n",
    "       [-2.5677  , 13.1779  ],[ 0.057313,  5.4681  ]])\n",
    "y_sample2 = np.array([0, 0, 0, 0, 0, 0, 0, 0, 0, 0, 0, 0, 0, 0, 0, 0, 0, 0, 0, 0, 1, 1,\n",
    "       1, 1, 1, 1, 1, 1, 1, 1, 1, 1, 1, 1, 1, 1, 1, 1, 1, 1])"
   ]
  },
  {
   "cell_type": "code",
   "execution_count": 27,
   "metadata": {},
   "outputs": [],
   "source": [
    "X_train_iris, X_test_iris, y_train_iris, y_test_iris = scratch_train_test_split(X_iris, y_iris)"
   ]
  },
  {
   "cell_type": "code",
   "execution_count": 28,
   "metadata": {},
   "outputs": [],
   "source": [
    "X_train_sample1, X_test_sample1, y_train_sample1, y_test_sample1 = scratch_train_test_split(X_sample1, y_sample1)"
   ]
  },
  {
   "cell_type": "code",
   "execution_count": 29,
   "metadata": {},
   "outputs": [],
   "source": [
    "X_train_sample2, X_test_sample2, y_train_sample2, y_test_sample2 = scratch_train_test_split(X_sample2, y_sample2)\n"
   ]
  },
  {
   "cell_type": "markdown",
   "metadata": {},
   "source": [
    "## 【問題2】 分類問題を解くコードの作成\n",
    "上記3種類の手法で3種類のデータセットを学習・推定するコードを作成してください。"
   ]
  },
  {
   "cell_type": "code",
   "execution_count": 30,
   "metadata": {},
   "outputs": [],
   "source": [
    "SGD = SGDClassifier(loss=\"log\")\n",
    "Dtree = DecisionTreeClassifier()\n",
    "Svm = SVC()"
   ]
  },
  {
   "cell_type": "code",
   "execution_count": 31,
   "metadata": {},
   "outputs": [
    {
     "name": "stderr",
     "output_type": "stream",
     "text": [
      "/Users/suginokaori/.pyenv/versions/anaconda3-2019.07/lib/python3.7/site-packages/sklearn/svm/base.py:193: FutureWarning: The default value of gamma will change from 'auto' to 'scale' in version 0.22 to account better for unscaled features. Set gamma explicitly to 'auto' or 'scale' to avoid this warning.\n",
      "  \"avoid this warning.\", FutureWarning)\n"
     ]
    },
    {
     "data": {
      "text/plain": [
       "SVC(C=1.0, cache_size=200, class_weight=None, coef0=0.0,\n",
       "    decision_function_shape='ovr', degree=3, gamma='auto_deprecated',\n",
       "    kernel='rbf', max_iter=-1, probability=False, random_state=None,\n",
       "    shrinking=True, tol=0.001, verbose=False)"
      ]
     },
     "execution_count": 31,
     "metadata": {},
     "output_type": "execute_result"
    }
   ],
   "source": [
    "SGD.fit(X_train_iris, y_train_iris.ravel())\n",
    "Dtree.fit(X_train_iris, y_train_iris.ravel())\n",
    "Svm.fit(X_train_iris, y_train_iris.ravel())"
   ]
  },
  {
   "cell_type": "code",
   "execution_count": 32,
   "metadata": {},
   "outputs": [],
   "source": [
    "y_iris_SGD = SGD.predict(X_test_iris)\n",
    "y_iris_Dtree = Dtree.predict(X_test_iris)\n",
    "y_iris_Svm = Svm.predict(X_test_iris)"
   ]
  },
  {
   "cell_type": "code",
   "execution_count": 33,
   "metadata": {},
   "outputs": [],
   "source": [
    "SGD_1 = SGDClassifier(loss=\"log\")\n",
    "Dtree_1 = DecisionTreeClassifier()\n",
    "Svm_1 = SVC()"
   ]
  },
  {
   "cell_type": "code",
   "execution_count": 34,
   "metadata": {},
   "outputs": [
    {
     "name": "stderr",
     "output_type": "stream",
     "text": [
      "/Users/suginokaori/.pyenv/versions/anaconda3-2019.07/lib/python3.7/site-packages/sklearn/svm/base.py:193: FutureWarning: The default value of gamma will change from 'auto' to 'scale' in version 0.22 to account better for unscaled features. Set gamma explicitly to 'auto' or 'scale' to avoid this warning.\n",
      "  \"avoid this warning.\", FutureWarning)\n"
     ]
    },
    {
     "data": {
      "text/plain": [
       "SVC(C=1.0, cache_size=200, class_weight=None, coef0=0.0,\n",
       "    decision_function_shape='ovr', degree=3, gamma='auto_deprecated',\n",
       "    kernel='rbf', max_iter=-1, probability=False, random_state=None,\n",
       "    shrinking=True, tol=0.001, verbose=False)"
      ]
     },
     "execution_count": 34,
     "metadata": {},
     "output_type": "execute_result"
    }
   ],
   "source": [
    "SGD_1.fit(X_train_sample1, y_train_sample1.ravel())\n",
    "Dtree_1.fit(X_train_sample1, y_train_sample1.ravel())\n",
    "Svm_1.fit(X_train_sample1, y_train_sample1.ravel())"
   ]
  },
  {
   "cell_type": "code",
   "execution_count": 35,
   "metadata": {},
   "outputs": [],
   "source": [
    "y_sample1_SGD = SGD_1.predict(X_test_sample1)\n",
    "y_sample1_Dtree = Dtree_1.predict(X_test_sample1)\n",
    "y_sampel1_Svm = Svm_1.predict(X_test_sample1)"
   ]
  },
  {
   "cell_type": "code",
   "execution_count": 36,
   "metadata": {},
   "outputs": [],
   "source": [
    "SGD_2 = SGDClassifier(loss=\"log\")\n",
    "Dtree_2 = DecisionTreeClassifier()\n",
    "Svm_2 = SVC()"
   ]
  },
  {
   "cell_type": "code",
   "execution_count": 37,
   "metadata": {},
   "outputs": [
    {
     "name": "stderr",
     "output_type": "stream",
     "text": [
      "/Users/suginokaori/.pyenv/versions/anaconda3-2019.07/lib/python3.7/site-packages/sklearn/svm/base.py:193: FutureWarning: The default value of gamma will change from 'auto' to 'scale' in version 0.22 to account better for unscaled features. Set gamma explicitly to 'auto' or 'scale' to avoid this warning.\n",
      "  \"avoid this warning.\", FutureWarning)\n"
     ]
    },
    {
     "data": {
      "text/plain": [
       "SVC(C=1.0, cache_size=200, class_weight=None, coef0=0.0,\n",
       "    decision_function_shape='ovr', degree=3, gamma='auto_deprecated',\n",
       "    kernel='rbf', max_iter=-1, probability=False, random_state=None,\n",
       "    shrinking=True, tol=0.001, verbose=False)"
      ]
     },
     "execution_count": 37,
     "metadata": {},
     "output_type": "execute_result"
    }
   ],
   "source": [
    "SGD_2.fit(X_train_sample2, y_train_sample2.ravel())\n",
    "Dtree_2.fit(X_train_sample2, y_train_sample2.ravel())\n",
    "Svm_2.fit(X_train_sample2, y_train_sample2.ravel())"
   ]
  },
  {
   "cell_type": "code",
   "execution_count": 46,
   "metadata": {},
   "outputs": [
    {
     "name": "stdout",
     "output_type": "stream",
     "text": [
      "ロジスティック回帰の推定 [0. 0. 1. 0. 1. 0. 1. 0.]\n",
      "SVMの推定 [0. 0. 1. 0. 1. 0. 1. 1.]\n",
      "決定木の推定 [0. 0. 1. 0. 1. 0. 1. 0.]\n"
     ]
    }
   ],
   "source": [
    "#ロジスティック回帰の推定\n",
    "y_sample2_SGD = SGD_2.predict(X_test_sample2)\n",
    "print(\"ロジスティック回帰の推定\",y_sample2_SGD)\n",
    "\n",
    "#SVMの推定\n",
    "y_sample2_Svm = Svm_2.predict(X_test_sample2)\n",
    "print(\"SVMの推定\",y_sample2_Svm)\n",
    "\n",
    "#決定木の推定\n",
    "y_sample2_Dtree = Dtree_2.predict(X_test_sample2)\n",
    "print(\"決定木の推定\",y_sample2_Dtree)"
   ]
  },
  {
   "cell_type": "markdown",
   "metadata": {},
   "source": [
    "## 【問題3】 回帰問題を解くコードの作成\n",
    "線形回帰でHouse Pricesデータセットを学習・推定するコードを作成してください。"
   ]
  },
  {
   "cell_type": "code",
   "execution_count": 40,
   "metadata": {},
   "outputs": [],
   "source": [
    "data_raw = pd.read_csv(\"./train.csv\")"
   ]
  },
  {
   "cell_type": "code",
   "execution_count": 41,
   "metadata": {},
   "outputs": [],
   "source": [
    "data = data_raw.copy(deep=True)"
   ]
  },
  {
   "cell_type": "code",
   "execution_count": 42,
   "metadata": {},
   "outputs": [],
   "source": [
    "Target = data[\"SalePrice\"]\n",
    "X_house = data.loc[:, [\"GrLivArea\", \"YearBuilt\"]]\n",
    "X_train_house, X_test_house, y_train_house, y_test_house = scratch_train_test_split(X_house, Target)\n",
    "SGDR = SGDRegressor()"
   ]
  },
  {
   "cell_type": "code",
   "execution_count": 43,
   "metadata": {},
   "outputs": [
    {
     "data": {
      "text/plain": [
       "SGDRegressor(alpha=0.0001, average=False, early_stopping=False, epsilon=0.1,\n",
       "             eta0=0.01, fit_intercept=True, l1_ratio=0.15,\n",
       "             learning_rate='invscaling', loss='squared_loss', max_iter=1000,\n",
       "             n_iter_no_change=5, penalty='l2', power_t=0.25, random_state=None,\n",
       "             shuffle=True, tol=0.001, validation_fraction=0.1, verbose=0,\n",
       "             warm_start=False)"
      ]
     },
     "execution_count": 43,
     "metadata": {},
     "output_type": "execute_result"
    }
   ],
   "source": [
    "SGDR.fit(X_train_house, y_train_house.ravel())"
   ]
  },
  {
   "cell_type": "code",
   "execution_count": 45,
   "metadata": {},
   "outputs": [
    {
     "name": "stdout",
     "output_type": "stream",
     "text": [
      "[3.51367946e+14 4.02947950e+14 3.76713602e+14 3.21722363e+14\n",
      " 3.26023821e+14 4.03857776e+14 4.30725921e+14 2.88391961e+14\n",
      " 2.92389302e+14 4.61118383e+14 3.95791019e+14 3.17161769e+14\n",
      " 4.08711289e+14 4.11004772e+14 3.17352080e+14 3.60449392e+14\n",
      " 3.85744107e+14 4.41119943e+14 4.14198869e+14 2.74011528e+14\n",
      " 4.59494736e+14 4.28516437e+14 4.07623075e+14 4.17843676e+14\n",
      " 4.11879822e+14 3.88640318e+14 4.05917955e+14 3.34787240e+14\n",
      " 3.98426105e+14 4.07149781e+14 4.07839219e+14 3.98941398e+14\n",
      " 4.12112857e+14 4.42249162e+14 3.45579768e+14 3.73508307e+14\n",
      " 4.32547828e+14 3.36546283e+14 3.75920026e+14 4.31566196e+14\n",
      " 3.55925560e+14 3.55903701e+14 3.05935690e+14 3.89821203e+14\n",
      " 4.23325026e+14 3.96799746e+14 4.44304104e+14 3.47241171e+14\n",
      " 4.16931595e+14 3.91339987e+14 3.97905844e+14 4.23884036e+14\n",
      " 3.86536421e+14 4.47950899e+14 3.09896268e+14 3.58557935e+14\n",
      " 3.87129214e+14 4.39120641e+14 3.93730115e+14 4.31974908e+14\n",
      " 2.26809756e+14 4.23765531e+14 4.27841903e+14 4.39208345e+14\n",
      " 4.02265923e+14 4.41406900e+14 3.69957165e+14 3.26635760e+14\n",
      " 2.98955884e+14 3.45763124e+14 2.89620807e+14 3.89035844e+14\n",
      " 3.96101097e+14 4.18502313e+14 4.00915592e+14 4.27897543e+14\n",
      " 3.97849210e+14 4.29458326e+14 3.94456585e+14 4.07399707e+14\n",
      " 3.97098626e+14 4.34320781e+14 3.55440343e+14 3.91914170e+14\n",
      " 4.04115919e+14 4.10827377e+14 3.64909366e+14 3.54036090e+14\n",
      " 3.61545823e+14 4.37440360e+14 3.77682318e+14 4.21136406e+14\n",
      " 3.46020274e+14 4.30563699e+14 3.84471275e+14 4.02631911e+14\n",
      " 3.76096696e+14 3.00745997e+14 4.04160630e+14 4.12260444e+14\n",
      " 3.51677031e+14 3.80231688e+14 3.79171294e+14 3.74433305e+14\n",
      " 3.36740568e+14 3.71623805e+14 4.28634217e+14 3.40420151e+14\n",
      " 3.53998065e+14 3.30402053e+14 1.44133218e+14 3.90487064e+14\n",
      " 3.93330346e+14 3.81278171e+14 4.21108586e+14 3.29016678e+14\n",
      " 3.80219765e+14 3.60324926e+14 4.03287836e+14 3.84785327e+14\n",
      " 3.87182142e+14 3.95131388e+14 3.75398046e+14 3.90247799e+14\n",
      " 3.98373446e+14 4.36039087e+14 3.05677278e+14 4.43261595e+14\n",
      " 4.13389663e+14 4.09638274e+14 3.88230613e+14 4.50910967e+14\n",
      " 3.99020160e+14 3.56538761e+14 3.65529254e+14 4.30949290e+14\n",
      " 2.88422762e+14 4.40595707e+14 3.77938474e+14 3.81195435e+14\n",
      " 4.16091589e+14 3.94427771e+14 3.25935124e+14 4.32704358e+14\n",
      " 3.21985206e+14 4.15583251e+14 3.73731675e+14 2.79828789e+14\n",
      " 3.77069385e+14 3.79403336e+14 3.96911296e+14 3.31551869e+14\n",
      " 3.00946513e+14 3.78731782e+14 4.37712413e+14 3.93967125e+14\n",
      " 3.90916641e+14 3.79565827e+14 3.94474469e+14 3.91015005e+14\n",
      " 3.73469558e+14 3.64259671e+14 4.35347393e+14 3.52768494e+14\n",
      " 3.83992019e+14 4.13764324e+14 3.72005421e+14 4.36663943e+14\n",
      " 4.21117528e+14 3.24885660e+14 4.15607096e+14 4.47950899e+14\n",
      " 4.31527447e+14 3.83816612e+14 3.56463974e+14 4.05567140e+14\n",
      " 4.12201554e+14 4.44120748e+14 3.52661643e+14 2.75166581e+14\n",
      " 4.13248038e+14 3.65831115e+14 3.74486958e+14 4.29034711e+14\n",
      " 3.62979884e+14 4.10094677e+14 4.38488831e+14 4.24369522e+14\n",
      " 3.81187487e+14 3.88706887e+14 3.60654607e+14 4.10440524e+14\n",
      " 3.73875019e+14 3.71637715e+14 3.63775179e+14 4.20611177e+14\n",
      " 3.77766772e+14 4.06182059e+14 4.22089225e+14 3.56979267e+14\n",
      " 3.90046558e+14 3.88067128e+14 3.56415020e+14 3.78731782e+14\n",
      " 2.86290052e+14 3.68620744e+14 3.81447617e+14 3.07132473e+14\n",
      " 4.30594500e+14 4.35867654e+14 3.54969036e+14 3.30702920e+14\n",
      " 3.76514080e+14 4.02579976e+14 3.79898757e+14 3.85392030e+14\n",
      " 3.30230620e+14 3.94252363e+14 3.05589574e+14 4.37353650e+14\n",
      " 3.74087458e+14 3.07865172e+14 3.21932546e+14 3.97671816e+14\n",
      " 4.20869321e+14 3.95482928e+14 3.84105556e+14 4.36603066e+14\n",
      " 3.57020998e+14 3.80923382e+14 3.19262684e+14 4.49539502e+14\n",
      " 3.37001692e+14 3.63122503e+14 3.78132491e+14 3.92676677e+14\n",
      " 4.18948781e+14 4.38488831e+14 3.55355620e+14 4.08808928e+14\n",
      " 4.40670495e+14 3.73176370e+14 3.35330353e+14 3.64346381e+14\n",
      " 3.71724425e+14 3.43821719e+14 3.05075275e+14 3.96968199e+14\n",
      " 4.14941235e+14 4.19452151e+14 3.95683444e+14 4.23232354e+14\n",
      " 3.58732348e+14 3.93728128e+14 4.25526561e+14 3.32291523e+14\n",
      " 4.18723425e+14 4.33416917e+14 4.20123973e+14 3.43303445e+14\n",
      " 4.04905253e+14 4.05213075e+14 4.21571944e+14 3.58301778e+14\n",
      " 3.99784654e+14 2.66321419e+14 3.82179055e+14 3.83232493e+14\n",
      " 3.86883262e+14 4.16141267e+14 3.82415339e+14 3.23570828e+14\n",
      " 4.03028699e+14 4.16967632e+14 3.23917938e+14 3.79348689e+14\n",
      " 3.92507231e+14 2.94006988e+14 3.40525470e+14 4.20955037e+14\n",
      " 2.86306674e+14 3.70602161e+14 4.30278461e+14 3.75310343e+14\n",
      " 3.71353470e+14 4.36739724e+14 3.99133697e+14 3.55534008e+14\n",
      " 4.01475865e+14 3.39754290e+14 3.93464023e+14 4.18809411e+14]\n"
     ]
    }
   ],
   "source": [
    "y_house_SGDR = SGDR.predict(X_test_house)\n",
    "print(y_house_SGDR)"
   ]
  },
  {
   "cell_type": "code",
   "execution_count": null,
   "metadata": {},
   "outputs": [],
   "source": []
  }
 ],
 "metadata": {
  "kernelspec": {
   "display_name": "Python 3",
   "language": "python",
   "name": "python3"
  },
  "language_info": {
   "codemirror_mode": {
    "name": "ipython",
    "version": 3
   },
   "file_extension": ".py",
   "mimetype": "text/x-python",
   "name": "python",
   "nbconvert_exporter": "python",
   "pygments_lexer": "ipython3",
   "version": "3.7.3"
  }
 },
 "nbformat": 4,
 "nbformat_minor": 2
}
