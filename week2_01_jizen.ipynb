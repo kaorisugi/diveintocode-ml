{
 "cells": [
  {
   "cell_type": "markdown",
   "metadata": {},
   "source": [
    "# Week2 授業前課題1 小麦とチェス盤問題"
   ]
  },
  {
   "cell_type": "markdown",
   "metadata": {},
   "source": [
    "## 2.小麦とチェス盤問題"
   ]
  },
  {
   "cell_type": "raw",
   "metadata": {},
   "source": [
    "8×8マスのチェス盤の上に、小麦の粒を1, 2, 4と順番に置いていくと最終的な小麦の数はどのようになるか"
   ]
  },
  {
   "cell_type": "markdown",
   "metadata": {},
   "source": [
    "## 3.少ないマスで考える"
   ]
  },
  {
   "cell_type": "raw",
   "metadata": {},
   "source": [
    "まずは4マスの板に小麦の粒を並べていくことを考えます。配列（リスト）の1つの要素を1つのマスに見立てています。\n",
    "Pythonのリストとfor文を使い次のように作ることができます。"
   ]
  },
  {
   "cell_type": "code",
   "execution_count": 219,
   "metadata": {},
   "outputs": [
    {
     "name": "stdout",
     "output_type": "stream",
     "text": [
      "4マスの板に小麦を並べる（リスト）：[1, 2, 4, 8]\n"
     ]
    }
   ],
   "source": [
    "# サンプルコード（リスト）\n",
    "n_squares = 4\n",
    "small_board_list = [1]\n",
    "for _ in range(n_squares - 1):\n",
    "    small_board_list.append(2*small_board_list[-1])\n",
    "print(\"4マスの板に小麦を並べる（リスト）：{}\".format(small_board_list))"
   ]
  },
  {
   "cell_type": "code",
   "execution_count": 220,
   "metadata": {},
   "outputs": [
    {
     "name": "stdout",
     "output_type": "stream",
     "text": [
      "4マスの板に小麦を並べる（ndarray）：[1 2 4 8]\n"
     ]
    }
   ],
   "source": [
    "# サンプルコード （np）\n",
    "import numpy as np\n",
    "\n",
    "small_board_ndarray = np.array(small_board_list)\n",
    "print(\"4マスの板に小麦を並べる（ndarray）：{}\".format(small_board_ndarray))"
   ]
  },
  {
   "cell_type": "markdown",
   "metadata": {},
   "source": [
    "### 【問題1】2×2マスのチェス盤の小麦の数"
   ]
  },
  {
   "cell_type": "raw",
   "metadata": {},
   "source": [
    "2×2マスのチェス盤をndarrayによって表現し、各マスの小麦の数を計算してください。左上のマスに小麦を1つ置いた後、その右が2つ、左下が4つ、右下が8つという風に進みます。サンプルコードで作成したndarrayのshapeの変形を行ってください。"
   ]
  },
  {
   "cell_type": "code",
   "execution_count": 221,
   "metadata": {},
   "outputs": [
    {
     "name": "stdout",
     "output_type": "stream",
     "text": [
      "2×2マスの板に小麦を並べる（ndarray）：\n",
      "[[1 2]\n",
      " [4 8]]\n"
     ]
    }
   ],
   "source": [
    "# リストのshapeの変形を行う\n",
    "reshaped_bord_ndarray = small_board_ndarray.reshape(2,2)\n",
    "print(\"2×2マスの板に小麦を並べる（ndarray）：\\n{}\".format(reshaped_bord_ndarray))"
   ]
  },
  {
   "cell_type": "markdown",
   "metadata": {},
   "source": [
    "## 4.8×8マスのチェス盤"
   ]
  },
  {
   "cell_type": "markdown",
   "metadata": {},
   "source": [
    "### 【問題2】n×mマスへの拡張"
   ]
  },
  {
   "cell_type": "raw",
   "metadata": {},
   "source": [
    "n×mマスのチェス盤の小麦の数を記したndarrayを返す関数を作成してください。そして、この関数を使い8×8マスのチェス盤の小麦の数を求めてください。"
   ]
  },
  {
   "cell_type": "code",
   "execution_count": 222,
   "metadata": {},
   "outputs": [
    {
     "name": "stdout",
     "output_type": "stream",
     "text": [
      "8×8マスのチェス盤の小麦の数：\n",
      "[[                  1                   2                   4\n",
      "                    8                  16                  32\n",
      "                   64                 128]\n",
      " [                256                 512                1024\n",
      "                 2048                4096                8192\n",
      "                16384               32768]\n",
      " [              65536              131072              262144\n",
      "               524288             1048576             2097152\n",
      "              4194304             8388608]\n",
      " [           16777216            33554432            67108864\n",
      "            134217728           268435456           536870912\n",
      "           1073741824          2147483648]\n",
      " [         4294967296          8589934592         17179869184\n",
      "          34359738368         68719476736        137438953472\n",
      "         274877906944        549755813888]\n",
      " [      1099511627776       2199023255552       4398046511104\n",
      "        8796093022208      17592186044416      35184372088832\n",
      "       70368744177664     140737488355328]\n",
      " [    281474976710656     562949953421312    1125899906842624\n",
      "     2251799813685248    4503599627370496    9007199254740992\n",
      "    18014398509481984   36028797018963968]\n",
      " [  72057594037927936  144115188075855872  288230376151711744\n",
      "   576460752303423488 1152921504606846976 2305843009213693952\n",
      "  4611686018427387904 9223372036854775808]]\n"
     ]
    }
   ],
   "source": [
    "import numpy as np\n",
    "\n",
    "# n*mマスのチェス盤の小麦の数を記したndarrayを返す関数を作成\n",
    "\n",
    "def board_wheat(n_squares):\n",
    "    n_squares = vertical_axis*horizontal_axis\n",
    "    board_wheat_list = [1]\n",
    "    for _ in range(n_squares-1):\n",
    "        board_wheat_list.append(2*board_wheat_list[-1])\n",
    "        board_wheat_ndarray = np.array(board_wheat_list).astype('uint64')\n",
    "    return board_wheat_ndarray.reshape(vertical_axis,horizontal_axis)\n",
    "\n",
    "# 8*8マスのチェス盤の小麦の数を求める\n",
    "vertical_axis = 8\n",
    "horizontal_axis = 8\n",
    "\n",
    "print(\"{}×{}マスのチェス盤の小麦の数：\\n{}\".format(vertical_axis,horizontal_axis,board_wheat(n_squares)))"
   ]
  },
  {
   "cell_type": "markdown",
   "metadata": {},
   "source": [
    "### 【問題3】小麦の数の合計"
   ]
  },
  {
   "cell_type": "raw",
   "metadata": {},
   "source": [
    "8×8マスのチェス盤の小麦の数の合計を求めてください。また、各列の平均を求め、それを棒グラフで可視化してください。\n",
    "棒グラフはサンプルコードを用意しています。"
   ]
  },
  {
   "cell_type": "code",
   "execution_count": 223,
   "metadata": {},
   "outputs": [
    {
     "name": "stdout",
     "output_type": "stream",
     "text": [
      "8×8マスのチェス盤の小麦の数：\n",
      "[[                  1                   2                   4\n",
      "                    8                  16                  32\n",
      "                   64                 128]\n",
      " [                256                 512                1024\n",
      "                 2048                4096                8192\n",
      "                16384               32768]\n",
      " [              65536              131072              262144\n",
      "               524288             1048576             2097152\n",
      "              4194304             8388608]\n",
      " [           16777216            33554432            67108864\n",
      "            134217728           268435456           536870912\n",
      "           1073741824          2147483648]\n",
      " [         4294967296          8589934592         17179869184\n",
      "          34359738368         68719476736        137438953472\n",
      "         274877906944        549755813888]\n",
      " [      1099511627776       2199023255552       4398046511104\n",
      "        8796093022208      17592186044416      35184372088832\n",
      "       70368744177664     140737488355328]\n",
      " [    281474976710656     562949953421312    1125899906842624\n",
      "     2251799813685248    4503599627370496    9007199254740992\n",
      "    18014398509481984   36028797018963968]\n",
      " [  72057594037927936  144115188075855872  288230376151711744\n",
      "   576460752303423488 1152921504606846976 2305843009213693952\n",
      "  4611686018427387904 9223372036854775808]]\n",
      "各列の小麦の平均（粒）\n",
      "[9.04252160e+15 1.80850432e+16 3.61700864e+16 7.23401728e+16\n",
      " 1.44680346e+17 2.89360691e+17 5.78721383e+17 1.15744277e+18]\n"
     ]
    },
    {
     "data": {
      "image/png": "[encoded data removed]",
      "text/plain": [
       "<Figure size 432x288 with 1 Axes>"
      ]
     },
     "metadata": {
      "needs_background": "light"
     },
     "output_type": "display_data"
    }
   ],
   "source": [
    "# 棒グラフのサンプルコード\n",
    "\n",
    "import matplotlib.pyplot as plt\n",
    "%matplotlib inline\n",
    "\n",
    "# 関数を使って8*8マスのチェス盤の小麦の数を求める\n",
    "vertical_axis = 8\n",
    "horizontal_axis = 8\n",
    "\n",
    "print(\"{}×{}マスのチェス盤の小麦の数：\\n{}\".format(vertical_axis,horizontal_axis,board_wheat(n_squares)))\n",
    "\n",
    "# 各列の平均値を求める\n",
    "\n",
    "board_wheat_list = board_wheat(n_squares)\n",
    "each_array_average = board_wheat_list.mean(axis=0)\n",
    "\n",
    "print(\"各列の小麦の平均（粒）\\n{}\".format(board_wheat_list.mean(axis=0)))\n",
    "\n",
    "# 各列の平均をグラフに表す\n",
    "\n",
    "plt.xlabel(\"column\")\n",
    "plt.ylabel(\"wheat[grain]\")\n",
    "plt.title(\"Average of each column\")\n",
    "plt.bar(np.arange(1,horizontal_axis + 1), each_array_average)\n",
    "plt.show()"
   ]
  },
  {
   "cell_type": "markdown",
   "metadata": {},
   "source": [
    "### 【問題4】小麦の数のヒートマップ"
   ]
  },
  {
   "cell_type": "raw",
   "metadata": {},
   "source": [
    "8×8マスのチェス盤の小麦の数をヒートマップとして可視化してください。ヒートマップはサンプルコードを用意しています。\n",
    "ヒートマップのサンプルコード\n",
    "4行2列の配列のヒートマップです。値が小さいところが紫、大きいところが黄色になっています。"
   ]
  },
  {
   "cell_type": "code",
   "execution_count": 224,
   "metadata": {},
   "outputs": [
    {
     "data": {
      "image/png": "[encoded data removed]",
      "text/plain": [
       "<Figure size 432x288 with 1 Axes>"
      ]
     },
     "metadata": {
      "needs_background": "light"
     },
     "output_type": "display_data"
    }
   ],
   "source": [
    "vertical_axis = 8\n",
    "horizontal_axis = 8\n",
    "\n",
    "plt.xlabel(\"column\")\n",
    "plt.ylabel(\"row\")\n",
    "plt.title(\"heatmap\")\n",
    "\n",
    "#plt.pcolor(np.array([0, 1, 3, 5, 7, 9, 11, 13]).reshape(4, 2))\n",
    "plt.pcolor(board_wheat(n_squares))\n",
    "plt.show()"
   ]
  },
  {
   "cell_type": "markdown",
   "metadata": {},
   "source": [
    "## 5.チェス盤の後半"
   ]
  },
  {
   "cell_type": "raw",
   "metadata": {},
   "source": [
    "アメリカの発明家レイ・カーツワイルはこの逸話を引用し、「チェス盤の後半」というフレーズを作りました。技術の進歩ははじめの内は社会に対して目立った影響が感じられなくとも、倍に倍にと進んでいくと、チェス盤の後半にさしかかったころから、急激な変化を起こすということを伝えています。"
   ]
  },
  {
   "cell_type": "markdown",
   "metadata": {},
   "source": [
    "### 【問題5】後半は前半の何倍か"
   ]
  },
  {
   "cell_type": "raw",
   "metadata": {},
   "source": [
    "チェス盤の後半にある小麦の数は前半にある小麦の数の何倍かを求めてください。前半とは配列の0から3行目、後半は4から7行目です。"
   ]
  },
  {
   "cell_type": "code",
   "execution_count": 225,
   "metadata": {},
   "outputs": [
    {
     "name": "stdout",
     "output_type": "stream",
     "text": [
      "前半の小麦の合計は4294967295粒\n",
      "後半の小麦の合計は18446744069414584320粒\n",
      "後半の小麦の数は前半の2.3283064365386963e-10倍\n"
     ]
    }
   ],
   "source": [
    "vertical_axis = 8\n",
    "horizontal_axis = 8\n",
    "\n",
    "# 前半と後半の小麦の数のリスト\n",
    "first_half = board_wheat(n_squares)[:4,:]\n",
    "second_half = board_wheat(n_squares)[4:,:] \n",
    "\n",
    "# 前半、後半の小麦のそれぞれの合計を求める\n",
    "total_first_half = sum(first_half.sum(axis=1)) # 各行の合計をさらに合計\n",
    "total_second_half = sum(second_half.sum(axis=1)) # 各行の合計をさらに合計\n",
    "times = total_first_half/total_second_half # 前半を後半で割る\n",
    "print(\"前半の小麦の合計は{}粒\".format(int(total_first_half)))\n",
    "print(\"後半の小麦の合計は{}粒\".format(int(total_second_half)))\n",
    "print(\"後半の小麦の数は前半の{}倍\".format(times))"
   ]
  },
  {
   "cell_type": "markdown",
   "metadata": {},
   "source": [
    "## 6.他の計算方法"
   ]
  },
  {
   "cell_type": "raw",
   "metadata": {},
   "source": [
    "はじめのサンプルコードではPythonのリストとfor文を使っていましたが、他の方法も考えられます。\n",
    "ndarrayのnp.append()とfor文を使うと次のように作ることができます。\n",
    "サンプルコード（np.append()）"
   ]
  },
  {
   "cell_type": "code",
   "execution_count": 226,
   "metadata": {},
   "outputs": [
    {
     "name": "stdout",
     "output_type": "stream",
     "text": [
      "4マスの板に小麦を並べる（ndarray）：[1 2 4 8]\n"
     ]
    }
   ],
   "source": [
    "n_squares = 4\n",
    "small_board_ndarray = np.array([1])\n",
    "for _ in range(n_squares - 1):\n",
    "    small_board_ndarray = np.append(small_board_ndarray, 2*small_board_ndarray[-1])\n",
    "print(\"4マスの板に小麦を並べる（ndarray）：{}\".format(small_board_ndarray))"
   ]
  },
  {
   "cell_type": "markdown",
   "metadata": {},
   "source": [
    "### 【問題6】他の計算方法によるn×mマスへの拡張"
   ]
  },
  {
   "cell_type": "raw",
   "metadata": {},
   "source": [
    "問題2と同様の「n×mマスのチェス盤の小麦の数を記したndarrayを返す関数」を、np.append()を使ったものと、ブロードキャストを使ったもので新たに作成してください。\n",
    "それらの関数を使い8×8マスのチェス盤の小麦の数を再び求めてください。"
   ]
  },
  {
   "cell_type": "code",
   "execution_count": 243,
   "metadata": {},
   "outputs": [
    {
     "name": "stdout",
     "output_type": "stream",
     "text": [
      "8×8マスのチェス盤の小麦の数（np.append())：\n",
      "[[                  1                   2                   4\n",
      "                    8                  16                  32\n",
      "                   64                 128]\n",
      " [                256                 512                1024\n",
      "                 2048                4096                8192\n",
      "                16384               32768]\n",
      " [              65536              131072              262144\n",
      "               524288             1048576             2097152\n",
      "              4194304             8388608]\n",
      " [           16777216            33554432            67108864\n",
      "            134217728           268435456           536870912\n",
      "           1073741824          2147483648]\n",
      " [         4294967296          8589934592         17179869184\n",
      "          34359738368         68719476736        137438953472\n",
      "         274877906944        549755813888]\n",
      " [      1099511627776       2199023255552       4398046511104\n",
      "        8796093022208      17592186044416      35184372088832\n",
      "       70368744177664     140737488355328]\n",
      " [    281474976710656     562949953421312    1125899906842624\n",
      "     2251799813685248    4503599627370496    9007199254740992\n",
      "    18014398509481984   36028797018963968]\n",
      " [  72057594037927936  144115188075855872  288230376151711744\n",
      "   576460752303423488 1152921504606846976 2305843009213693952\n",
      "  4611686018427387904 9223372036854775808]]\n",
      "8×8マスのチェス盤の小麦の数（ブロードキャスト）\n",
      "：[[                   1                    2                    4\n",
      "                     8                   16                   32\n",
      "                    64                  128]\n",
      " [                 256                  512                 1024\n",
      "                  2048                 4096                 8192\n",
      "                 16384                32768]\n",
      " [               65536               131072               262144\n",
      "                524288              1048576              2097152\n",
      "               4194304              8388608]\n",
      " [            16777216             33554432             67108864\n",
      "             134217728            268435456            536870912\n",
      "            1073741824           2147483648]\n",
      " [          4294967296           8589934592          17179869184\n",
      "           34359738368          68719476736         137438953472\n",
      "          274877906944         549755813888]\n",
      " [       1099511627776        2199023255552        4398046511104\n",
      "         8796093022208       17592186044416       35184372088832\n",
      "        70368744177664      140737488355328]\n",
      " [     281474976710656      562949953421312     1125899906842624\n",
      "      2251799813685248     4503599627370496     9007199254740992\n",
      "     18014398509481984    36028797018963968]\n",
      " [   72057594037927936   144115188075855872   288230376151711744\n",
      "    576460752303423488  1152921504606846976  2305843009213693952\n",
      "   4611686018427387904 -9223372036854775808]]\n"
     ]
    }
   ],
   "source": [
    "# np.append()\n",
    "\n",
    "def wheat_append(n_squares):\n",
    "    n_squares = vertical_axis*horizontal_axis\n",
    "    board_ndarray = np.array([1])\n",
    "    for _ in range(n_squares - 1):\n",
    "        board_ndarray = np.append(board_ndarray, 2*board_ndarray[-1]).astype(\"uint64\")\n",
    "    return board_ndarray.reshape(vertical_axis,horizontal_axis)\n",
    "\n",
    "vertical_axis = 8\n",
    "horizontal_axis = 8\n",
    "print(\"{}×{}マスのチェス盤の小麦の数（np.append())：\\n{}\".format(vertical_axis,horizontal_axis,wheat_append(n_squares)))\n",
    "\n",
    "# ブロードキャスト\n",
    "\n",
    "def wheat_broad(n_squares):\n",
    "    n_squares = vertical_axis*horizontal_axis\n",
    "    indices_of_squares = np.arange(n_squares) # マス目のインデックスリストを用意\n",
    "    board_ndarray = 2**indices_of_squares # マス目のインデックス数に２乗する\n",
    "    return board_ndarray.reshape(vertical_axis,horizontal_axis)\n",
    "\n",
    "vertical_axis = 8\n",
    "horizontal_axis = 8\n",
    "\n",
    "print(\"{}×{}マスのチェス盤の小麦の数（ブロードキャスト）\\n：{}\".format(vertical_axis,horizontal_axis,wheat_broad(n_squares)))"
   ]
  },
  {
   "cell_type": "markdown",
   "metadata": {},
   "source": [
    "### 【問題7】計算時間の比較"
   ]
  },
  {
   "cell_type": "raw",
   "metadata": {},
   "source": [
    "3種類の方法を見てきました。それぞれの計算時間をJupyter Notebookの%%timeitを用いて計測し、比較と考察を行ってください。\n",
    "%%timeitはセル内のコードを複数回実行し、その平均実行時間を出力する働きをします。\n",
    "%%timeitの例"
   ]
  },
  {
   "cell_type": "code",
   "execution_count": 254,
   "metadata": {},
   "outputs": [
    {
     "name": "stdout",
     "output_type": "stream",
     "text": [
      "227 µs ± 10.9 µs per loop (mean ± std. dev. of 7 runs, 1000 loops each)\n"
     ]
    }
   ],
   "source": [
    "%%timeit\n",
    "vertical_axis = 8\n",
    "horizontal_axis = 8\n",
    "board_wheat(n_squares)\n",
    "# for文"
   ]
  },
  {
   "cell_type": "code",
   "execution_count": 250,
   "metadata": {},
   "outputs": [
    {
     "name": "stdout",
     "output_type": "stream",
     "text": [
      "463 µs ± 9.6 µs per loop (mean ± std. dev. of 7 runs, 1000 loops each)\n"
     ]
    }
   ],
   "source": [
    "%%timeit\n",
    "vertical_axis = 8\n",
    "horizontal_axis = 8\n",
    "wheat_append(n_squares)\n",
    "# np.append()"
   ]
  },
  {
   "cell_type": "code",
   "execution_count": 252,
   "metadata": {},
   "outputs": [
    {
     "name": "stdout",
     "output_type": "stream",
     "text": [
      "2.28 µs ± 78.5 ns per loop (mean ± std. dev. of 7 runs, 100000 loops each)\n"
     ]
    }
   ],
   "source": [
    "%%timeit\n",
    "vertical_axis = 8\n",
    "horizontal_axis = 8\n",
    "wheat_broad(n_squares)\n",
    "# ブロードキャスト"
   ]
  },
  {
   "cell_type": "raw",
   "metadata": {},
   "source": [
    "#比較と考察\n",
    "３つの方法での計算時間は、早い順に、ブロードキャスト、for文、np.append()であった。特にブロードキャストは、他の２つの方法より格段に早い結果となった。"
   ]
  },
  {
   "cell_type": "code",
   "execution_count": null,
   "metadata": {},
   "outputs": [],
   "source": []
  }
 ],
 "metadata": {
  "kernelspec": {
   "display_name": "Python 3",
   "language": "python",
   "name": "python3"
  },
  "language_info": {
   "codemirror_mode": {
    "name": "ipython",
    "version": 3
   },
   "file_extension": ".py",
   "mimetype": "text/x-python",
   "name": "python",
   "nbconvert_exporter": "python",
   "pygments_lexer": "ipython3",
   "version": "3.7.3"
  }
 },
 "nbformat": 4,
 "nbformat_minor": 2
}
