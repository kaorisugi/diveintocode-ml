{
 "cells": [
  {
   "cell_type": "markdown",
   "metadata": {},
   "source": [
    "# Week1 授業課題2 何回折ったら富士山を超えるか問題"
   ]
  },
  {
   "cell_type": "markdown",
   "metadata": {},
   "source": [
    "### 【問題1】富士山を超える最小の折る回数"
   ]
  },
  {
   "cell_type": "code",
   "execution_count": 1,
   "metadata": {},
   "outputs": [
    {
     "name": "stdout",
     "output_type": "stream",
     "text": [
      "紙の厚さが富士山を超えるのは 26 回折った時\n"
     ]
    }
   ],
   "source": [
    "THICKNESS = 0.00008\n",
    "FUJI = 3776\n",
    "\n",
    "# n回紙を折った時の厚さを算出\n",
    "\n",
    "thickness_folded = THICKNESS\n",
    "count_folded = 0\n",
    "while thickness_folded <= FUJI:\n",
    "    thickness_folded *= 2\n",
    "    count_folded += 1\n",
    "        \n",
    "# 富士山を超える回数n\n",
    "print(\"紙の厚さが富士山を超えるのは {} 回折った時\".format(count_folded))"
   ]
  },
  {
   "cell_type": "markdown",
   "metadata": {},
   "source": [
    "### 【問題2】任意の厚さに対応した関数を作成"
   ]
  },
  {
   "cell_type": "code",
   "execution_count": 6,
   "metadata": {},
   "outputs": [
    {
     "name": "stdout",
     "output_type": "stream",
     "text": [
      "最も近い太陽以外の恒星に到達するには紙を 59 回折る\n"
     ]
    }
   ],
   "source": [
    "# 最も近い太陽以外の恒星（プロキシマ・ケンタウリ）までの距離4.243光年\n",
    "# 1光年　＝　9460730472580.800km\n",
    "\n",
    "def compute_count_folded(target_distance):\n",
    "    \"\"\"\n",
    "    距離を入力すると、何回折った時に超えるかを出力する関数\n",
    "    \n",
    "    Parameteres\n",
    "    --------------\n",
    "    thickness: int\n",
    "    紙の厚み (default : 0.00008)\n",
    "       \n",
    "    target_distance: int\n",
    "    任意の距離\n",
    "    \n",
    "    Returns\n",
    "    --------------\n",
    "    count_folded : int\n",
    "        任意の距離を超えるための折る回数    \n",
    "        \n",
    "    \"\"\"\n",
    "    thickness = 0.00008 # 折る前の紙の厚さを設定\n",
    "    count_folded = 0\n",
    "    \n",
    "    while True:\n",
    "        thickness *= 2\n",
    "        count_folded += 1\n",
    "        if  thickness > target_distance:\n",
    "            break\n",
    "    return count_folded\n",
    "\n",
    "#最も近い太陽以外の恒星までの距離\n",
    "target_distance = 9460730472580.800*4.243\n",
    "\n",
    "print(\"最も近い太陽以外の恒星に到達するには紙を {} 回折る\".format(compute_count_folded(target_distance)))\n"
   ]
  },
  {
   "cell_type": "markdown",
   "metadata": {},
   "source": [
    "### 【問題3】必要な紙の長さ"
   ]
  },
  {
   "cell_type": "code",
   "execution_count": 4,
   "metadata": {},
   "outputs": [
    {
     "name": "stdout",
     "output_type": "stream",
     "text": [
      "月に届くために必要な紙の長さ：309078163.6525683万km\n",
      "富士山に届くために必要な紙の長さ：18864.634848724018万km\n",
      "最も近い太陽以外の恒星に届くために必要な紙の長さ：1.3919643021679255e+24万km\n"
     ]
    }
   ],
   "source": [
    "# 厚さ t0 の紙を n 回折るために必要な紙の長さLを求める公式　L=πt0/6(2n+4)(2n−1)\n",
    "\n",
    "import math\n",
    "pai = math.pi\n",
    "\n",
    "def compute_paper_length(target_distance):\n",
    "    \"\"\"\n",
    "    折った紙の厚さが、任意の距離に到達するために必要な紙の長さを求める関数\n",
    "    \n",
    "    Parameteres\n",
    "    --------------\n",
    "    thickness: int\n",
    "    紙の厚み (default : 0.00008)\n",
    "       \n",
    "    target_distance: int\n",
    "    任意の距離\n",
    "    \n",
    "    Returns\n",
    "    --------------\n",
    "    paper_length : int\n",
    "        必要な紙の長さ\n",
    "    \n",
    "    \"\"\"\n",
    "    thickness = 0.00008 # 折る前の紙の厚さを設定\n",
    "    paper_length = 0\n",
    "    count_folded = compute_count_folded(target_distance)\n",
    "    return pai*thickness/6*(2**count_folded + 4)*(2**count_folded - 1)\n",
    "\n",
    "# 月に届くための紙の長さ\n",
    "MOON = [\"月\",384400]\n",
    "print(\"{}に届くために必要な紙の長さ：{}万km\".format(MOON[0],compute_paper_length(MOON[1])/1000/10000))\n",
    "\n",
    "# 富士山に届くための紙の長さ\n",
    "FUJI = [\"富士山\",3776]\n",
    "print(\"{}に届くために必要な紙の長さ：{}万km\".format(FUJI[0],compute_paper_length(FUJI[1])/1000/10000))\n",
    "\n",
    "# 最も近い太陽以外の恒星に届くための紙の長さ\n",
    "FIXED_STAR = [\"最も近い太陽以外の恒星\",9460730472580.800*4.243]\n",
    "print(\"{}に届くために必要な紙の長さ：{}万km\".format(FIXED_STAR[0],compute_paper_length(FIXED_STAR[1])/1000/10000))\n"
   ]
  }
 ],
 "metadata": {
  "kernelspec": {
   "display_name": "Python 3",
   "language": "python",
   "name": "python3"
  },
  "language_info": {
   "codemirror_mode": {
    "name": "ipython",
    "version": 3
   },
   "file_extension": ".py",
   "mimetype": "text/x-python",
   "name": "python",
   "nbconvert_exporter": "python",
   "pygments_lexer": "ipython3",
   "version": "3.7.3"
  }
 },
 "nbformat": 4,
 "nbformat_minor": 2
}
