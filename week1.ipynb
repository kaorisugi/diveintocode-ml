{
 "cells": [
  {
   "cell_type": "code",
   "execution_count": 49,
   "metadata": {},
   "outputs": [
    {
     "name": "stdout",
     "output_type": "stream",
     "text": [
      "厚さ： 703687441.77664メートル\n"
     ]
    }
   ],
   "source": [
    "#【問題1】べき乗の算術演算子を使用して作成\n",
    "THICKNESS = 0.00008\n",
    "fold_times =43\n",
    "\n",
    "folded_thickness = THICKNESS*2**fold_times\n",
    "\n",
    "print(\"厚さ： {}メートル\".format(folded_thickness))"
   ]
  },
  {
   "cell_type": "code",
   "execution_count": 7,
   "metadata": {},
   "outputs": [
    {
     "name": "stdout",
     "output_type": "stream",
     "text": [
      "厚さ： 703687.44キロメートル\n"
     ]
    }
   ],
   "source": [
    "#【問題2】単位の変換\n",
    "# メートルをキロメートルに変換して小数点以下2桁で表示する\n",
    "print(\"厚さ： {:.2f}キロメートル\".format(folded_thickness/1000))"
   ]
  },
  {
   "cell_type": "code",
   "execution_count": 50,
   "metadata": {},
   "outputs": [
    {
     "name": "stdout",
     "output_type": "stream",
     "text": [
      "703687441.77664\n"
     ]
    }
   ],
   "source": [
    "#【問題3】for文を使用して作成\n",
    "THICKNESS = 0.00008\n",
    "\n",
    "for i in range(fold_times):\n",
    "    THICKNESS*=2\n",
    "    \n",
    "print(THICKNESS)"
   ]
  },
  {
   "cell_type": "code",
   "execution_count": 53,
   "metadata": {},
   "outputs": [
    {
     "name": "stdout",
     "output_type": "stream",
     "text": [
      "time : 5.698204040527344e-05[s]\n"
     ]
    }
   ],
   "source": [
    "#【問題4】計算時間の比較\n",
    "import time\n",
    "start = time.time()\n",
    "#####\n",
    "\n",
    "THICKNESS = 0.00008\n",
    "\n",
    "folded_thickness = THICKNESS*2**fold_times\n",
    "\n",
    "#print(\"厚さ： {}メートル\".format(folded_thickness))\n",
    "#####\n",
    "elapsed_time = time.time() - start\n",
    "print(\"time : {}[s]\".format(elapsed_time))\n"
   ]
  },
  {
   "cell_type": "code",
   "execution_count": 24,
   "metadata": {},
   "outputs": [
    {
     "name": "stdout",
     "output_type": "stream",
     "text": [
      "703687441.77664\n",
      "time : 0.00015306472778320312[s]\n"
     ]
    }
   ],
   "source": [
    "import time\n",
    "start = time.time()\n",
    "#####\n",
    "\n",
    "THICKNESS = 0.00008\n",
    "\n",
    "for i in range(43):\n",
    "    THICKNESS*=2\n",
    "    \n",
    "print(THICKNESS)\n",
    "#####\n",
    "elapsed_time = time.time() - start\n",
    "print(\"time : {}[s]\".format(elapsed_time))\n"
   ]
  },
  {
   "cell_type": "raw",
   "metadata": {},
   "source": [
    "#考察：計算速度を比較すると、for文を使った計算の方が時間がかかっていた。四則演算の方が早い。ただし、拡張性や再利用性などの点では、for 文のコードが良さそう"
   ]
  },
  {
   "cell_type": "code",
   "execution_count": 46,
   "metadata": {},
   "outputs": [
    {
     "name": "stdout",
     "output_type": "stream",
     "text": [
      "[8e-05, 0.00016, 0.00032, 0.00064, 0.00128, 0.00256, 0.00512, 0.01024, 0.02048, 0.04096, 0.08192, 0.16384, 0.32768, 0.65536, 1.31072, 2.62144, 5.24288, 10.48576, 20.97152, 41.94304, 83.88608, 167.77216, 335.54432, 671.08864, 1342.17728, 2684.35456, 5368.70912, 10737.41824, 21474.83648, 42949.67296, 85899.34592, 171798.69184, 343597.38368, 687194.76736, 1374389.53472, 2748779.06944, 5497558.13888, 10995116.27776, 21990232.55552, 43980465.11104, 87960930.22208, 175921860.44416, 351843720.88832, 703687441.77664]\n",
      "44\n"
     ]
    }
   ],
   "source": [
    "#【問題5】リストへの保存\n",
    "#数式を一般化し、n回折った紙の厚さ tnは以下のように表せます。\n",
    "#tn=t0×2n\n",
    "#最終的にリストに44個の値が格納されていることをlen関数を用いて確認しておきましょう。\n",
    "\n",
    "#空のリストを作成する。\n",
    "list=[]\n",
    "\n",
    "#折る前の値をリストに追加する。\n",
    "\n",
    "THICKNESS = 0.00008\n",
    "list = [THICKNESS]\n",
    "\n",
    "#for文の中でn回折った時の値をリストに追加していく。\n",
    "\n",
    "for i in range(43):\n",
    "    THICKNESS*=2\n",
    "    list.append(THICKNESS)\n",
    "    #print(THICKNESS)\n",
    "print(list)\n",
    "print(len(list))"
   ]
  },
  {
   "cell_type": "code",
   "execution_count": 55,
   "metadata": {},
   "outputs": [
    {
     "data": {
      "image/png": "[encoded data removed]",
      "text/plain": [
       "<Figure size 432x288 with 1 Axes>"
      ]
     },
     "metadata": {
      "needs_background": "light"
     },
     "output_type": "display_data"
    }
   ],
   "source": [
    "#【問題6】折れ線グラフの表示\n",
    "import matplotlib.pyplot as plt\n",
    "%matplotlib inline\n",
    "\n",
    "plt.title(\"thickness of folded paper\")\n",
    "plt.xlabel(\"number of folds\")\n",
    "plt.ylabel(\"thickness[m]\")\n",
    "plt.plot(list) # 「リスト名」のところにリストの変数名を入れる\n",
    "plt.show()"
   ]
  },
  {
   "cell_type": "code",
   "execution_count": 42,
   "metadata": {},
   "outputs": [],
   "source": [
    "#厚さがどのように変化しているかを簡単に説明してください。\n",
    "#折る回数が40回を過ぎたところから、急激に厚さが増加した。"
   ]
  },
  {
   "cell_type": "code",
   "execution_count": 45,
   "metadata": {},
   "outputs": [
    {
     "data": {
      "image/png": "[encoded data removed]",
      "text/plain": [
       "<Figure size 432x288 with 1 Axes>"
      ]
     },
     "metadata": {
      "needs_background": "light"
     },
     "output_type": "display_data"
    }
   ],
   "source": [
    "#【問題7】グラフのカスタマイズ\n",
    "\n",
    "plt.title(\"thickness of folded paper\")\n",
    "plt.xlabel(\"number of folds\")\n",
    "plt.ylabel(\"thickness[m]\")\n",
    "plt.plot(list, color='red')\n",
    "plt.show()"
   ]
  },
  {
   "cell_type": "code",
   "execution_count": null,
   "metadata": {},
   "outputs": [],
   "source": []
  }
 ],
 "metadata": {
  "kernelspec": {
   "display_name": "Python 3",
   "language": "python",
   "name": "python3"
  },
  "language_info": {
   "codemirror_mode": {
    "name": "ipython",
    "version": 3
   },
   "file_extension": ".py",
   "mimetype": "text/x-python",
   "name": "python",
   "nbconvert_exporter": "python",
   "pygments_lexer": "ipython3",
   "version": "3.7.3"
  }
 },
 "nbformat": 4,
 "nbformat_minor": 2
}
