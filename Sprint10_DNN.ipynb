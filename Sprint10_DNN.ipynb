{
 "cells": [
  {
   "cell_type": "markdown",
   "metadata": {},
   "source": [
    "# Sprint10 深層学習スクラッチ　ディープニューラルネットワーク"
   ]
  },
  {
   "cell_type": "code",
   "execution_count": 1,
   "metadata": {},
   "outputs": [],
   "source": [
    "import numpy as np\n",
    "import random\n",
    "import pandas as pd\n",
    "from numpy import linalg as LA\n",
    "import matplotlib.pyplot as plt\n",
    "from sklearn.model_selection import train_test_split # testとtrain分割\n",
    "from sklearn.metrics import accuracy_score\n",
    "import math"
   ]
  },
  {
   "cell_type": "code",
   "execution_count": 2,
   "metadata": {},
   "outputs": [
    {
     "name": "stderr",
     "output_type": "stream",
     "text": [
      "Using TensorFlow backend.\n"
     ]
    }
   ],
   "source": [
    "from keras.datasets import mnist\n",
    "(X_train, y_train), (X_test, y_test) = mnist.load_data()"
   ]
  },
  {
   "cell_type": "code",
   "execution_count": 3,
   "metadata": {},
   "outputs": [
    {
     "name": "stdout",
     "output_type": "stream",
     "text": [
      "X_train(60000, 28, 28)\n",
      "X_test(10000, 28, 28)\n",
      "y_train(60000,)\n",
      "y_test(10000,)\n",
      "uint8\n"
     ]
    }
   ],
   "source": [
    "print(\"X_train{}\".format(X_train.shape)) # (60000, 28, 28)\n",
    "print(\"X_test{}\".format(X_test.shape)) # (10000, 28, 28)\n",
    "print(\"y_train{}\".format(y_train.shape))# (60000,)\n",
    "print(\"y_test{}\".format(y_test.shape))#(10000, )\n",
    "print(X_train[0].dtype) # uint8"
   ]
  },
  {
   "cell_type": "code",
   "execution_count": 4,
   "metadata": {},
   "outputs": [],
   "source": [
    "# (1, 28, 28)の各画像を、(1, 784)に変換\n",
    "X_train = X_train.reshape(-1, 784)\n",
    "X_test = X_test.reshape(-1, 784)"
   ]
  },
  {
   "cell_type": "code",
   "execution_count": 5,
   "metadata": {},
   "outputs": [
    {
     "name": "stdout",
     "output_type": "stream",
     "text": [
      "1.0\n",
      "0.0\n"
     ]
    }
   ],
   "source": [
    "X_train = X_train.astype(np.float)\n",
    "X_test = X_test.astype(np.float)\n",
    "X_train /= 255 # 全て２５５で割っている\n",
    "X_test /= 255\n",
    "print(X_train.max()) # 1.0\n",
    "print(X_train.min()) # 0.0"
   ]
  },
  {
   "cell_type": "code",
   "execution_count": 6,
   "metadata": {},
   "outputs": [
    {
     "name": "stdout",
     "output_type": "stream",
     "text": [
      "(60000,)\n",
      "(60000, 10)\n",
      "float64\n"
     ]
    }
   ],
   "source": [
    "# yをone-hot表現に変換\n",
    "\n",
    "from sklearn.preprocessing import OneHotEncoder\n",
    "enc = OneHotEncoder(handle_unknown='ignore', sparse=False)\n",
    "y_train_one_hot = enc.fit_transform(y_train[:, np.newaxis])\n",
    "y_test_one_hot = enc.transform(y_test[:, np.newaxis])\n",
    "print(y_train.shape) # (60000,)\n",
    "print(y_train_one_hot.shape) # (60000, 10)\n",
    "print(y_train_one_hot.dtype) # float64"
   ]
  },
  {
   "cell_type": "code",
   "execution_count": 7,
   "metadata": {},
   "outputs": [
    {
     "name": "stdout",
     "output_type": "stream",
     "text": [
      "(48000, 784)\n",
      "(12000, 784)\n",
      "(48000,)\n",
      "(12000,)\n"
     ]
    }
   ],
   "source": [
    "# test,valデータに分割\n",
    "X_train, X_val, y_train, y_val = train_test_split(X_train, y_train, test_size=0.2)\n",
    "print(X_train.shape) # (48000, 784)\n",
    "print(X_val.shape) # (12000, 784)\n",
    "print(y_train.shape)\n",
    "print(y_val.shape)"
   ]
  },
  {
   "cell_type": "code",
   "execution_count": 8,
   "metadata": {},
   "outputs": [],
   "source": [
    "class GetMiniBatch:\n",
    "    \"\"\"\n",
    "    ミニバッチを取得するイテレータ\n",
    "\n",
    "    Parameters\n",
    "    ----------\n",
    "    X : 次の形のndarray, shape (n_samples, n_features)\n",
    "      訓練用データ\n",
    "    y : 次の形のndarray, shape (n_samples, 1)\n",
    "      正解値\n",
    "    batch_size : int\n",
    "      バッチサイズ\n",
    "    seed : int\n",
    "      NumPyの乱数のシード\n",
    "    \"\"\"\n",
    "    def __init__(self, X, y, batch_size = 20, seed=0):\n",
    "        self.batch_size = batch_size\n",
    "        np.random.seed(seed)\n",
    "        shuffle_index = np.random.permutation(np.arange(X.shape[0]))\n",
    "        self._X = X[shuffle_index]\n",
    "        self._y = y[shuffle_index]\n",
    "        self._stop = np.ceil(X.shape[0]/self.batch_size).astype(np.int)\n",
    "\n",
    "    def __len__(self):\n",
    "        return self._stop\n",
    "\n",
    "    def __getitem__(self,item):\n",
    "        p0 = item*self.batch_size\n",
    "        p1 = item*self.batch_size + self.batch_size\n",
    "        return self._X[p0:p1], self._y[p0:p1]        \n",
    "\n",
    "    def __iter__(self):\n",
    "        self._counter = 0\n",
    "        return self\n",
    "\n",
    "    def __next__(self):\n",
    "        if self._counter >= self._stop:\n",
    "            raise StopIteration()\n",
    "        p0 = self._counter*self.batch_size\n",
    "        p1 = self._counter*self.batch_size + self.batch_size\n",
    "        self._counter += 1\n",
    "        return self._X[p0:p1], self._y[p0:p1]"
   ]
  },
  {
   "cell_type": "markdown",
   "metadata": {},
   "source": [
    "### 【問題1】全結合層のクラス化"
   ]
  },
  {
   "cell_type": "code",
   "execution_count": 9,
   "metadata": {},
   "outputs": [],
   "source": [
    "class FC:\n",
    "    \"\"\"\n",
    "    ノード数n_nodes1からn_nodes2への全結合層\n",
    "    Parameters\n",
    "    ----------\n",
    "    n_nodes1 : int\n",
    "      前の層のノード数\n",
    "    n_nodes2 : int\n",
    "      後の層のノード数\n",
    "    initializer : 初期化方法のインスタンス\n",
    "    optimizer : 最適化手法のインスタンス\n",
    "    \"\"\"\n",
    "    #(self.n_features, self.n_nodes1, SimpleInitializer(self.sigma), optimizer)\n",
    "    def __init__(self, n_nodes1, n_nodes2, initializer, optimizer):\n",
    "        #最適化メソッド\n",
    "        self.optimizer = optimizer\n",
    "        #initializerのメソッドを使い、self.Wとself.Bを初期化する\n",
    "#         self.n_nodes1 = n_nodes1\n",
    "#         self.n_nodes2 = n_nodes2\n",
    "        self.initializer = initializer\n",
    "        self.W = self.initializer.W(n_nodes1, n_nodes2)\n",
    "        self.B = self.initializer.B(n_nodes2)\n",
    "        #self.gradientLZ = None\n",
    "        self.gradientLW = None\n",
    "        self.gradientLB = None\n",
    "        self.HW = 0\n",
    "        self.HB = 0\n",
    "        \n",
    "    def forward(self, Z):\n",
    "        \"\"\"\n",
    "        フォワード\n",
    "        Parameters\n",
    "        ----------\n",
    "        X : 次の形のndarray, shape (batch_size, n_nodes1)\n",
    "            入力\n",
    "        Returns\n",
    "        ----------\n",
    "        A : 次の形のndarray, shape (batch_size, n_nodes2)\n",
    "            出力\n",
    "        \"\"\"        \n",
    "\n",
    "        self.Z = Z\n",
    "        #print(\"self.Z\\n{}\".format(self.Z))\n",
    "        A = self.Z@self.W + self.B\n",
    "        \n",
    "        return A\n",
    "    \n",
    "    def backward(self, dA):\n",
    "        \"\"\"\n",
    "        バックワード\n",
    "        Parameters\n",
    "        ----------\n",
    "        dA : 次の形のndarray, shape (batch_size, n_nodes2)\n",
    "            後ろから流れてきた勾配\n",
    "        Returns\n",
    "        ----------\n",
    "        dZ : 次の形のndarray, shape (batch_size, n_nodes1)\n",
    "            前に流す勾配\n",
    "        \"\"\"\n",
    "        \n",
    "        self.gradientLB = np.sum(dA, axis=0) #optimizer(SGD)に渡して下で更新できるように勾配Bにself.つけている\n",
    "        self.gradientLW = self.Z.T@dA # optimizer(SGD)に渡して下で更新できるように勾配Wにself.つけている\n",
    "        dZ = dA@self.W.T # optimizer(SGD)に渡して下で更新できるようにWにself.つけている\n",
    "    \n",
    "        #WとBを更新（外で作ったインスタンス（FC1など）が、self.、optimizerのself.も保持している）FC１などのWとBを更新したい\n",
    "        self.optimizer.update(self)\n",
    "        \n",
    "        return dZ"
   ]
  },
  {
   "cell_type": "markdown",
   "metadata": {},
   "source": [
    "### 【問題2】初期化方法のクラス化"
   ]
  },
  {
   "cell_type": "code",
   "execution_count": 10,
   "metadata": {},
   "outputs": [],
   "source": [
    "class SimpleInitializer():\n",
    "    \"\"\"\n",
    "    ガウス分布によるシンプルな初期化\n",
    "    Parameters\n",
    "    ----------\n",
    "    sigma : float\n",
    "      ガウス分布の標準偏差\n",
    "    \"\"\"\n",
    "    def __init__(self, sigma=0.01):\n",
    "        self.σ = sigma\n",
    "\n",
    "    def W(self, n_nodes1, n_nodes2):\n",
    "        \"\"\"\n",
    "        重みの初期化\n",
    "        Parameters\n",
    "        ----------\n",
    "        n_nodes1 : int\n",
    "          前の層のノード数\n",
    "        n_nodes2 : int\n",
    "          後の層のノード数\n",
    "\n",
    "        Returns\n",
    "        ----------\n",
    "        W :\n",
    "        \"\"\"\n",
    "        \n",
    "        # W(重み)の初期値を用意\n",
    "        W = self.σ * np.random.randn(n_nodes1, n_nodes2)\n",
    "        self.W = W\n",
    "        return self.W\n",
    "    \n",
    "    def B(self, n_nodes2):\n",
    "        \"\"\"\n",
    "        バイアスの初期化\n",
    "        Parameters\n",
    "        ----------\n",
    "        n_nodes2 : int\n",
    "          後の層のノード数\n",
    "\n",
    "        Returns\n",
    "        ----------\n",
    "        B :\n",
    "        \"\"\"\n",
    "        # B(バイアス)の形を用意\n",
    "        B = self.σ * np.random.randn(n_nodes2)\n",
    "        self.B = B\n",
    "        return self.B"
   ]
  },
  {
   "cell_type": "markdown",
   "metadata": {},
   "source": [
    "### 【問題3】最適化手法のクラス化"
   ]
  },
  {
   "cell_type": "code",
   "execution_count": 11,
   "metadata": {},
   "outputs": [],
   "source": [
    "class SGD:\n",
    "    \"\"\"\n",
    "    確率的勾配降下法\n",
    "    Parameters\n",
    "    ----------\n",
    "    lr : 学習率\n",
    "    \"\"\"\n",
    "    def __init__(self,lr):\n",
    "        self.lr = lr\n",
    "    def update(self, layer):\n",
    "        \"\"\"\n",
    "        ある層の重みやバイアスの更新\n",
    "        Parameters\n",
    "        ----------\n",
    "        layer : 更新前の層のインスタンス\n",
    "\n",
    "        Returns\n",
    "        ----------\n",
    "        layer : 更新後の層のインスタンス\n",
    "        \"\"\"\n",
    "        \n",
    "        #Wの更新式\n",
    "        layer.W = layer.W - layer.gradientLW*self.lr\n",
    "        \n",
    "        # Bの更新式\n",
    "        layer.B = layer.B - layer.gradientLB*self.lr\n",
    "        \n",
    "        #return layer #参照渡しのため、なくてもよい"
   ]
  },
  {
   "cell_type": "markdown",
   "metadata": {},
   "source": [
    "### 【問題4】活性化関数のクラス化\n",
    "活性化関数のクラス化を行なってください。ソフトマックス関数のバックプロパゲーションには交差エントロピー誤差の計算も含む実装を行うことで計算が簡略化されます。"
   ]
  },
  {
   "cell_type": "code",
   "execution_count": 12,
   "metadata": {},
   "outputs": [],
   "source": [
    "# activation\n",
    "# 活性化関数（シグモイド関数）\n",
    "class Sigmoid:\n",
    "    def __init__(self):\n",
    "        self.Z = None\n",
    "    def forward(self, A):\n",
    "        Z = 1/(1+np.exp(-A))\n",
    "        self.Z = Z\n",
    "        return self.Z\n",
    "    def backward(self, A):\n",
    "        gradientLA = self.gradientLZ@(1.0 - self.Z)*self.Z\n",
    "        return gradientLA\n",
    "\n",
    "#活性化関数（ハイパボリックタンジェント関数）\n",
    "class Tanh: #フォワードの時の数値を保存しておく\n",
    "#     def __init__(self):\n",
    "#         self.gradientLZ = None\n",
    "    def forward(self, A):\n",
    "        return np.tanh(A)\n",
    "\n",
    "    def backward(self, dZ, A):\n",
    "        gradientLA = dZ*(1 - np.tanh(A)**2) # ⭐️(20,200)(20,200)\n",
    "        return gradientLA        \n",
    "\n",
    "#ソフトマックス関数で確率ベクトルを求める関数(バッチサイズ分:２０個)\n",
    "class Softmax:\n",
    "    def forward(self, A):\n",
    "        if A.ndim == 2:\n",
    "            A = A.T\n",
    "            A = A - np.max(A, axis=0)\n",
    "            Z = np.exp(A) / np.sum(np.exp(A), axis=0)\n",
    "            self.Z = Z\n",
    "            return self.Z.T\n",
    "        c = A - np.max(A)\n",
    "        self.Z = np.exp(c) / np.sum(np.exp(c))\n",
    "        return self.Z\n",
    "            \n",
    "    def backward(self, y):\n",
    "        dA = self.Z.T - y\n",
    "        return dA"
   ]
  },
  {
   "cell_type": "markdown",
   "metadata": {},
   "source": [
    "### 【問題5】ReLUクラスの作成"
   ]
  },
  {
   "cell_type": "code",
   "execution_count": 13,
   "metadata": {},
   "outputs": [],
   "source": [
    "#活性化関数\n",
    "class ReLU:\n",
    "    def __init__(self):\n",
    "        self.mask = None\n",
    "    \n",
    "    def forward(self, X):\n",
    "        self.mask = (X <= 0)#0以下の値のインデックスをとる\n",
    "        z = X.copy()\n",
    "        self.X = X\n",
    "        z[self.mask] = 0\n",
    "        return np.maximum(0, self.X)\n",
    "\n",
    "    def backward(self, dZ, A):\n",
    "        dZ[self.mask] = 0 \n",
    "        dout = dZ\n",
    "        return dout"
   ]
  },
  {
   "cell_type": "markdown",
   "metadata": {},
   "source": [
    "### 【問題6】重みの初期値\n",
    "シグモイド関数やハイパボリックタンジェント関数のときはXavierInitializerクラスがよい。 ReLUのときはHeInitializerクラスがよい。"
   ]
  },
  {
   "cell_type": "code",
   "execution_count": 14,
   "metadata": {},
   "outputs": [],
   "source": [
    "# XavierInitializerクラス（初期値）\n",
    "class Xavier():\n",
    "    \"\"\"\n",
    "    Xavierによる初期化\n",
    "    \"\"\"\n",
    "    def __init__(self, n_nodes1):\n",
    "        self.σ = 1/math.sqrt(n_nodes1)\n",
    "        \n",
    "    def W(self, n_nodes1, n_nodes2):\n",
    "        \"\"\"\n",
    "        重みの初期化\n",
    "        Parameters\n",
    "        ----------\n",
    "        n_nodes1 : int\n",
    "          前の層のノード数\n",
    "        n_nodes2 : int\n",
    "          後の層のノード数\n",
    "\n",
    "        Returns\n",
    "        ----------\n",
    "        W :\n",
    "        \"\"\"\n",
    "        \n",
    "        # W(重み)の初期値を用意\n",
    "        W = self.σ * np.random.randn(n_nodes1, n_nodes2)\n",
    "        self.W = W\n",
    "        return self.W\n",
    "    \n",
    "    def B(self, n_nodes2):\n",
    "        \"\"\"\n",
    "        バイアスの初期化\n",
    "        Parameters\n",
    "        ----------\n",
    "        n_nodes2 : int\n",
    "          後の層のノード数\n",
    "\n",
    "        Returns\n",
    "        ----------\n",
    "        B :\n",
    "        \"\"\"\n",
    "        # B(バイアス)の形を用意\n",
    "        B = self.σ * np.random.randn(n_nodes2)\n",
    "        self.B = B\n",
    "        return self.B"
   ]
  },
  {
   "cell_type": "code",
   "execution_count": 15,
   "metadata": {},
   "outputs": [],
   "source": [
    "# HeInitializerクラス（初期値）\n",
    "class He():\n",
    "    \"\"\"\n",
    "    Heによる初期化\n",
    "    \"\"\"\n",
    "    def __init__(self, n_nodes1):\n",
    "        self.σ = math.sqrt(2/n_nodes1)\n",
    "        \n",
    "    def W(self, n_nodes1, n_nodes2):\n",
    "        \"\"\"\n",
    "        重みの初期化\n",
    "        Parameters\n",
    "        ----------\n",
    "        n_nodes1 : int\n",
    "          前の層のノード数\n",
    "        n_nodes2 : int\n",
    "          後の層のノード数\n",
    "​\n",
    "        Returns\n",
    "        ----------\n",
    "        W :\n",
    "        \"\"\"\n",
    "        \n",
    "        # W(重み)の初期値を用意\n",
    "        W = self.σ * np.random.randn(n_nodes1, n_nodes2)\n",
    "        self.W = W\n",
    "        return self.W\n",
    "    \n",
    "    def B(self, n_nodes2):\n",
    "        \"\"\"\n",
    "        バイアスの初期化\n",
    "        Parameters\n",
    "        ----------\n",
    "        n_nodes2 : int\n",
    "          後の層のノード数\n",
    "​\n",
    "        Returns\n",
    "        ----------\n",
    "        B :\n",
    "        \"\"\"\n",
    "        # B(バイアス)の形を用意\n",
    "        B = self.σ * np.random.randn(n_nodes2)\n",
    "        self.B = B\n",
    "        return self.B"
   ]
  },
  {
   "cell_type": "markdown",
   "metadata": {},
   "source": [
    "### 【問題7】最適化手法\n",
    "学習率は学習過程で変化させていく方法\n"
   ]
  },
  {
   "cell_type": "code",
   "execution_count": 20,
   "metadata": {},
   "outputs": [],
   "source": [
    "class AdaGrad:\n",
    "    \"\"\"\n",
    "    確率的勾配降下法\n",
    "    Parameters\n",
    "    ----------\n",
    "    lr : 学習率\n",
    "    \"\"\"\n",
    "    def __init__(self,lr):\n",
    "        self.lr = lr\n",
    "        self.HW = 0\n",
    "        self.HB = 0\n",
    "        \n",
    "    def update(self, layer):\n",
    "        \"\"\"\n",
    "        ある層の重みやバイアスの更新\n",
    "        Parameters\n",
    "        ----------\n",
    "        layer : 更新前の層のインスタンス\n",
    "\n",
    "        Returns\n",
    "        ----------\n",
    "        layer : 更新後の層のインスタンス\n",
    "        \"\"\"\n",
    "\n",
    "        layer.HW = layer.HW + np.mean(layer.gradientLW**2)\n",
    "        layer.HB = layer.HB + np.mean(layer.gradientLB**2)\n",
    "        #print(\"HW:\",layer.HW.shape)\n",
    "        #print(\"W:\",layer.W.shape)\n",
    "        #print(\"LW:\",layer.gradientLW.shape)\n",
    "        \n",
    "        #Wの更新式\n",
    "        layer.W = layer.W - self.lr*layer.gradientLW/math.sqrt(layer.HW)\n",
    "        \n",
    "        # Bの更新式\n",
    "        layer.B = layer.B - self.lr*layer.gradientLB/math.sqrt(layer.HB)\n",
    "        \n",
    "        return layer #参照渡しのため、なくてもよい"
   ]
  },
  {
   "cell_type": "markdown",
   "metadata": {},
   "source": [
    "### 【問題8】クラスの完成"
   ]
  },
  {
   "cell_type": "code",
   "execution_count": 21,
   "metadata": {},
   "outputs": [],
   "source": [
    "class ScratchDeepNeuralNetrowkClassifier():\n",
    "    def __init__(self, lr = 0.01, n_nodes1 = 400,  n_nodes2 = 200, n_output = 10, sigma = 0.01, n_epoc=5, optimizer=SGD):\n",
    "        #初期化に使う関数\n",
    "        #self.Initializer = Initializer()\n",
    "        # 活性化関数\n",
    "        #self.activation = activation\n",
    "        \n",
    "        self.lr = lr #学習率\n",
    "        self.n_output = n_output # 出力層のノード数\n",
    "        self.n_nodes1 = n_nodes1\n",
    "        self.n_nodes2 = n_nodes2\n",
    "        self.sigma = sigma\n",
    "        #学習率の設定\n",
    "        self.optimizer = optimizer(self.lr)\n",
    "        \n",
    "        #損失を記録\n",
    "        self.loss_list = []\n",
    "        self.val_loss_list = []\n",
    "        self.n_epoc = n_epoc\n",
    "        \n",
    "\n",
    "    #交差エントロピー関数(仮に作った予測値と正解の差を出す)  \n",
    "    def _cross_entropy(self, y_train, Z3):\n",
    "        L = - np.mean(np.sum(y_train*np.log(Z3), axis=1)) #　問７で使う　fit,predictでは使わない\n",
    "        return L\n",
    "               \n",
    "    def fit(self, X_train, y_train, X_val=None, y_val=None):\n",
    "        \"\"\"\n",
    "        ニューラルネットワーク分類器を学習する。\n",
    "\n",
    "        Parameters\n",
    "        ----------\n",
    "        X : 次の形のndarray, shape (n_samples, n_features)\n",
    "            訓練用データの特徴量\n",
    "        y : 次の形のndarray, shape (n_samples, )\n",
    "            訓練用データの正解値\n",
    "        X_val : 次の形のndarray, shape (n_samples, n_features)\n",
    "            検証用データの特徴量\n",
    "        y_val : 次の形のndarray, shape (n_samples, )\n",
    "            検証用データの正解値\n",
    "        \"\"\"\n",
    "        self.n_features = X_train.shape[1]\n",
    "        \n",
    "        #初期化、学習率の関数をインスタンス化\n",
    "        #initializer = He(self.n_nodes1) #初期化の関数を変えるときはここを書き換える\n",
    "        #optimizer = SGD(self.lr)#学習率を層ごとに変化させたい場合はAdaGrad(self.lr) に書き換える\n",
    "        \n",
    "        self.FC1 = FC(self.n_features, self.n_nodes1, Xavier(self.n_features), self.optimizer)\n",
    "        self.activation1 = ReLU()#別の活性化関数を使いたい場合はここを書き換える\n",
    "        self.FC2 = FC(self.n_nodes1, self.n_nodes2, Xavier(self.n_nodes1), self.optimizer)\n",
    "        self.activation2 = ReLU()#別の活性化関数を使いたい場合はここを書き換える\n",
    "        self.FC3 = FC(self.n_nodes2, self.n_output, Xavier(self.n_nodes2), self.optimizer)\n",
    "        self.activation3 = Softmax()\n",
    "        \n",
    "        # one-hot-encode\n",
    "        enc = OneHotEncoder(handle_unknown='ignore', sparse=False)\n",
    "        y_train_one_hot = enc.fit_transform(y_train[:, np.newaxis])\n",
    "        \n",
    "        # ミニバッチ２０枚を取得\n",
    "        get_mini_batch = GetMiniBatch(X_train, y_train_one_hot, batch_size=20)\n",
    "        \n",
    "        self.fit_Z3 = np.empty((0, self.n_output))#空の１行目作る\n",
    "\n",
    "        \n",
    "        #epoch\n",
    "        for _ in range(self.n_epoc):\n",
    "            for mini_X_train, mini_y_train in get_mini_batch:\n",
    "                #イテレーションごとのフォワード　ここの層を増やしても対応できるようにできればより良い（for文などで）\n",
    "                A1 = self.FC1.forward(mini_X_train)\n",
    "                #print(A1.shape)\n",
    "                Z1 = self.activation1.forward(A1)\n",
    "                A2 = self.FC2.forward(Z1)\n",
    "                Z2 = self.activation2.forward(A2)\n",
    "                A3 = self.FC3.forward(Z2)\n",
    "                #print(\"Z2{}\".format(Z2))\n",
    "                Z3 = self.activation3.forward(A3)\n",
    "                #print(\"Z3{}\".format(np.argmax(Z3,axis=1)))\n",
    "\n",
    "                #イテレーションごとのバックワード\n",
    "                dA3 = self.activation3.backward(mini_y_train) # 交差エントロピー誤差とソフトマックスを合わせている\n",
    "                #print(\"dA3{}\".format(dA3[-1]))\n",
    "                dZ2 = self.FC3.backward(dA3)\n",
    "                #print(\"dZ2{}\".format(dZ2[-1]))\n",
    "                dA2 = self.activation2.backward(dZ2, A2)\n",
    "                #print(\"dA2{}\".format(dA2[-1]))\n",
    "                dZ1 = self.FC2.backward(dA2)\n",
    "                dA1 = self.activation1.backward(dZ1, A1)\n",
    "                dZ0 = self.FC1.backward(dA1) # dZ0は使用しない\n",
    "                #print(dZ0.shape)\n",
    "                #self.fit_Z3 = np.append(self.fit_Z3, self.Z3, axis=0)\n",
    "\n",
    "                train_loss = self._cross_entropy(mini_y_train, Z3)\n",
    "                self.loss_list.append(train_loss)\n",
    "                #print(self.loss_list[-1])\n",
    "            \n",
    "        \n",
    "    \n",
    "    def predict(self, X):\n",
    "        \n",
    "        A1 = self.FC1.forward(X)\n",
    "        #print(A1.shape)\n",
    "        Z1 = self.activation1.forward(A1)\n",
    "        #print(Z1)\n",
    "        A2 = self.FC2.forward(Z1)\n",
    "        Z2 = self.activation2.forward(A2)\n",
    "        A3 = self.FC3.forward(Z2)\n",
    "        Z3 = self.activation3.forward(A3)\n",
    "        #print(Z3.shape)\n",
    "        predict = np.argmax(Z3, axis=1) #axis 方向確認する\n",
    "        \n",
    "        #学習曲線をプロット\n",
    "        fig = plt.figure()\n",
    "        ax = fig.add_subplot(1, 1, 1)\n",
    "\n",
    "        ax.plot(self.loss_list, label='train loss')\n",
    "        #ax.plot(self.val_loss_list, label='val loss')\n",
    "\n",
    "        ax.legend()\n",
    "        ax.set_xlabel(\"epoc [num]\")\n",
    "        ax.set_ylabel(\"cross entorpy\")\n",
    "\n",
    "        plt.show()\n",
    "        \n",
    "        return predict\n"
   ]
  },
  {
   "cell_type": "markdown",
   "metadata": {},
   "source": [
    "### 【問題9】学習と推定"
   ]
  },
  {
   "cell_type": "code",
   "execution_count": 22,
   "metadata": {},
   "outputs": [
    {
     "data": {
      "image/png": "[encoded data removed]",
      "text/plain": [
       "<Figure size 432x288 with 1 Axes>"
      ]
     },
     "metadata": {
      "needs_background": "light"
     },
     "output_type": "display_data"
    },
    {
     "name": "stdout",
     "output_type": "stream",
     "text": [
      "正解率 ：0.9705\n",
      "予測\n",
      "[5 6 7 5 8 1 4 7 8 2 2 0 6 9 4 0 1 7 2 7 2 8 8 4 6 9 9 1 9 7 0 5 1 1 6 3 8\n",
      " 1 3 2 6 2 2 9 1 3 3 1 7 7 7 3 9 9 4 2 7 6 5 6 8 0 1 7 4 4 8 1 5 5 0 0 8 9\n",
      " 4 2 5 0 3 6 0 8 4 3 1 5 1 8 7 1 8 8 5 1 7 1 7 1 6 2 8 2 7 3 3 2 8 6 0 9 4\n",
      " 9 2 0 9 2 0 4 7 1 6 5 9 8 5 7 8 9 3 8 4 5 7 0 9 1 9 3 0 0 8 2 1 7 1 4 3 9\n",
      " 8 2 8 3 9 5 3 8 8 5 7 3 3 3 6 3 8 3 9 8 6 8 8 6 2 0 5 5 3 4 4 6 9 9 8 0 2\n",
      " 2 9 1 0 3 7 7 0 4 8 6 1 9 0 4 9 1 3 6 7 7 2 8 2 4 2 1 0 8 8 8 1 0 8 6 9 5\n",
      " 8 9 9 5 7 4 5 3 4 3 2 8 2 9 4 2 3 1 1 3 1 3 4 1 1 7 7 3 5 5 3 1 8 1 5 5 0\n",
      " 3 2 6 1 8 7 9 8 3 2 3 5 3 6 2 2 7 4 8 5 5 1 8 3 1 2 3 9 8 1 2 0 1 3 2 0 2\n",
      " 1 0 3 0]\n",
      "正解：\n",
      "[5 6 7 7 8 1 4 7 8 8 2 0 6 9 4 0 1 7 2 7 2 8 8 4 6 9 9 1 9 7 0 5 1 1 6 3 8\n",
      " 1 3 2 6 2 2 9 1 3 3 1 7 7 7 3 9 9 4 2 7 6 5 6 8 0 1 7 4 4 8 1 5 5 0 0 8 9\n",
      " 4 2 5 0 3 6 0 5 4 3 1 5 1 8 7 1 8 8 5 4 7 1 7 1 6 2 8 2 7 3 3 2 8 6 0 9 4\n",
      " 9 2 0 9 2 0 4 7 1 6 5 9 8 5 7 8 9 8 8 4 5 7 0 9 1 9 3 0 0 8 2 4 7 1 4 3 9\n",
      " 8 2 8 2 7 5 3 8 8 5 7 3 3 3 6 3 8 3 7 8 6 8 8 6 2 0 5 5 3 4 4 6 9 9 8 0 2\n",
      " 2 9 1 0 3 7 7 0 4 8 6 1 9 0 4 9 1 3 6 7 7 2 8 2 4 2 1 0 8 8 8 1 0 8 6 9 5\n",
      " 8 9 9 5 7 4 5 3 4 3 2 8 2 9 4 2 3 1 1 3 1 3 4 1 1 7 7 3 5 5 3 1 8 1 5 5 0\n",
      " 3 8 6 1 8 7 9 8 3 2 3 5 3 6 2 2 7 4 5 5 5 1 8 3 1 2 3 9 8 1 2 0 1 3 2 0 2\n",
      " 1 0 3 0]\n"
     ]
    }
   ],
   "source": [
    "SDNN = ScratchDeepNeuralNetrowkClassifier(lr = 0.01, n_nodes1 = 400,  n_nodes2 = 200, n_output = 10, sigma = 0.01, n_epoc=5, optimizer=SGD)\n",
    "SDNN.fit(X_train, y_train)\n",
    "pred = SDNN.predict(X_val)\n",
    "print(\"正解率 ：{}\".format(accuracy_score(y_val, pred)))\n",
    "print(\"予測\\n{}\".format(pred[:300]))\n",
    "print(\"正解：\\n{}\".format(y_val[:300]))"
   ]
  },
  {
   "cell_type": "code",
   "execution_count": 23,
   "metadata": {},
   "outputs": [
    {
     "data": {
      "image/png": "[encoded data removed]",
      "text/plain": [
       "<Figure size 432x288 with 1 Axes>"
      ]
     },
     "metadata": {
      "needs_background": "light"
     },
     "output_type": "display_data"
    },
    {
     "name": "stdout",
     "output_type": "stream",
     "text": [
      "正解率 ：0.96\n",
      "予測\n",
      "[5 6 7 7 8 1 4 7 8 8 2 0 6 9 4 0 1 7 2 7 2 8 8 4 6 9 9 1 9 7 0 5 1 1 6 3 8\n",
      " 1 3 2 6 2 2 9 8 3 3 1 7 7 7 3 9 9 4 2 7 6 5 6 8 0 1 7 4 4 8 1 5 5 0 0 8 9\n",
      " 4 2 5 0 3 6 0 5 4 3 1 5 1 8 7 1 8 8 5 1 7 1 7 1 1 2 8 2 7 3 3 2 8 6 0 9 4\n",
      " 9 2 0 9 2 0 4 7 1 6 5 9 8 0 7 8 9 3 8 6 5 7 0 9 1 9 3 0 0 8 2 4 7 1 4 3 9\n",
      " 8 2 8 3 9 5 3 8 8 5 7 3 3 3 6 3 8 3 9 8 6 8 8 6 2 0 5 5 3 9 4 6 9 9 8 0 2\n",
      " 2 9 8 0 3 7 7 0 4 8 6 1 9 0 4 4 1 3 6 7 7 2 8 2 4 2 1 0 8 8 8 1 0 8 6 9 5\n",
      " 8 9 7 5 7 4 5 3 4 2 2 8 2 9 4 2 3 6 1 3 1 3 4 1 1 7 7 3 1 5 3 8 8 1 5 5 0\n",
      " 7 8 6 1 8 7 9 8 3 2 3 5 3 6 2 2 7 4 4 5 5 1 8 3 1 2 3 9 8 1 2 0 1 3 2 0 2\n",
      " 1 0 3 0]\n",
      "正解：\n",
      "[5 6 7 7 8 1 4 7 8 8 2 0 6 9 4 0 1 7 2 7 2 8 8 4 6 9 9 1 9 7 0 5 1 1 6 3 8\n",
      " 1 3 2 6 2 2 9 1 3 3 1 7 7 7 3 9 9 4 2 7 6 5 6 8 0 1 7 4 4 8 1 5 5 0 0 8 9\n",
      " 4 2 5 0 3 6 0 5 4 3 1 5 1 8 7 1 8 8 5 4 7 1 7 1 6 2 8 2 7 3 3 2 8 6 0 9 4\n",
      " 9 2 0 9 2 0 4 7 1 6 5 9 8 5 7 8 9 8 8 4 5 7 0 9 1 9 3 0 0 8 2 4 7 1 4 3 9\n",
      " 8 2 8 2 7 5 3 8 8 5 7 3 3 3 6 3 8 3 7 8 6 8 8 6 2 0 5 5 3 4 4 6 9 9 8 0 2\n",
      " 2 9 1 0 3 7 7 0 4 8 6 1 9 0 4 9 1 3 6 7 7 2 8 2 4 2 1 0 8 8 8 1 0 8 6 9 5\n",
      " 8 9 9 5 7 4 5 3 4 3 2 8 2 9 4 2 3 1 1 3 1 3 4 1 1 7 7 3 5 5 3 1 8 1 5 5 0\n",
      " 3 8 6 1 8 7 9 8 3 2 3 5 3 6 2 2 7 4 5 5 5 1 8 3 1 2 3 9 8 1 2 0 1 3 2 0 2\n",
      " 1 0 3 0]\n"
     ]
    }
   ],
   "source": [
    "SDNN = ScratchDeepNeuralNetrowkClassifier(lr = 0.005, n_nodes1 = 400,  n_nodes2 = 200, n_output = 10, sigma = 0.01, n_epoc=2, optimizer=AdaGrad)\n",
    "SDNN.fit(X_train, y_train)\n",
    "pred = SDNN.predict(X_val)\n",
    "print(\"正解率 ：{}\".format(accuracy_score(y_val, pred)))\n",
    "print(\"予測\\n{}\".format(pred[:300]))\n",
    "print(\"正解：\\n{}\".format(y_val[:300]))"
   ]
  },
  {
   "cell_type": "code",
   "execution_count": null,
   "metadata": {},
   "outputs": [],
   "source": []
  }
 ],
 "metadata": {
  "kernelspec": {
   "display_name": "Python 3",
   "language": "python",
   "name": "python3"
  },
  "language_info": {
   "codemirror_mode": {
    "name": "ipython",
    "version": 3
   },
   "file_extension": ".py",
   "mimetype": "text/x-python",
   "name": "python",
   "nbconvert_exporter": "python",
   "pygments_lexer": "ipython3",
   "version": "3.7.3"
  },
  "latex_envs": {
   "LaTeX_envs_menu_present": true,
   "autoclose": false,
   "autocomplete": true,
   "bibliofile": "biblio.bib",
   "cite_by": "apalike",
   "current_citInitial": 1,
   "eqLabelWithNumbers": true,
   "eqNumInitial": 1,
   "hotkeys": {
    "equation": "Ctrl-E",
    "itemize": "Ctrl-I"
   },
   "labels_anchors": false,
   "latex_user_defs": false,
   "report_style_numbering": false,
   "user_envs_cfg": false
  },
  "toc": {
   "base_numbering": 1,
   "nav_menu": {},
   "number_sections": true,
   "sideBar": true,
   "skip_h1_title": false,
   "title_cell": "Table of Contents",
   "title_sidebar": "Contents",
   "toc_cell": false,
   "toc_position": {},
   "toc_section_display": true,
   "toc_window_display": false
  }
 },
 "nbformat": 4,
 "nbformat_minor": 2
}
