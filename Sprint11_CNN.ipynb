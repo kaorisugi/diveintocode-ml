{
 "cells": [
  {
   "cell_type": "markdown",
   "metadata": {},
   "source": [
    "# Sprint　深層学習スクラッチ　畳み込みニューラルネットワーク１"
   ]
  },
  {
   "cell_type": "code",
   "execution_count": 2,
   "metadata": {},
   "outputs": [],
   "source": [
    "import numpy as np\n",
    "import random\n",
    "import pandas as pd\n",
    "from numpy import linalg as LA\n",
    "import matplotlib.pyplot as plt\n",
    "from sklearn.model_selection import train_test_split # testとtrain分割\n",
    "from sklearn.metrics import accuracy_score\n",
    "import math"
   ]
  },
  {
   "cell_type": "code",
   "execution_count": null,
   "metadata": {},
   "outputs": [],
   "source": [
    "from keras.datasets import mnist\n",
    "(X_train, y_train), (X_test, y_test) = mnist.load_data()"
   ]
  },
  {
   "cell_type": "code",
   "execution_count": null,
   "metadata": {},
   "outputs": [],
   "source": [
    "print(\"X_train{}\".format(X_train.shape)) # (60000, 28, 28)\n",
    "print(\"X_test{}\".format(X_test.shape)) # (10000, 28, 28)\n",
    "print(\"y_train{}\".format(y_train.shape))# (60000,)\n",
    "print(\"y_test{}\".format(y_test.shape))#(10000, )\n",
    "print(X_train[0].dtype) # uint8"
   ]
  },
  {
   "cell_type": "code",
   "execution_count": null,
   "metadata": {},
   "outputs": [],
   "source": [
    "# (1, 28, 28)の各画像を、(1, 784)に変換\n",
    "X_train = X_train.reshape(-1, 784)\n",
    "X_test = X_test.reshape(-1, 784)"
   ]
  },
  {
   "cell_type": "code",
   "execution_count": null,
   "metadata": {},
   "outputs": [],
   "source": [
    "X_train = X_train.astype(np.float)\n",
    "X_test = X_test.astype(np.float)\n",
    "X_train /= 255 # 全て２５５で割っている\n",
    "X_test /= 255\n",
    "print(X_train.max()) # 1.0\n",
    "print(X_train.min()) # 0.0"
   ]
  },
  {
   "cell_type": "code",
   "execution_count": null,
   "metadata": {},
   "outputs": [],
   "source": []
  },
  {
   "cell_type": "markdown",
   "metadata": {},
   "source": [
    "### 【問題1】チャンネル数を1に限定した1次元畳み込み層クラスの作成"
   ]
  },
  {
   "cell_type": "code",
   "execution_count": null,
   "metadata": {},
   "outputs": [],
   "source": [
    "class SimpleInitializer:#⭐️iinitializerの渡し方？？実装あってる？？\n",
    "    \"\"\"\n",
    "    様々な関数による初期化\n",
    "    Parameters\n",
    "    ----------\n",
    "    sigma : float\n",
    "      ガウス分布の標準偏差\n",
    "    \"\"\"\n",
    "    def __init__(self):\n",
    "#         self.Xavier = Xavier\n",
    "#         self.HeInitia = HeInitia\n",
    "#         self.sigma = sigma\n",
    "        pass\n",
    "\n",
    "    # XavierInitializerクラス\n",
    "    def _XavierInitializer(self, n_nodes1):\n",
    "        Xavier = 1/math.sqrt(n_nodes1)\n",
    "        \n",
    "    # HeInitializerクラス\n",
    "    def _HeInitializer(self, n_nodes1):\n",
    "        HeInitia = math.sqrt(2/n_nodes1)\n",
    "\n",
    "    # sigmaクラス\n",
    "    def _Sigma(self):\n",
    "        δ = self.sigma\n",
    "    \n",
    "    def W(self, n_nodes1, n_nodes2):\n",
    "        \"\"\"\n",
    "        重みの初期化\n",
    "        Parameters\n",
    "        ----------\n",
    "        n_nodes1 : int\n",
    "          前の層のノード数\n",
    "        n_nodes2 : int\n",
    "          後の層のノード数\n",
    "\n",
    "        Returns\n",
    "        ----------\n",
    "        W :\n",
    "        \"\"\"\n",
    "        # W(重み)の初期値を用意\n",
    "        \n",
    "        if self.initializer == \"Xavier\":\n",
    "            self.initializer = _XavierInitializer(n_nodes1)\n",
    "        elif self.initializer == \"Helnitia\":\n",
    "            self.initializer = _HeInitializer(n_nodes1)\n",
    "        elif self.initializer == \"Sigma\"\n",
    "            self.initializer = _Sigma\n",
    "        \n",
    "        self.W = self.itializer * np.random.randn(n_nodes1, n_nodes2)\n",
    "        return W\n",
    "    \n",
    "    def B(self, n_nodes2):\n",
    "        \"\"\"\n",
    "        バイアスの初期化\n",
    "        Parameters\n",
    "        ----------\n",
    "        n_nodes2 : int\n",
    "          後の層のノード数\n",
    "\n",
    "        Returns\n",
    "        ----------\n",
    "        B :\n",
    "        \"\"\"\n",
    "        # B(バイアス)の形を用意\n",
    "        self.B = self.itializer * np.random.randn(self.n_nodes2)\n",
    "        return B"
   ]
  },
  {
   "cell_type": "code",
   "execution_count": 51,
   "metadata": {
    "scrolled": true
   },
   "outputs": [
    {
     "ename": "SyntaxError",
     "evalue": "invalid syntax (<ipython-input-51-05a22bf0b6ff>, line 59)",
     "output_type": "error",
     "traceback": [
      "\u001b[0;36m  File \u001b[0;32m\"<ipython-input-51-05a22bf0b6ff>\"\u001b[0;36m, line \u001b[0;32m59\u001b[0m\n\u001b[0;31m    gradientLX =\u001b[0m\n\u001b[0m                 ^\u001b[0m\n\u001b[0;31mSyntaxError\u001b[0m\u001b[0;31m:\u001b[0m invalid syntax\n"
     ]
    }
   ],
   "source": [
    "class SimpleConv1d:\n",
    "    #def __init__(self, itializer):\n",
    "        #self.initializer = initializer\n",
    "\n",
    "\n",
    "    def forward(self, X):\n",
    "        \"\"\"\n",
    "        フォワード\n",
    "        Parameters\n",
    "        ----------\n",
    "        X : 次の形のndarray, shape (batch_size, n_nodes1)\n",
    "            入力\n",
    "        Returns\n",
    "        ----------\n",
    "        A : 次の形のndarray, shape (batch_size, n_nodes2)\n",
    "            出力\n",
    "        \"\"\"\n",
    "        N_in = len(X)\n",
    "        P = 1\n",
    "        F = 3\n",
    "        S = 1\n",
    "        \n",
    "        N_out = (N_in + 2*P - F)/S +1\n",
    "        \n",
    "        indexes = np.empty((0, len(X)))\n",
    "\n",
    "        for i in range(self.N_out):\n",
    "            a = np.arange(len(X))\n",
    "            a = a[i : i + len(self.W)]\n",
    "            a = a[np.newaxis,:]\n",
    "            indexes = np.append(indexes, a, axis=0).astype(np.int)\n",
    "            #print(indexes.shape)\n",
    "            \n",
    "        A = X[indexes]@self.W + 1\n",
    "        return A\n",
    "    \n",
    "    def backward(self, dA):\n",
    "        \"\"\"\n",
    "        バックワード\n",
    "        Parameters\n",
    "        ----------\n",
    "        dA : 次の形のndarray, shape (batch_size, n_nodes2)\n",
    "            後ろから流れてきた勾配\n",
    "        Returns\n",
    "        ----------\n",
    "        dZ : 次の形のndarray, shape (batch_size, n_nodes1)\n",
    "            前に流す勾配\n",
    "        \"\"\"\n",
    "        indexes = np.empty((0, len(self.W)))\n",
    "        #print(indexes.shape)\n",
    "\n",
    "        for i in range(self.N_out):\n",
    "            a = np.arange(len(X))\n",
    "            a = a[i : len(self.W)+i]\n",
    "            a = a[np.newaxis, :]\n",
    "            indexes = np.append(indexes, a, axis=0).astype(np.int)\n",
    "            print(indexes.shape)\n",
    "        \n",
    "        #gradientLW = gradientLA@X[indexes] gradientLA=dA??⭐️\n",
    "        gradientLW = dA@X[indexes]\n",
    "        \n",
    "        gradientLB = np.sum(dA[: self.N_output-1]) # 確かめ算OK\n",
    "        \n",
    "        #gradientLX = \n",
    "        "
   ]
  },
  {
   "cell_type": "markdown",
   "metadata": {},
   "source": [
    "### 【問題2】1次元畳み込み後の出力サイズの計算"
   ]
  },
  {
   "cell_type": "code",
   "execution_count": 58,
   "metadata": {},
   "outputs": [
    {
     "name": "stdout",
     "output_type": "stream",
     "text": [
      "入力サイズ：4\n",
      "パディング数：1\n",
      "フィルタサイズ：3\n",
      "ストライドサイズ：1\n",
      "出力のサイズ：4.0\n"
     ]
    }
   ],
   "source": [
    "# N_out：出力のサイズ（特徴量）\n",
    "# N_in：入力のサイズ（特徴量）\n",
    "# P：パディングの数\n",
    "# F:フィルタのサイズ\n",
    "# S:ストライドのサイズ\n",
    "\n",
    "X = np.array([1, 2, 3, 4])\n",
    "w = np.array([3, 5, 7])\n",
    "\n",
    "N_in = len(X)\n",
    "P = 1\n",
    "F = 3\n",
    "S = 1\n",
    "\n",
    "N_out = (N_in + 2*P - F)/S +1\n",
    "\n",
    "print(\"入力サイズ：{}\".format(N_in))\n",
    "print(\"パディング数：{}\".format(P))\n",
    "print(\"フィルタサイズ：{}\".format(F))\n",
    "print(\"ストライドサイズ：{}\".format(S))\n",
    "print(\"出力のサイズ：{}\".format(N_out))"
   ]
  },
  {
   "cell_type": "markdown",
   "metadata": {},
   "source": [
    "### 【問題3】小さな配列での1次元畳み込み層の実験"
   ]
  },
  {
   "cell_type": "code",
   "execution_count": 4,
   "metadata": {
    "scrolled": true
   },
   "outputs": [],
   "source": [
    "X = np.array([1, 2, 3, 4])\n",
    "w = np.array([3, 5, 7])"
   ]
  },
  {
   "cell_type": "raw",
   "metadata": {
    "scrolled": true
   },
   "source": [
    "#インデックスを作成\n",
    "x = np.array([1, 2, 3, 4])\n",
    "indexes = np.array([[0, 1, 2], [1, 2, 3]]).astype(np.int)\n",
    "\n",
    "print(x[indexes]) # ([[1, 2, 3], [2, 3, 4]])"
   ]
  },
  {
   "cell_type": "code",
   "execution_count": 67,
   "metadata": {
    "scrolled": true
   },
   "outputs": [
    {
     "name": "stdout",
     "output_type": "stream",
     "text": [
      "(0, 3)\n",
      "(1, 3)\n",
      "(1, 3)\n",
      "X.shape(4,)\n",
      "indexes.shape(2, 3)\n",
      "X[indexes]\n",
      "[[1 2 3]\n",
      " [2 3 4]]\n",
      "[35 50]\n"
     ]
    }
   ],
   "source": [
    "#インデックスを作成\n",
    "indexes = np.empty((0, len(w)))\n",
    "print(indexes.shape)\n",
    "\n",
    "for i in range(2):\n",
    "    index = np.arange(len(X))[np.newaxis, :]\n",
    "    index = index[:, i : (i +len(w))]#フィルタ分スライシングしてずらしていく\n",
    "    print(index.shape)\n",
    "    indexes = np.append(indexes, index, axis=0).astype(np.int)\n",
    "print(\"X.shape{}\".format(X.shape))\n",
    "print(\"indexes.shape{}\".format(indexes.shape))\n",
    "print(\"X[indexes]\\n{}\".format(X[indexes]))\n",
    "a = X[indexes]@w + 1\n",
    "\n",
    "print(a)"
   ]
  },
  {
   "cell_type": "code",
   "execution_count": 64,
   "metadata": {
    "scrolled": true
   },
   "outputs": [
    {
     "name": "stdout",
     "output_type": "stream",
     "text": [
      "(0, 3)\n",
      "[[0 1 2]]\n",
      "[[1 2 3]]\n",
      "(2, 3)\n",
      "[[1 2 3]\n",
      " [2 3 4]]\n",
      "[35 50]\n"
     ]
    }
   ],
   "source": [
    "#インデックスを作成\n",
    "indexes = np.empty((0, len(w)))\n",
    "print(indexes.shape)\n",
    "index = np.arange(len(X))[np.newaxis, :]\n",
    "index_copy = index.copy()\n",
    "#print(index.shape)\n",
    "for i in range(2):\n",
    "    index = index_copy[:, i : (i +len(w))]\n",
    "    print(index)\n",
    "    indexes = np.append(indexes, index, axis=0).astype(np.int)\n",
    "print(indexes.shape)\n",
    "print(X[indexes])\n",
    "a = X[indexes]@w + 1\n",
    "\n",
    "print(a)"
   ]
  },
  {
   "cell_type": "code",
   "execution_count": 49,
   "metadata": {},
   "outputs": [
    {
     "name": "stdout",
     "output_type": "stream",
     "text": [
      "[0 1 2]\n"
     ]
    }
   ],
   "source": [
    "a = np.array([0,1,2,3])\n",
    "b = a[0:3]\n",
    "print(b)"
   ]
  },
  {
   "cell_type": "code",
   "execution_count": 6,
   "metadata": {
    "scrolled": true
   },
   "outputs": [
    {
     "ename": "NameError",
     "evalue": "name 'SimpleConv1d' is not defined",
     "output_type": "error",
     "traceback": [
      "\u001b[0;31m---------------------------------------------------------------------------\u001b[0m",
      "\u001b[0;31mNameError\u001b[0m                                 Traceback (most recent call last)",
      "\u001b[0;32m<ipython-input-6-551fc41693a4>\u001b[0m in \u001b[0;36m<module>\u001b[0;34m\u001b[0m\n\u001b[1;32m      3\u001b[0m \u001b[0;31m# a = np.array([35, 50])\u001b[0m\u001b[0;34m\u001b[0m\u001b[0;34m\u001b[0m\u001b[0;34m\u001b[0m\u001b[0m\n\u001b[1;32m      4\u001b[0m \u001b[0;34m\u001b[0m\u001b[0m\n\u001b[0;32m----> 5\u001b[0;31m \u001b[0mS1\u001b[0m \u001b[0;34m=\u001b[0m \u001b[0mSimpleConv1d\u001b[0m\u001b[0;34m(\u001b[0m\u001b[0;34m)\u001b[0m\u001b[0;34m\u001b[0m\u001b[0;34m\u001b[0m\u001b[0m\n\u001b[0m\u001b[1;32m      6\u001b[0m \u001b[0ma\u001b[0m \u001b[0;34m=\u001b[0m \u001b[0mS1\u001b[0m\u001b[0;34m.\u001b[0m\u001b[0mforward\u001b[0m\u001b[0;34m(\u001b[0m\u001b[0mX\u001b[0m\u001b[0;34m,\u001b[0m \u001b[0mw\u001b[0m\u001b[0;34m)\u001b[0m\u001b[0;34m\u001b[0m\u001b[0;34m\u001b[0m\u001b[0m\n\u001b[1;32m      7\u001b[0m \u001b[0mprint\u001b[0m\u001b[0;34m(\u001b[0m\u001b[0ma\u001b[0m\u001b[0;34m)\u001b[0m\u001b[0;34m\u001b[0m\u001b[0;34m\u001b[0m\u001b[0m\n",
      "\u001b[0;31mNameError\u001b[0m: name 'SimpleConv1d' is not defined"
     ]
    }
   ],
   "source": [
    "#小さな配列X、wを入力して、SimpleConv1dをインスタンス化、フォワードプロパゲーションを実行\n",
    "# フォワードプロパゲーションの正解出力\n",
    "# a = np.array([35, 50])\n",
    "\n",
    "S1 = SimpleConv1d()\n",
    "a = S1.forward(X, w)\n",
    "print(a)"
   ]
  },
  {
   "cell_type": "code",
   "execution_count": 7,
   "metadata": {},
   "outputs": [],
   "source": [
    "#誤差\n",
    "# delta_a = np.array([10, 20])\n",
    "\n",
    "#バックプロパゲーション\n",
    "#delta_b = np.array([30])\n",
    "#delta_w = np.array([50, 80, 110])\n",
    "#delta_x = np.array([30, 110, 170, 140])\n"
   ]
  },
  {
   "cell_type": "code",
   "execution_count": null,
   "metadata": {},
   "outputs": [],
   "source": []
  },
  {
   "cell_type": "code",
   "execution_count": null,
   "metadata": {},
   "outputs": [],
   "source": []
  },
  {
   "cell_type": "code",
   "execution_count": null,
   "metadata": {},
   "outputs": [],
   "source": []
  },
  {
   "cell_type": "code",
   "execution_count": null,
   "metadata": {},
   "outputs": [],
   "source": []
  },
  {
   "cell_type": "code",
   "execution_count": null,
   "metadata": {},
   "outputs": [],
   "source": []
  },
  {
   "cell_type": "code",
   "execution_count": null,
   "metadata": {},
   "outputs": [],
   "source": []
  },
  {
   "cell_type": "code",
   "execution_count": null,
   "metadata": {},
   "outputs": [],
   "source": []
  },
  {
   "cell_type": "code",
   "execution_count": null,
   "metadata": {},
   "outputs": [],
   "source": []
  },
  {
   "cell_type": "code",
   "execution_count": 30,
   "metadata": {},
   "outputs": [],
   "source": [
    "class AdaGrad:\n",
    "    \"\"\"\n",
    "    確率的勾配降下法\n",
    "    Parameters\n",
    "    ----------\n",
    "    lr : 学習率\n",
    "    \"\"\"\n",
    "    def __init__(self, lr=0.1):\n",
    "        self.lr = lr\n",
    "    def update(self, layer):\n",
    "        \"\"\"\n",
    "        ある層の重みやバイアスの更新\n",
    "        Parameters\n",
    "        ----------\n",
    "        layer : 更新前の層のインスタンス\n",
    "\n",
    "        Returns\n",
    "        ----------\n",
    "        layer : 更新後の層のインスタンス\n",
    "        \"\"\"\n",
    "        \n",
    "        HW = HW + np.mean(layer.gradientLW, axis=0)**2\n",
    "        HB = HB + np.mean(layer.gradientLB, axis=0)**2\n",
    "        \n",
    "        #Wの更新式\n",
    "        layer.W = layer.W - self.lr/math.sqrt(HW)*np.mean(layer.gradientLW)\n",
    "        \n",
    "        # Bの更新式\n",
    "        layer.B = layer.B - self.lr/ma.sqrt(HB)*np.mean(layer.gradientLB)\n",
    "        \n",
    "        return layer #参照渡しのため、なくてもよい"
   ]
  },
  {
   "cell_type": "code",
   "execution_count": null,
   "metadata": {},
   "outputs": [],
   "source": [
    "class SGD:\n",
    "    \"\"\"\n",
    "    確率的勾配降下法\n",
    "    Parameters\n",
    "    ----------\n",
    "    lr : 学習率\n",
    "    \"\"\"\n",
    "    def __init__(self, lr=0.1):\n",
    "        self.lr = lr\n",
    "    def update(self, layer):\n",
    "        \"\"\"\n",
    "        ある層の重みやバイアスの更新\n",
    "        Parameters\n",
    "        ----------\n",
    "        layer : 更新前の層のインスタンス\n",
    "\n",
    "        Returns\n",
    "        ----------\n",
    "        layer : 更新後の層のインスタンス\n",
    "        \"\"\"\n",
    "        \n",
    "        #Wの更新式\n",
    "        layer.W = layer.W - layer.gradientLW*self.lr\n",
    "        \n",
    "        # Bの更新式\n",
    "        layer.B = layer.B - layer.gradientLB*self.lr\n",
    "        \n",
    "        #return layer #参照渡しのため、なくてもよい"
   ]
  },
  {
   "cell_type": "code",
   "execution_count": 43,
   "metadata": {},
   "outputs": [
    {
     "name": "stdout",
     "output_type": "stream",
     "text": [
      "[0 1 2 3 4 5 6 7 8 9]\n",
      "36\n"
     ]
    }
   ],
   "source": [
    "n_output = 10\n",
    "dA = np.arange(10)\n",
    "print(dA)\n",
    "\n",
    "#for i in range(n_output-1):\n",
    "gradientLB = np.sum(dA[: n_output-1])\n",
    "    \n",
    "print(gradientLB)"
   ]
  },
  {
   "cell_type": "code",
   "execution_count": 6,
   "metadata": {},
   "outputs": [
    {
     "ename": "IndexError",
     "evalue": "index 4 is out of bounds for axis 0 with size 4",
     "output_type": "error",
     "traceback": [
      "\u001b[0;31m---------------------------------------------------------------------------\u001b[0m",
      "\u001b[0;31mIndexError\u001b[0m                                Traceback (most recent call last)",
      "\u001b[0;32m<ipython-input-6-0b2d0651cf9b>\u001b[0m in \u001b[0;36m<module>\u001b[0;34m\u001b[0m\n\u001b[1;32m      2\u001b[0m \u001b[0;32mfor\u001b[0m \u001b[0ms\u001b[0m \u001b[0;32min\u001b[0m \u001b[0mrange\u001b[0m\u001b[0;34m(\u001b[0m\u001b[0mlen\u001b[0m\u001b[0;34m(\u001b[0m\u001b[0mw\u001b[0m\u001b[0;34m)\u001b[0m\u001b[0;34m-\u001b[0m\u001b[0;36m1\u001b[0m\u001b[0;34m)\u001b[0m\u001b[0;34m:\u001b[0m\u001b[0;34m\u001b[0m\u001b[0;34m\u001b[0m\u001b[0m\n\u001b[1;32m      3\u001b[0m     \u001b[0;32mfor\u001b[0m \u001b[0mi\u001b[0m \u001b[0;32min\u001b[0m \u001b[0mrange\u001b[0m\u001b[0;34m(\u001b[0m\u001b[0mlen\u001b[0m\u001b[0;34m(\u001b[0m\u001b[0mx\u001b[0m\u001b[0;34m)\u001b[0m\u001b[0;34m)\u001b[0m\u001b[0;34m:\u001b[0m\u001b[0;34m\u001b[0m\u001b[0;34m\u001b[0m\u001b[0m\n\u001b[0;32m----> 4\u001b[0;31m         \u001b[0ma\u001b[0m \u001b[0;34m=\u001b[0m \u001b[0mnp\u001b[0m\u001b[0;34m.\u001b[0m\u001b[0msum\u001b[0m\u001b[0;34m(\u001b[0m\u001b[0mx\u001b[0m\u001b[0;34m[\u001b[0m\u001b[0mi\u001b[0m \u001b[0;34m+\u001b[0m \u001b[0ms\u001b[0m\u001b[0;34m]\u001b[0m\u001b[0;34m*\u001b[0m\u001b[0mw\u001b[0m\u001b[0;34m[\u001b[0m\u001b[0ms\u001b[0m\u001b[0;34m]\u001b[0m \u001b[0;34m+\u001b[0m \u001b[0;36m1\u001b[0m\u001b[0;34m)\u001b[0m\u001b[0;34m\u001b[0m\u001b[0;34m\u001b[0m\u001b[0m\n\u001b[0m\u001b[1;32m      5\u001b[0m     \u001b[0ma\u001b[0m \u001b[0;34m=\u001b[0m \u001b[0mnp\u001b[0m\u001b[0;34m.\u001b[0m\u001b[0mappend\u001b[0m\u001b[0;34m(\u001b[0m\u001b[0ma\u001b[0m\u001b[0;34m,\u001b[0m \u001b[0ma\u001b[0m\u001b[0;34m)\u001b[0m\u001b[0;34m\u001b[0m\u001b[0;34m\u001b[0m\u001b[0m\n\u001b[1;32m      6\u001b[0m \u001b[0mprinti\u001b[0m\u001b[0;34m(\u001b[0m\u001b[0ma\u001b[0m\u001b[0;34m)\u001b[0m\u001b[0;34m\u001b[0m\u001b[0;34m\u001b[0m\u001b[0m\n",
      "\u001b[0;31mIndexError\u001b[0m: index 4 is out of bounds for axis 0 with size 4"
     ]
    }
   ],
   "source": [
    "a = []\n",
    "for s in range(len(w)-1):\n",
    "    for i in range(len(x)):\n",
    "        a = np.sum(x[i + s]*w[s] + 1)\n",
    "    a = np.append(a, a)\n",
    "printi(a)"
   ]
  },
  {
   "cell_type": "code",
   "execution_count": 42,
   "metadata": {},
   "outputs": [
    {
     "name": "stdout",
     "output_type": "stream",
     "text": [
      "[0 1 2 3 4 5 6 7 8]\n",
      "36\n"
     ]
    }
   ],
   "source": [
    "a = np.arange(9)\n",
    "print(a)\n",
    "print(np.sum(a))"
   ]
  },
  {
   "cell_type": "code",
   "execution_count": 62,
   "metadata": {},
   "outputs": [
    {
     "name": "stdout",
     "output_type": "stream",
     "text": [
      "[[ 0  1  2]\n",
      " [ 1  2  3]\n",
      " [ 2  3  4]\n",
      " [ 3  4  5]\n",
      " [ 4  5  6]\n",
      " [ 5  6  7]\n",
      " [ 6  7  8]\n",
      " [ 7  8  9]\n",
      " [ 8  9 10]\n",
      " [ 9 10 11]\n",
      " [10 11 12]\n",
      " [11 12 13]\n",
      " [12 13 14]]\n"
     ]
    }
   ],
   "source": [
    "X = np.array([1, 2, 3, 4,5,6,7,8,9,10,11,12,13,14,15])\n",
    "w = np.array([3, 5, 7])\n",
    "\n",
    "indexes = np.empty((0, len(w)))\n",
    "#print(indexes.shape)\n",
    "\n",
    "for i in range(len(X)-2):\n",
    "    a = np.arange(len(X))\n",
    "    a = a[i : i+len(w)]\n",
    "    a = a[np.newaxis, :]\n",
    "    indexes = np.append(indexes, a, axis=0).astype(np.int)\n",
    "print(indexes)\n",
    "\n",
    "#gradientLW = gradientLA@X[indexes] gradientLA=dA??⭐️\n",
    "#gradientLW = dA@X[indexes]"
   ]
  },
  {
   "cell_type": "code",
   "execution_count": null,
   "metadata": {},
   "outputs": [],
   "source": []
  },
  {
   "cell_type": "code",
   "execution_count": null,
   "metadata": {},
   "outputs": [],
   "source": []
  }
 ],
 "metadata": {
  "kernelspec": {
   "display_name": "Python 3",
   "language": "python",
   "name": "python3"
  },
  "language_info": {
   "codemirror_mode": {
    "name": "ipython",
    "version": 3
   },
   "file_extension": ".py",
   "mimetype": "text/x-python",
   "name": "python",
   "nbconvert_exporter": "python",
   "pygments_lexer": "ipython3",
   "version": "3.7.3"
  }
 },
 "nbformat": 4,
 "nbformat_minor": 2
}
