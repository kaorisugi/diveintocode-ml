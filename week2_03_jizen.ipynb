{
 "cells": [
  {
   "cell_type": "markdown",
   "metadata": {},
   "source": [
    "# Week2授業前課題　行列積のスクラッチ"
   ]
  },
  {
   "cell_type": "code",
   "execution_count": 58,
   "metadata": {},
   "outputs": [
    {
     "name": "stdout",
     "output_type": "stream",
     "text": [
      "[[-1  2  3]\n",
      " [ 4 -5  6]\n",
      " [ 7  8 -9]]\n",
      "[[ 0  2  1]\n",
      " [ 0  2 -8]\n",
      " [ 2  9 -1]]\n"
     ]
    }
   ],
   "source": [
    "import numpy as np\n",
    "a_ndarray = np.array([[-1, 2, 3], [4, -5, 6], [7, 8, -9]])\n",
    "b_ndarray = np.array([[0, 2, 1], [0, 2, -8], [2, 9, -1]])\n",
    "print(a_ndarray)\n",
    "print(b_ndarray)"
   ]
  },
  {
   "cell_type": "markdown",
   "metadata": {},
   "source": [
    "### 【問題1】行列積を手計算する"
   ]
  },
  {
   "cell_type": "raw",
   "metadata": {},
   "source": [
    "# a_ndarray の各要素を下記と置く\n",
    "[[a1_1  a1_2  a1_3]\n",
    " [a2_1  a2_2  a2_3]\n",
    " [a3_1  a3_2  a3_3]]\n",
    "\n",
    "# b_ndarray の各要素を下記と置く\n",
    "[[b1_1  b1_2  b1_3]\n",
    " [b2_1  b2_2  b2_3]\n",
    " [b3_1  b3_2  b3_3]]\n",
    " \n",
    "# a_ndarray*b_ndarray\n",
    "  = [(a1_1*b1_1 + a1_2*b2_1 + a1_3*b3_1),\n",
    "     (a1_1*b1_2 + a1_2*b2_2 + a1_3*b3_2),\n",
    "     (a1_1*b1_3 + a1_2*b2_3 + a1_3*b3_3)],\n",
    "    [(a2_1*b1_1 + a2_2*b2_1 + a2_3*b3_1),\n",
    "     (a2_1*b1_2 + a2_2*b2_2 + a2_3*b3_2),\n",
    "     (a2_1*b1_3 + a2_2*b2_3 + a2_3*b3_3)],\n",
    "    [(a3_1*b1_1 + a3_2*b2_1 + a3_3*b3_1), \n",
    "     (a3_1*b1_2 + a3_2*b2_2 + a3_3*b3_2),\n",
    "     (a3_1*b1_3 + a3_2*b2_3 + a3_3*b3_3)]\n",
    "\n",
    "# a_ndarray*b_ndarray の各要素を下記と置く\n",
    "[ab_1_1, ab_1_2, ab_1_3]\n",
    "[ab_2_1, ab_2_2, ab_2_3]\n",
    "[ab_3_1, ab_3_2, ab_3_3]\n"
   ]
  },
  {
   "cell_type": "code",
   "execution_count": 59,
   "metadata": {},
   "outputs": [
    {
     "name": "stdout",
     "output_type": "stream",
     "text": [
      "行列ABの積は\n",
      "[[6, 29, -20], [12, 52, 38], [-18, -51, -48]]\n"
     ]
    }
   ],
   "source": [
    "ab_1_1 = -1*0 + 2*0 + 3*2\n",
    "ab_1_2 = -1*2 + 2*2 + 3*9\n",
    "ab_1_3 = -1*1 + 2*-8 + 3*-1\n",
    "ab_2_1 = 4*0 + 5*0 + 6*2\n",
    "ab_2_2 = 4*2 + -5*2 + 6*9\n",
    "ab_2_3 = 4*1 + -5*-8 + 6*-1\n",
    "ab_3_1 = 7*0 + 8*0 +-9*2\n",
    "ab_3_2 = 7*2 + 8*2 + -9*9\n",
    "ab_3_3 = 7*1 + 8*-8 + -9*-1\n",
    "\n",
    "matrix_AB = [[ab_1_1, ab_1_2, ab_1_3],\n",
    "             [ab_2_1, ab_2_2, ab_2_3],\n",
    "             [ab_3_1, ab_3_2, ab_3_3]]\n",
    "\n",
    "print(\"行列ABの積は\\n{}\".format(matrix_AB))"
   ]
  },
  {
   "cell_type": "markdown",
   "metadata": {},
   "source": [
    "### 【問題2】NumPyの関数による計算"
   ]
  },
  {
   "cell_type": "code",
   "execution_count": 60,
   "metadata": {},
   "outputs": [
    {
     "name": "stdout",
     "output_type": "stream",
     "text": [
      "np.matmul()による計算\n",
      "[[  6  29 -20]\n",
      " [ 12  52  38]\n",
      " [-18 -51 -48]]\n",
      "np.dot()による計算\n",
      "[[  6  29 -20]\n",
      " [ 12  52  38]\n",
      " [-18 -51 -48]]\n",
      "@演算子による計算\n",
      "[[  6  29 -20]\n",
      " [ 12  52  38]\n",
      " [-18 -51 -48]]\n"
     ]
    }
   ],
   "source": [
    "# np.matmul()\n",
    "a_ndarray = np.array([[-1, 2, 3], [4, -5, 6], [7, 8, -9]])\n",
    "b_ndarray = np.array([[0, 2, 1], [0, 2, -8], [2, 9, -1]])\n",
    "\n",
    "matmul_ab = np.matmul(a_ndarray, b_ndarray)\n",
    "print(\"np.matmul()による計算\\n{}\".format(matmul_ab))\n",
    "\n",
    "# np.dot()\n",
    "dot_ab = np.dot(a_ndarray, b_ndarray)\n",
    "print(\"np.dot()による計算\\n{}\".format(dot_ab))\n",
    "\n",
    "# @演算子\n",
    "print(\"@演算子による計算\\n{}\".format(a_ndarray @ b_ndarray))\n"
   ]
  },
  {
   "cell_type": "markdown",
   "metadata": {},
   "source": [
    "### 【問題3】ある要素の計算を実装"
   ]
  },
  {
   "cell_type": "code",
   "execution_count": 61,
   "metadata": {},
   "outputs": [
    {
     "name": "stdout",
     "output_type": "stream",
     "text": [
      "6\n"
     ]
    }
   ],
   "source": [
    "# 行列AB\n",
    "a_ndarray = np.array([[-1, 2, 3], [4, -5, 6], [7, 8, -9]])\n",
    "b_ndarray = np.array([[0, 2, 1], [0, 2, -8], [2, 9, -1]])\n",
    "\n",
    "matrix_a0_b0 = np.sum(a_ndarray[0,:]*b_ndarray[:,0])\n",
    "print(matrix_a0_b0)"
   ]
  },
  {
   "cell_type": "markdown",
   "metadata": {},
   "source": [
    "### 【問題4】行列積を行う関数の作成"
   ]
  },
  {
   "cell_type": "code",
   "execution_count": 62,
   "metadata": {},
   "outputs": [
    {
     "data": {
      "text/plain": [
       "array([[  6,  29, -20],\n",
       "       [ 12,  52,  38],\n",
       "       [-18, -51, -48]])"
      ]
     },
     "execution_count": 62,
     "metadata": {},
     "output_type": "execute_result"
    }
   ],
   "source": [
    "# for文で行列積を求める関数を作成\n",
    "def compute_matrix_product(matrix_1, matrix_2):\n",
    "    matrix_1_shape = matrix_1.shape # 1つ目の行列の形\n",
    "    matrix_2_shape = matrix_2.shape\n",
    "    matrix_product_list = []\n",
    "    i = 0\n",
    "    j = 0\n",
    "\n",
    "    for i in range(matrix_1_shape[0]):\n",
    "        for j in range(matrix_2_shape[1]):\n",
    "                matrix_product = np.sum(matrix_1[i,:]*matrix_2[:,j])\n",
    "                matrix_product_list.append(matrix_product)\n",
    "    matrix_product_re = np.reshape(matrix_product_list,(matrix_1_shape[0], matrix_2_shape[1]))\n",
    "    return matrix_product_re\n",
    "\n",
    "# 行列AB\n",
    "a_ndarray = np.array([[-1, 2, 3], [4, -5, 6], [7, 8, -9]])\n",
    "b_ndarray = np.array([[0, 2, 1], [0, 2, -8], [2, 9, -1]])\n",
    "\n",
    "compute_matrix_product(matrix_1 = a_ndarray, matrix_2 = b_ndarray)"
   ]
  },
  {
   "cell_type": "markdown",
   "metadata": {},
   "source": [
    "### 【問題5】計算が定義されない入力を判定する"
   ]
  },
  {
   "cell_type": "code",
   "execution_count": 63,
   "metadata": {},
   "outputs": [
    {
     "name": "stdout",
     "output_type": "stream",
     "text": [
      "掛ける行列の行数と掛けられる行列の列数が等しくありません\n"
     ]
    }
   ],
   "source": [
    "# for文で行列積を求める関数を作成\n",
    "def compute_matrix_product(matrix_1, matrix_2):\n",
    "    matrix_1_shape = matrix_1.shape # 1つ目の行列の形\n",
    "    matrix_2_shape = matrix_2.shape\n",
    "    matrix_product_list = []\n",
    "\n",
    "    if matrix_1_shape[0] != matrix_2_shape[1]:\n",
    "        print(\"掛ける行列の行数と掛けられる行列の列数が等しくありません\")\n",
    "    else:\n",
    "        for i in range(matrix_1_shape[0]):\n",
    "            for j in range(matrix_2_shape[1]):\n",
    "                matrix_product = np.sum(matrix_1[i,:]*matrix_2[:,j])\n",
    "                matrix_product_list.append(matrix_product)\n",
    "        matrix_product_re = np.reshape(matrix_product_list,(matrix_1_shape[0], matrix_2_shape[1]))\n",
    "        return matrix_product_re\n",
    "\n",
    "# 行列DE\n",
    "d_ndarray = np.array([[-1, 2, 3], [4, -5, 6]])\n",
    "e_ndarray = np.array([[-9, 8, 7], [6, -5, 4]])\n",
    "\n",
    "compute_matrix_product(matrix_1 = d_ndarray, matrix_2 = e_ndarray)"
   ]
  },
  {
   "cell_type": "markdown",
   "metadata": {},
   "source": [
    "### 【問題6】転置"
   ]
  },
  {
   "cell_type": "code",
   "execution_count": 64,
   "metadata": {},
   "outputs": [
    {
     "name": "stdout",
     "output_type": "stream",
     "text": [
      "(3, 2)\n",
      "(2, 3)\n",
      "[[ 33 -28   9]\n",
      " [-48  41  -6]\n",
      " [  9  -6  45]]\n",
      "(3, 2)\n",
      "(2, 3)\n",
      "[[ 33 -28   9]\n",
      " [-48  41  -6]\n",
      " [  9  -6  45]]\n"
     ]
    }
   ],
   "source": [
    "# 行列DE\n",
    "d_ndarray = np.array([[-1, 2, 3], [4, -5, 6]])\n",
    "e_ndarray = np.array([[-9, 8, 7], [6, -5, 4]])\n",
    "\n",
    "# np.transpose()\n",
    "\n",
    "# 2つ目の行列を転置\n",
    "f_ndarray = np.transpose(d_ndarray)\n",
    "print(f_ndarray.shape)\n",
    "print(e_ndarray.shape)\n",
    "print(compute_matrix_product(matrix_1 = f_ndarray, matrix_2 = e_ndarray))\n",
    "\n",
    "# .Tアトリビュート\n",
    "\n",
    "# 2つ目の行列を転置\n",
    "f_ndarray = d_ndarray.T\n",
    "print(f_ndarray.shape)\n",
    "print(e_ndarray.shape)\n",
    "print(compute_matrix_product(matrix_1 = f_ndarray, matrix_2 = e_ndarray))"
   ]
  },
  {
   "cell_type": "code",
   "execution_count": null,
   "metadata": {},
   "outputs": [],
   "source": []
  },
  {
   "cell_type": "code",
   "execution_count": null,
   "metadata": {},
   "outputs": [],
   "source": []
  }
 ],
 "metadata": {
  "kernelspec": {
   "display_name": "Python 3",
   "language": "python",
   "name": "python3"
  },
  "language_info": {
   "codemirror_mode": {
    "name": "ipython",
    "version": 3
   },
   "file_extension": ".py",
   "mimetype": "text/x-python",
   "name": "python",
   "nbconvert_exporter": "python",
   "pygments_lexer": "ipython3",
   "version": "3.7.3"
  }
 },
 "nbformat": 4,
 "nbformat_minor": 2
}
