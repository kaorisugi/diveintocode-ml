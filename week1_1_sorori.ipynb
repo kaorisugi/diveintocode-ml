{
 "cells": [
  {
   "cell_type": "markdown",
   "metadata": {},
   "source": [
    "# Week1 授業課題1 曽呂利新左衛門問題"
   ]
  },
  {
   "cell_type": "markdown",
   "metadata": {},
   "source": [
    "### 【問題1】100日後の米粒の数"
   ]
  },
  {
   "cell_type": "code",
   "execution_count": 1,
   "metadata": {},
   "outputs": [
    {
     "name": "stdout",
     "output_type": "stream",
     "text": [
      "100日後の米粒の合計：633825300114114700748351602688粒\n"
     ]
    },
    {
     "data": {
      "image/png": "[encoded data removed]",
      "text/plain": [
       "<Figure size 432x288 with 1 Axes>"
      ]
     },
     "metadata": {
      "needs_background": "light"
     },
     "output_type": "display_data"
    }
   ],
   "source": [
    "import matplotlib.pyplot as plt\n",
    "\n",
    "# 100日後の米粒の数を計算\n",
    "\n",
    "rice = 1\n",
    "days = 100\n",
    "rice_quantity = [1]\n",
    "\n",
    "for i in range(1,days): # ２日目以降の米粒を算出\n",
    "    rice *= 2 # 代入演算子でn日後の米粒を算出\n",
    "    rice_quantity.append(rice)   \n",
    "    \n",
    "print(\"{}日後の米粒の合計：{}粒\".format(days,rice_quantity[-1]))\n",
    "\n",
    "#1日目から100日目までの「その日にもらう米の数」と「その日までに累計でもらう米の数」の折れ線グラフ（縦軸が米の数、横軸が日数）\n",
    "\n",
    "rice = 1\n",
    "rice_quantity = [1]\n",
    "rice_total_quantity = [1]\n",
    "\n",
    "for i in range(1,days):\n",
    "    rice *= 2\n",
    "    rice_quantity.append(rice)\n",
    "    rice_sum = sum(rice_quantity)\n",
    "    rice_total_quantity.append(rice_sum)\n",
    "\n",
    "\n",
    "%matplotlib inline\n",
    "\n",
    "plt.title(\"quantity of rice\")\n",
    "plt.xlabel(\"days\")\n",
    "plt.ylabel(\"rice[grain]\")\n",
    "rice1 = plt.plot(rice_quantity, color = \"red\")\n",
    "rice2 = plt.plot(rice_total_quantity, color = \"blue\" ) \n",
    "plt.legend((rice1[0], rice2[0]), (\"rice_quantity\", \"rice_total_quantity\"), loc=0)\n",
    "plt.show()\n"
   ]
  },
  {
   "cell_type": "markdown",
   "metadata": {},
   "source": [
    "### 【問題2】100日後以外の米粒の数"
   ]
  },
  {
   "cell_type": "code",
   "execution_count": 2,
   "metadata": {},
   "outputs": [
    {
     "name": "stdout",
     "output_type": "stream",
     "text": [
      "受講日数100日\n",
      "100日後の米粒の合計：5316911983139663491615228241121378304粒\n",
      "100日後までに累計でもらえる米粒の数：10633823966279326983230456482242756607粒\n"
     ]
    },
    {
     "data": {
      "image/png": "[encoded data removed]",
      "text/plain": [
       "<Figure size 432x288 with 1 Axes>"
      ]
     },
     "metadata": {
      "needs_background": "light"
     },
     "output_type": "display_data"
    }
   ],
   "source": [
    "# n日後にもらえる米粒の合計と、n日後までに累計でもらえる米粒の数を求める関数\n",
    "\n",
    "def compute_rice_quantity(days):\n",
    "    \n",
    "    rice = 1\n",
    "    days = 31 + 31 + 30 + 31\n",
    "    rice_quantity = [1]\n",
    "    rice_total_quantity = [1]\n",
    "    \n",
    "    for i in range(1,days):\n",
    "        rice *= 2\n",
    "        rice_quantity.append(rice)\n",
    "        rice_sum = sum(rice_quantity)\n",
    "        rice_total_quantity.append(rice_sum)\n",
    "    return rice_quantity, rice_total_quantity\n",
    "\n",
    "rice_quantity, rice_total_quantity = compute_rice_quantity(days)\n",
    "\n",
    "print(\"受講日数{}日\".format(days))\n",
    "print(\"{}日後の米粒の合計：{}粒\".format(days,rice_quantity[- 1]))\n",
    "print(\"{}日後までに累計でもらえる米粒の数：{}粒\".format(days,rice_total_quantity[- 1]))\n",
    "\n",
    "# n日後にもらえる米粒の合計と、n日後までに累計でもらえる米粒の数をグラフに出力\n",
    "%matplotlib inline\n",
    "\n",
    "plt.title(\"quantity of rice\")\n",
    "plt.xlabel(\"days\")\n",
    "plt.ylabel(\"rice[grain]\")\n",
    "rice1 = plt.plot(rice_quantity, color = \"red\")\n",
    "rice2 = plt.plot(rice_total_quantity, color = \"blue\" ) \n",
    "plt.legend((rice1[0], rice2[0]), (\"rice_quantity\", \"rice_total_quantity\"), loc=0)\n",
    "plt.show()"
   ]
  },
  {
   "cell_type": "markdown",
   "metadata": {},
   "source": [
    "### 【問題3】何人が何日生活できる米か"
   ]
  },
  {
   "cell_type": "code",
   "execution_count": 4,
   "metadata": {},
   "outputs": [
    {
     "name": "stdout",
     "output_type": "stream",
     "text": [
      "受講期間123日中に累計でもらえる米で、クラスメンバー13人が生活できる日数：29447512522004286003405949763584日\n"
     ]
    }
   ],
   "source": [
    "# 受講日数 123日\n",
    "# クラス人数　13人\n",
    "# 成人男性が１日に必要なカロリー数　2000キロカロリー\n",
    "# 出典：https://news.goo.ne.jp/article/editeur/entertainment/editeur-98140.html?from=popin\n",
    "# 米１粒のカロリー　0.072キロカロリー\n",
    "# 出典：http://dorisyamoji.seesaa.net/article/425381046.html\n",
    "\n",
    "days = 123\n",
    "person = 13\n",
    "daily_calorie = 2000\n",
    "rice_cal = 0.072\n",
    "\n",
    "# クラスメンバーが１日に必要とするカロリー（kcal)\n",
    "required_daily_calorie = daily_calorie*person\n",
    "\n",
    "# コース期間中にもらえる米粒\n",
    "rice_total = rice_total_quantity[- 1]\n",
    "\n",
    "#print(len(rice_total_quantity))\n",
    "#print(rice_total_quantity)\n",
    "\n",
    "# コース期間中にもらえる米粒の総カロリー(kcal)\n",
    "rice_total_calorie = rice_total*rice_cal\n",
    "\n",
    "# コース期間中にもらえる米でクラスメンバーが生活できる日数\n",
    "covered_days = rice_total_calorie/required_daily_calorie\n",
    "\n",
    "print(\"受講期間{}日中に累計でもらえる米で、クラスメンバー{}人が生活できる日数：{}日\".format(days,person,int(covered_days)))"
   ]
  },
  {
   "cell_type": "code",
   "execution_count": null,
   "metadata": {},
   "outputs": [],
   "source": []
  }
 ],
 "metadata": {
  "kernelspec": {
   "display_name": "Python 3",
   "language": "python",
   "name": "python3"
  },
  "language_info": {
   "codemirror_mode": {
    "name": "ipython",
    "version": 3
   },
   "file_extension": ".py",
   "mimetype": "text/x-python",
   "name": "python",
   "nbconvert_exporter": "python",
   "pygments_lexer": "ipython3",
   "version": "3.7.3"
  }
 },
 "nbformat": 4,
 "nbformat_minor": 2
}
