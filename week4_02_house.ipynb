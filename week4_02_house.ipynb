{
 "cells": [
  {
   "cell_type": "markdown",
   "metadata": {},
   "source": [
    "# Week４授業前課題２　住宅価格の予測"
   ]
  },
  {
   "cell_type": "code",
   "execution_count": 1,
   "metadata": {
    "ExecuteTime": {
     "end_time": "2019-07-30T22:59:44.988679Z",
     "start_time": "2019-07-30T22:59:42.456321Z"
    },
    "init_cell": true
   },
   "outputs": [],
   "source": [
    "import pandas as pd\n",
    "import numpy as np\n",
    "import seaborn as sns\n",
    "import matplotlib\n",
    "import matplotlib.pyplot as plt\n",
    "%matplotlib inline\n",
    "from sklearn.model_selection import train_test_split # testとtrain分割\n",
    "#from sklearn.neighbors import KNeighborsClassifier # 最近傍法\n",
    "from sklearn.svm import SVR #SVM\n",
    "from sklearn.tree import DecisionTreeRegressor # 決定木\n",
    "# from sklearn.metrics import accuracy_score\n",
    "# from sklearn.metrics import precision_score\n",
    "from sklearn.linear_model import LinearRegression # 線形回帰\n",
    "from sklearn.metrics import mean_squared_error # 平均二乗誤差\n",
    "# from matplotlib.colors import ListedColormap\n",
    "# import matplotlib.patches as mpatches\n",
    "from sklearn.ensemble import RandomForestRegressor\n",
    "from sklearn.datasets import make_regression"
   ]
  },
  {
   "cell_type": "code",
   "execution_count": 2,
   "metadata": {
    "ExecuteTime": {
     "end_time": "2019-07-30T22:59:45.046619Z",
     "start_time": "2019-07-30T22:59:44.990989Z"
    }
   },
   "outputs": [
    {
     "data": {
      "text/html": [
       "<div>\n",
       "<style scoped>\n",
       "    .dataframe tbody tr th:only-of-type {\n",
       "        vertical-align: middle;\n",
       "    }\n",
       "\n",
       "    .dataframe tbody tr th {\n",
       "        vertical-align: top;\n",
       "    }\n",
       "\n",
       "    .dataframe thead th {\n",
       "        text-align: right;\n",
       "    }\n",
       "</style>\n",
       "<table border=\"1\" class=\"dataframe\">\n",
       "  <thead>\n",
       "    <tr style=\"text-align: right;\">\n",
       "      <th></th>\n",
       "      <th>Id</th>\n",
       "      <th>MSSubClass</th>\n",
       "      <th>MSZoning</th>\n",
       "      <th>LotFrontage</th>\n",
       "      <th>LotArea</th>\n",
       "      <th>Street</th>\n",
       "      <th>Alley</th>\n",
       "      <th>LotShape</th>\n",
       "      <th>LandContour</th>\n",
       "      <th>Utilities</th>\n",
       "      <th>...</th>\n",
       "      <th>PoolArea</th>\n",
       "      <th>PoolQC</th>\n",
       "      <th>Fence</th>\n",
       "      <th>MiscFeature</th>\n",
       "      <th>MiscVal</th>\n",
       "      <th>MoSold</th>\n",
       "      <th>YrSold</th>\n",
       "      <th>SaleType</th>\n",
       "      <th>SaleCondition</th>\n",
       "      <th>SalePrice</th>\n",
       "    </tr>\n",
       "  </thead>\n",
       "  <tbody>\n",
       "    <tr>\n",
       "      <th>0</th>\n",
       "      <td>1</td>\n",
       "      <td>60</td>\n",
       "      <td>RL</td>\n",
       "      <td>65.0</td>\n",
       "      <td>8450</td>\n",
       "      <td>Pave</td>\n",
       "      <td>NaN</td>\n",
       "      <td>Reg</td>\n",
       "      <td>Lvl</td>\n",
       "      <td>AllPub</td>\n",
       "      <td>...</td>\n",
       "      <td>0</td>\n",
       "      <td>NaN</td>\n",
       "      <td>NaN</td>\n",
       "      <td>NaN</td>\n",
       "      <td>0</td>\n",
       "      <td>2</td>\n",
       "      <td>2008</td>\n",
       "      <td>WD</td>\n",
       "      <td>Normal</td>\n",
       "      <td>208500</td>\n",
       "    </tr>\n",
       "    <tr>\n",
       "      <th>1</th>\n",
       "      <td>2</td>\n",
       "      <td>20</td>\n",
       "      <td>RL</td>\n",
       "      <td>80.0</td>\n",
       "      <td>9600</td>\n",
       "      <td>Pave</td>\n",
       "      <td>NaN</td>\n",
       "      <td>Reg</td>\n",
       "      <td>Lvl</td>\n",
       "      <td>AllPub</td>\n",
       "      <td>...</td>\n",
       "      <td>0</td>\n",
       "      <td>NaN</td>\n",
       "      <td>NaN</td>\n",
       "      <td>NaN</td>\n",
       "      <td>0</td>\n",
       "      <td>5</td>\n",
       "      <td>2007</td>\n",
       "      <td>WD</td>\n",
       "      <td>Normal</td>\n",
       "      <td>181500</td>\n",
       "    </tr>\n",
       "    <tr>\n",
       "      <th>2</th>\n",
       "      <td>3</td>\n",
       "      <td>60</td>\n",
       "      <td>RL</td>\n",
       "      <td>68.0</td>\n",
       "      <td>11250</td>\n",
       "      <td>Pave</td>\n",
       "      <td>NaN</td>\n",
       "      <td>IR1</td>\n",
       "      <td>Lvl</td>\n",
       "      <td>AllPub</td>\n",
       "      <td>...</td>\n",
       "      <td>0</td>\n",
       "      <td>NaN</td>\n",
       "      <td>NaN</td>\n",
       "      <td>NaN</td>\n",
       "      <td>0</td>\n",
       "      <td>9</td>\n",
       "      <td>2008</td>\n",
       "      <td>WD</td>\n",
       "      <td>Normal</td>\n",
       "      <td>223500</td>\n",
       "    </tr>\n",
       "    <tr>\n",
       "      <th>3</th>\n",
       "      <td>4</td>\n",
       "      <td>70</td>\n",
       "      <td>RL</td>\n",
       "      <td>60.0</td>\n",
       "      <td>9550</td>\n",
       "      <td>Pave</td>\n",
       "      <td>NaN</td>\n",
       "      <td>IR1</td>\n",
       "      <td>Lvl</td>\n",
       "      <td>AllPub</td>\n",
       "      <td>...</td>\n",
       "      <td>0</td>\n",
       "      <td>NaN</td>\n",
       "      <td>NaN</td>\n",
       "      <td>NaN</td>\n",
       "      <td>0</td>\n",
       "      <td>2</td>\n",
       "      <td>2006</td>\n",
       "      <td>WD</td>\n",
       "      <td>Abnorml</td>\n",
       "      <td>140000</td>\n",
       "    </tr>\n",
       "  </tbody>\n",
       "</table>\n",
       "<p>4 rows × 81 columns</p>\n",
       "</div>"
      ],
      "text/plain": [
       "   Id  MSSubClass MSZoning  LotFrontage  LotArea Street Alley LotShape  \\\n",
       "0   1          60       RL         65.0     8450   Pave   NaN      Reg   \n",
       "1   2          20       RL         80.0     9600   Pave   NaN      Reg   \n",
       "2   3          60       RL         68.0    11250   Pave   NaN      IR1   \n",
       "3   4          70       RL         60.0     9550   Pave   NaN      IR1   \n",
       "\n",
       "  LandContour Utilities  ... PoolArea PoolQC Fence MiscFeature MiscVal MoSold  \\\n",
       "0         Lvl    AllPub  ...        0    NaN   NaN         NaN       0      2   \n",
       "1         Lvl    AllPub  ...        0    NaN   NaN         NaN       0      5   \n",
       "2         Lvl    AllPub  ...        0    NaN   NaN         NaN       0      9   \n",
       "3         Lvl    AllPub  ...        0    NaN   NaN         NaN       0      2   \n",
       "\n",
       "  YrSold  SaleType  SaleCondition  SalePrice  \n",
       "0   2008        WD         Normal     208500  \n",
       "1   2007        WD         Normal     181500  \n",
       "2   2008        WD         Normal     223500  \n",
       "3   2006        WD        Abnorml     140000  \n",
       "\n",
       "[4 rows x 81 columns]"
      ]
     },
     "execution_count": 2,
     "metadata": {},
     "output_type": "execute_result"
    }
   ],
   "source": [
    "Ames = pd.read_csv(\"train.csv\")\n",
    "Ames.head(4)"
   ]
  },
  {
   "cell_type": "markdown",
   "metadata": {},
   "source": [
    "## 【問題1】練習のために特徴量の選択"
   ]
  },
  {
   "cell_type": "markdown",
   "metadata": {},
   "source": [
    "データセットを読み込んだ後、GrLivAreaとYearBuiltを抜き出してください。"
   ]
  },
  {
   "cell_type": "code",
   "execution_count": 3,
   "metadata": {
    "ExecuteTime": {
     "end_time": "2019-07-30T22:59:45.057986Z",
     "start_time": "2019-07-30T22:59:45.048665Z"
    }
   },
   "outputs": [
    {
     "data": {
      "text/html": [
       "<div>\n",
       "<style scoped>\n",
       "    .dataframe tbody tr th:only-of-type {\n",
       "        vertical-align: middle;\n",
       "    }\n",
       "\n",
       "    .dataframe tbody tr th {\n",
       "        vertical-align: top;\n",
       "    }\n",
       "\n",
       "    .dataframe thead th {\n",
       "        text-align: right;\n",
       "    }\n",
       "</style>\n",
       "<table border=\"1\" class=\"dataframe\">\n",
       "  <thead>\n",
       "    <tr style=\"text-align: right;\">\n",
       "      <th></th>\n",
       "      <th>GrLivArea</th>\n",
       "      <th>YearBuilt</th>\n",
       "      <th>SalePrice</th>\n",
       "    </tr>\n",
       "  </thead>\n",
       "  <tbody>\n",
       "    <tr>\n",
       "      <th>0</th>\n",
       "      <td>1710</td>\n",
       "      <td>2003</td>\n",
       "      <td>208500</td>\n",
       "    </tr>\n",
       "    <tr>\n",
       "      <th>1</th>\n",
       "      <td>1262</td>\n",
       "      <td>1976</td>\n",
       "      <td>181500</td>\n",
       "    </tr>\n",
       "    <tr>\n",
       "      <th>2</th>\n",
       "      <td>1786</td>\n",
       "      <td>2001</td>\n",
       "      <td>223500</td>\n",
       "    </tr>\n",
       "    <tr>\n",
       "      <th>3</th>\n",
       "      <td>1717</td>\n",
       "      <td>1915</td>\n",
       "      <td>140000</td>\n",
       "    </tr>\n",
       "    <tr>\n",
       "      <th>4</th>\n",
       "      <td>2198</td>\n",
       "      <td>2000</td>\n",
       "      <td>250000</td>\n",
       "    </tr>\n",
       "  </tbody>\n",
       "</table>\n",
       "</div>"
      ],
      "text/plain": [
       "   GrLivArea  YearBuilt  SalePrice\n",
       "0       1710       2003     208500\n",
       "1       1262       1976     181500\n",
       "2       1786       2001     223500\n",
       "3       1717       1915     140000\n",
       "4       2198       2000     250000"
      ]
     },
     "execution_count": 3,
     "metadata": {},
     "output_type": "execute_result"
    }
   ],
   "source": [
    "# GrLivAreaとYearBuiltと目的変数SalePriceを抜き出す\n",
    "Ames = Ames.loc[:, [\"GrLivArea\", \"YearBuilt\", \"SalePrice\"]]\n",
    "Ames.head()"
   ]
  },
  {
   "cell_type": "markdown",
   "metadata": {
    "ExecuteTime": {
     "end_time": "2019-07-30T20:34:54.640606Z",
     "start_time": "2019-07-30T20:34:54.638001Z"
    }
   },
   "source": [
    "## 【問題2】線形回帰による推定と評価"
   ]
  },
  {
   "cell_type": "markdown",
   "metadata": {},
   "source": [
    "データを簡単に分析、前処理し、 線形回帰 による学習、推定、評価、可視化までの一連の流れを作成・実行してください。\n",
    "<br>\n",
    "sklearn.linear_model.LinearRegression — scikit-learn 0.20.2 documentation\n",
    "<br>\n",
    "評価のための指標値は回帰問題では 平均二乗誤差（Mean Squared Error, MSE） を使うことが一般的です。\n",
    "<br>\n",
    "sklearn.metrics.mean_squared_error — scikit-learn 0.20.2 documentation\n",
    "<br>\n",
    "可視化は横軸にある特徴量、縦軸に推測した住宅価格といった方法で行えます。\n",
    "\n"
   ]
  },
  {
   "cell_type": "markdown",
   "metadata": {},
   "source": [
    "### ・分析"
   ]
  },
  {
   "cell_type": "code",
   "execution_count": 4,
   "metadata": {
    "ExecuteTime": {
     "end_time": "2019-07-30T22:59:45.067800Z",
     "start_time": "2019-07-30T22:59:45.060085Z"
    }
   },
   "outputs": [
    {
     "name": "stdout",
     "output_type": "stream",
     "text": [
      "<class 'pandas.core.frame.DataFrame'>\n",
      "RangeIndex: 1460 entries, 0 to 1459\n",
      "Data columns (total 3 columns):\n",
      "GrLivArea    1460 non-null int64\n",
      "YearBuilt    1460 non-null int64\n",
      "SalePrice    1460 non-null int64\n",
      "dtypes: int64(3)\n",
      "memory usage: 34.3 KB\n"
     ]
    }
   ],
   "source": [
    "# 各特徴量を見る\n",
    "Ames.info()"
   ]
  },
  {
   "cell_type": "code",
   "execution_count": 5,
   "metadata": {
    "ExecuteTime": {
     "end_time": "2019-07-30T22:59:45.086662Z",
     "start_time": "2019-07-30T22:59:45.069465Z"
    }
   },
   "outputs": [
    {
     "data": {
      "text/html": [
       "<div>\n",
       "<style scoped>\n",
       "    .dataframe tbody tr th:only-of-type {\n",
       "        vertical-align: middle;\n",
       "    }\n",
       "\n",
       "    .dataframe tbody tr th {\n",
       "        vertical-align: top;\n",
       "    }\n",
       "\n",
       "    .dataframe thead th {\n",
       "        text-align: right;\n",
       "    }\n",
       "</style>\n",
       "<table border=\"1\" class=\"dataframe\">\n",
       "  <thead>\n",
       "    <tr style=\"text-align: right;\">\n",
       "      <th></th>\n",
       "      <th>GrLivArea</th>\n",
       "      <th>YearBuilt</th>\n",
       "      <th>SalePrice</th>\n",
       "    </tr>\n",
       "  </thead>\n",
       "  <tbody>\n",
       "    <tr>\n",
       "      <th>count</th>\n",
       "      <td>1460.000000</td>\n",
       "      <td>1460.000000</td>\n",
       "      <td>1460.000000</td>\n",
       "    </tr>\n",
       "    <tr>\n",
       "      <th>mean</th>\n",
       "      <td>1515.463699</td>\n",
       "      <td>1971.267808</td>\n",
       "      <td>180921.195890</td>\n",
       "    </tr>\n",
       "    <tr>\n",
       "      <th>std</th>\n",
       "      <td>525.480383</td>\n",
       "      <td>30.202904</td>\n",
       "      <td>79442.502883</td>\n",
       "    </tr>\n",
       "    <tr>\n",
       "      <th>min</th>\n",
       "      <td>334.000000</td>\n",
       "      <td>1872.000000</td>\n",
       "      <td>34900.000000</td>\n",
       "    </tr>\n",
       "    <tr>\n",
       "      <th>25%</th>\n",
       "      <td>1129.500000</td>\n",
       "      <td>1954.000000</td>\n",
       "      <td>129975.000000</td>\n",
       "    </tr>\n",
       "    <tr>\n",
       "      <th>50%</th>\n",
       "      <td>1464.000000</td>\n",
       "      <td>1973.000000</td>\n",
       "      <td>163000.000000</td>\n",
       "    </tr>\n",
       "    <tr>\n",
       "      <th>75%</th>\n",
       "      <td>1776.750000</td>\n",
       "      <td>2000.000000</td>\n",
       "      <td>214000.000000</td>\n",
       "    </tr>\n",
       "    <tr>\n",
       "      <th>max</th>\n",
       "      <td>5642.000000</td>\n",
       "      <td>2010.000000</td>\n",
       "      <td>755000.000000</td>\n",
       "    </tr>\n",
       "  </tbody>\n",
       "</table>\n",
       "</div>"
      ],
      "text/plain": [
       "         GrLivArea    YearBuilt      SalePrice\n",
       "count  1460.000000  1460.000000    1460.000000\n",
       "mean   1515.463699  1971.267808  180921.195890\n",
       "std     525.480383    30.202904   79442.502883\n",
       "min     334.000000  1872.000000   34900.000000\n",
       "25%    1129.500000  1954.000000  129975.000000\n",
       "50%    1464.000000  1973.000000  163000.000000\n",
       "75%    1776.750000  2000.000000  214000.000000\n",
       "max    5642.000000  2010.000000  755000.000000"
      ]
     },
     "execution_count": 5,
     "metadata": {},
     "output_type": "execute_result"
    }
   ],
   "source": [
    "# 平均値などを見る\n",
    "Ames.describe() "
   ]
  },
  {
   "cell_type": "code",
   "execution_count": 6,
   "metadata": {
    "ExecuteTime": {
     "end_time": "2019-07-30T22:59:45.097739Z",
     "start_time": "2019-07-30T22:59:45.088615Z"
    }
   },
   "outputs": [
    {
     "data": {
      "text/html": [
       "<div>\n",
       "<style scoped>\n",
       "    .dataframe tbody tr th:only-of-type {\n",
       "        vertical-align: middle;\n",
       "    }\n",
       "\n",
       "    .dataframe tbody tr th {\n",
       "        vertical-align: top;\n",
       "    }\n",
       "\n",
       "    .dataframe thead th {\n",
       "        text-align: right;\n",
       "    }\n",
       "</style>\n",
       "<table border=\"1\" class=\"dataframe\">\n",
       "  <thead>\n",
       "    <tr style=\"text-align: right;\">\n",
       "      <th></th>\n",
       "      <th>nan</th>\n",
       "    </tr>\n",
       "  </thead>\n",
       "  <tbody>\n",
       "    <tr>\n",
       "      <th>GrLivArea</th>\n",
       "      <td>0</td>\n",
       "    </tr>\n",
       "    <tr>\n",
       "      <th>YearBuilt</th>\n",
       "      <td>0</td>\n",
       "    </tr>\n",
       "    <tr>\n",
       "      <th>SalePrice</th>\n",
       "      <td>0</td>\n",
       "    </tr>\n",
       "  </tbody>\n",
       "</table>\n",
       "</div>"
      ],
      "text/plain": [
       "           nan\n",
       "GrLivArea    0\n",
       "YearBuilt    0\n",
       "SalePrice    0"
      ]
     },
     "execution_count": 6,
     "metadata": {},
     "output_type": "execute_result"
    }
   ],
   "source": [
    "# 欠損値の有無を確認する\n",
    "nan_Ames_sum = pd.DataFrame(Ames.isnull().sum()) # 列ごとの欠損値の合計。\n",
    "nan_Ames_sum.columns = [\"nan\"]\n",
    "nan_Ames_sum\n",
    "\n",
    "# 各特徴量の欠損値なし\n"
   ]
  },
  {
   "cell_type": "markdown",
   "metadata": {},
   "source": [
    "### ・前処理"
   ]
  },
  {
   "cell_type": "code",
   "execution_count": 7,
   "metadata": {
    "ExecuteTime": {
     "end_time": "2019-07-30T22:59:45.687705Z",
     "start_time": "2019-07-30T22:59:45.675272Z"
    }
   },
   "outputs": [],
   "source": [
    "# 訓練用（train）データ75%、検証用（validation）データ25%に分割する\n",
    "\n",
    "# 特徴量データから\"GrLivArea\", \"YearBuilt\"を抜き出しXのndarray に格納\n",
    "X = Ames.loc[:, [\"GrLivArea\", \"YearBuilt\"]]\n",
    "X_array = np.array(X)\n",
    "#print(\"X_array\\n{}\".format(X_array[:4, :]))\n",
    "\n",
    "# 目的変数SalePrice列を抜き出し、yのndarrayに格納\n",
    "\n",
    "# 特徴量をX,目的変数をyのndarrayに格納\n",
    "y = Ames.loc[:, [\"SalePrice\"]]\n",
    "y_array = np.array(y)\n",
    "#print(\"y_array\\n{}\".format(y_array[:4]))\n",
    "#print(y_array.shape)\n",
    "\n",
    "y_array = y_array.ravel() # 1次元配列に変換\n",
    "#print(\"１次元配列に変換したy_array\\n{}\".format(y_array[:4]))\n",
    "\n",
    "# データを訓練用と検証用に分割 \n",
    "X_train, X_test, y_train, y_test = train_test_split(X_array, y_array, test_size=0.25,random_state=0)\n",
    "\n",
    "# print(\"X_train\")\n",
    "# print(X_train.shape)\n",
    "# print(X_train[:4]) # 正常\n",
    "# print(\"X_test\")\n",
    "# print(X_test.shape)\n",
    "# print(X_test[:4]) # 正常\n",
    "# print(\"y_train\")\n",
    "# print(y_train.shape)\n",
    "# print(y_train[:4]) # 正常\n",
    "# print(\"y_test\") \n",
    "# print(y_test.shape)\n",
    "# print(y_test[:4]) # 正常\n"
   ]
  },
  {
   "cell_type": "markdown",
   "metadata": {},
   "source": [
    "### ・線形回帰による学習、推定"
   ]
  },
  {
   "cell_type": "code",
   "execution_count": 8,
   "metadata": {
    "ExecuteTime": {
     "end_time": "2019-07-31T03:31:33.501461Z",
     "start_time": "2019-07-31T03:31:33.491896Z"
    }
   },
   "outputs": [
    {
     "name": "stdout",
     "output_type": "stream",
     "text": [
      "推定\n",
      "[264130.40861155 155093.63716252 127493.47870881 236349.8094044 ]\n",
      "正解 [208500 181500 223500 140000]\n"
     ]
    }
   ],
   "source": [
    "reg = LinearRegression().fit(X_train, y_train) # 学習\n",
    "reg_pre = reg.predict(X_test) # 推定\n",
    "print(\"推定\\n{}\".format(reg_pre[:4]))\n",
    "print(\"正解\",y_array[:4])"
   ]
  },
  {
   "cell_type": "code",
   "execution_count": 9,
   "metadata": {},
   "outputs": [
    {
     "data": {
      "text/plain": [
       "(365,)"
      ]
     },
     "execution_count": 9,
     "metadata": {},
     "output_type": "execute_result"
    }
   ],
   "source": [
    "reg_pre.shape\n"
   ]
  },
  {
   "cell_type": "code",
   "execution_count": 10,
   "metadata": {},
   "outputs": [
    {
     "name": "stdout",
     "output_type": "stream",
     "text": [
      "(1095, 2)\n"
     ]
    },
    {
     "data": {
      "text/plain": [
       "(365, 2)"
      ]
     },
     "execution_count": 10,
     "metadata": {},
     "output_type": "execute_result"
    }
   ],
   "source": [
    "print(X_train.shape)\n",
    "X_test.shape"
   ]
  },
  {
   "cell_type": "markdown",
   "metadata": {},
   "source": [
    "### ・評価"
   ]
  },
  {
   "cell_type": "code",
   "execution_count": 11,
   "metadata": {
    "ExecuteTime": {
     "end_time": "2019-07-30T23:04:57.218816Z",
     "start_time": "2019-07-30T23:04:57.213690Z"
    },
    "scrolled": true
   },
   "outputs": [
    {
     "name": "stdout",
     "output_type": "stream",
     "text": [
      "MSE:2725908099.0636377\n"
     ]
    }
   ],
   "source": [
    "# 線形回帰を平均二乗誤差（Mean Squared Error, MSE）で評価\n",
    "print(\"MSE:{}\".format(mean_squared_error(y_test, reg_pre)))"
   ]
  },
  {
   "cell_type": "markdown",
   "metadata": {},
   "source": [
    "### ・可視化"
   ]
  },
  {
   "cell_type": "code",
   "execution_count": 12,
   "metadata": {
    "ExecuteTime": {
     "end_time": "2019-07-31T03:29:42.201877Z",
     "start_time": "2019-07-31T03:29:42.015792Z"
    }
   },
   "outputs": [
    {
     "data": {
      "image/png": "[encoded data removed]",
      "text/plain": [
       "<Figure size 432x288 with 1 Axes>"
      ]
     },
     "metadata": {
      "needs_background": "light"
     },
     "output_type": "display_data"
    },
    {
     "data": {
      "image/png": "[encoded data removed]",
      "text/plain": [
       "<Figure size 432x288 with 1 Axes>"
      ]
     },
     "metadata": {
      "needs_background": "light"
     },
     "output_type": "display_data"
    }
   ],
   "source": [
    "# 散布図で可視化\n",
    "\n",
    "plt.title(\"predicted SalePrice, GrLivArea\")\n",
    "plt.xlabel(\"GrLivArea [square feet]\")\n",
    "plt.ylabel(\"SalePrice [$]\")\n",
    "plt.scatter(X_test[:, 0], reg_pre)\n",
    "plt.show()\n",
    "\n",
    "plt.title(\"predicted SalePrice, YearBuilt\")\n",
    "plt.xlabel(\"YearBuilt\")\n",
    "plt.ylabel(\"SalePrice [$]\")\n",
    "plt.scatter(X_test[:, 1], reg_pre)\n",
    "plt.show()"
   ]
  },
  {
   "cell_type": "markdown",
   "metadata": {},
   "source": [
    "### 考察：GrLivエリアが広いほど、価格も上がっている。築年数も数値が上がるほど価格が緩やかに上がり、相関が見られる。"
   ]
  },
  {
   "cell_type": "markdown",
   "metadata": {},
   "source": [
    "## 【問題3】手法の比較"
   ]
  },
  {
   "cell_type": "markdown",
   "metadata": {
    "ExecuteTime": {
     "end_time": "2019-07-30T20:51:11.899689Z",
     "start_time": "2019-07-30T20:51:11.893591Z"
    }
   },
   "source": [
    "以下の全ての手法について学習・推定・評価・可視化を行ってください。そして、指標値を１つの表にまとめてください。その表と可視化した図を利用して結果を簡単に考察してください。どの手法がどの指標値が良かったかや、どういった図になっていたかを述べてください。\n",
    "<br>\n",
    "線形回帰<br>\n",
    "SVM<br>\n",
    "決定木<br>\n",
    "ランダムフォレスト<br>\n",
    "公式ドキュメントへのリンクは以下です。本来はパラメータチューニングを行いますが、まずはデフォルトの値で実行しましょう。\n",
    "<br>sklearn.linear_model.LinearRegression — scikit-learn 0.20.2 documentation\n",
    "<br>sklearn.svm.SVR — scikit-learn 0.20.2 documentation\n",
    "<br>sklearn.tree.DecisionTreeRegressor — scikit-learn 0.20.2 documentation\n",
    "<br>sklearn.ensemble.RandomForestRegressor — scikit-learn 0.20.2 documentation\n",
    "<br>SVM、決定木、ランダムフォレストは分類問題でも使用した手法ですが、回帰問題用のライブラリはそれぞれ専用のものに分かれています。\n",
    "\n"
   ]
  },
  {
   "cell_type": "markdown",
   "metadata": {},
   "source": [
    "### 線形回帰"
   ]
  },
  {
   "cell_type": "code",
   "execution_count": 13,
   "metadata": {
    "scrolled": true
   },
   "outputs": [
    {
     "name": "stdout",
     "output_type": "stream",
     "text": [
      "推定(4サンプル）\n",
      "[264130.40861155 155093.63716252 127493.47870881 236349.8094044 ]\n",
      "正解（４サンプル）\n",
      " [208500 181500 223500 140000]\n"
     ]
    }
   ],
   "source": [
    "reg = LinearRegression().fit(X_train, y_train) # 学習\n",
    "reg_pre = reg.predict(X_test) # 推定\n",
    "print(\"推定(4サンプル）\\n{}\".format(reg_pre[:4]))\n",
    "print(\"正解（４サンプル）\\n\", y_array[:4])"
   ]
  },
  {
   "cell_type": "code",
   "execution_count": 14,
   "metadata": {},
   "outputs": [
    {
     "name": "stdout",
     "output_type": "stream",
     "text": [
      "MSE:2725908099.0636377\n"
     ]
    }
   ],
   "source": [
    "# 線形回帰を平均二乗誤差（Mean Squared Error, MSE）で評価\n",
    "reg_mse = mean_squared_error(y_test, reg_pre)\n",
    "print(\"MSE:{}\".format(reg_mse))"
   ]
  },
  {
   "cell_type": "code",
   "execution_count": 15,
   "metadata": {},
   "outputs": [
    {
     "name": "stdout",
     "output_type": "stream",
     "text": [
      "線形回帰\n"
     ]
    },
    {
     "data": {
      "image/png": "[encoded data removed]",
      "text/plain": [
       "<Figure size 432x288 with 1 Axes>"
      ]
     },
     "metadata": {
      "needs_background": "light"
     },
     "output_type": "display_data"
    },
    {
     "data": {
      "image/png": "[encoded data removed]",
      "text/plain": [
       "<Figure size 432x288 with 1 Axes>"
      ]
     },
     "metadata": {
      "needs_background": "light"
     },
     "output_type": "display_data"
    }
   ],
   "source": [
    "# 散布図で可視化\n",
    "\n",
    "print(\"線形回帰\")\n",
    "plt.title(\"predicted SalePrice, GrLivArea\")\n",
    "plt.xlabel(\"GrLivArea [square feet]\")\n",
    "plt.ylabel(\"SalePrice [$]\")\n",
    "plt.scatter(X_test[:, 0], reg_pre)\n",
    "plt.show()\n",
    "\n",
    "plt.title(\"predicted SalePrice, YearBuilt\")\n",
    "plt.xlabel(\"YearBuilt\")\n",
    "plt.ylabel(\"SalePrice [$]\")\n",
    "plt.scatter(X_test[:, 1], reg_pre)\n",
    "plt.show()\n"
   ]
  },
  {
   "cell_type": "markdown",
   "metadata": {},
   "source": [
    "### SVM"
   ]
  },
  {
   "cell_type": "code",
   "execution_count": 16,
   "metadata": {
    "ExecuteTime": {
     "end_time": "2019-07-30T22:59:46.106825Z",
     "start_time": "2019-07-30T22:59:43.082Z"
    },
    "scrolled": true
   },
   "outputs": [
    {
     "name": "stdout",
     "output_type": "stream",
     "text": [
      "推定(4サンプル）\n",
      "[162500.00000373 162499.91791873 162500.         162499.86466844]\n",
      "正解（４サンプル）\n",
      " [208500 181500 223500 140000]\n"
     ]
    },
    {
     "name": "stderr",
     "output_type": "stream",
     "text": [
      "/Users/suginokaori/.pyenv/versions/anaconda3-2019.07/lib/python3.7/site-packages/sklearn/svm/base.py:193: FutureWarning: The default value of gamma will change from 'auto' to 'scale' in version 0.22 to account better for unscaled features. Set gamma explicitly to 'auto' or 'scale' to avoid this warning.\n",
      "  \"avoid this warning.\", FutureWarning)\n"
     ]
    }
   ],
   "source": [
    "# SVM\n",
    "\n",
    "# 学習gamma='scale', C=1.0, epsilon=0.2\n",
    "SVM = SVR()\n",
    "SVM.fit(X_train, y_train) \n",
    "\n",
    "SVM_pre = SVM.predict(X_test)\n",
    "print(\"推定(4サンプル）\\n{}\".format(SVM_pre[:4]))\n",
    "print(\"正解（４サンプル）\\n\", y_array[:4])\n"
   ]
  },
  {
   "cell_type": "code",
   "execution_count": 17,
   "metadata": {},
   "outputs": [
    {
     "name": "stdout",
     "output_type": "stream",
     "text": [
      "MSE:6962337669.872041\n"
     ]
    }
   ],
   "source": [
    "# SVMの平均二乗誤差評価\n",
    "svm_mse = mean_squared_error(y_test, SVM_pre)\n",
    "print(\"MSE:{}\".format(svm_mse))"
   ]
  },
  {
   "cell_type": "code",
   "execution_count": 18,
   "metadata": {
    "scrolled": false
   },
   "outputs": [
    {
     "name": "stdout",
     "output_type": "stream",
     "text": [
      "SVM\n"
     ]
    },
    {
     "data": {
      "image/png": "[encoded data removed]",
      "text/plain": [
       "<Figure size 432x288 with 1 Axes>"
      ]
     },
     "metadata": {
      "needs_background": "light"
     },
     "output_type": "display_data"
    },
    {
     "data": {
      "image/png": "[encoded data removed]",
      "text/plain": [
       "<Figure size 432x288 with 1 Axes>"
      ]
     },
     "metadata": {
      "needs_background": "light"
     },
     "output_type": "display_data"
    }
   ],
   "source": [
    "# SVMの可視化\n",
    "\n",
    "print(\"SVM\")\n",
    "plt.title(\"predicted SalePrice, GrLivArea\")\n",
    "plt.xlabel(\"GrLivArea [square feet]\")\n",
    "plt.ylabel(\"SalePrice [$]\")\n",
    "plt.scatter(X_test[:, 0], SVM_pre)\n",
    "plt.show()\n",
    "\n",
    "plt.title(\"predicted SalePrice, YearBuilt\")\n",
    "plt.xlabel(\"YearBuilt\")\n",
    "plt.ylabel(\"SalePrice [$]\")\n",
    "plt.scatter(X_test[:, 1], SVM_pre)\n",
    "plt.show()"
   ]
  },
  {
   "cell_type": "markdown",
   "metadata": {},
   "source": [
    "### 決定木"
   ]
  },
  {
   "cell_type": "code",
   "execution_count": 19,
   "metadata": {},
   "outputs": [
    {
     "name": "stdout",
     "output_type": "stream",
     "text": [
      "推定(4サンプル）\n",
      "[191000. 174500. 125000. 144000.]\n",
      "正解（４サンプル）\n",
      " [208500 181500 223500 140000]\n"
     ]
    }
   ],
   "source": [
    "# 決定木で学習、推定\n",
    "\n",
    "DTR = DecisionTreeRegressor()\n",
    "DTR.fit(X_train, y_train) \n",
    "DTR_pre = DTR.predict(X_test)\n",
    "print(\"推定(4サンプル）\\n{}\".format(DTR_pre[:4]))\n",
    "print(\"正解（４サンプル）\\n\", y_array[:4])\n"
   ]
  },
  {
   "cell_type": "code",
   "execution_count": 20,
   "metadata": {},
   "outputs": [
    {
     "name": "stdout",
     "output_type": "stream",
     "text": [
      "MSE:3223085886.2377477\n"
     ]
    }
   ],
   "source": [
    "# 決定木の平均二乗誤差評価\n",
    "dtr_mse = mean_squared_error(y_test, DTR_pre)\n",
    "print(\"MSE:{}\".format(dtr_mse))"
   ]
  },
  {
   "cell_type": "code",
   "execution_count": 21,
   "metadata": {
    "scrolled": false
   },
   "outputs": [
    {
     "name": "stdout",
     "output_type": "stream",
     "text": [
      "決定木\n"
     ]
    },
    {
     "data": {
      "image/png": "[encoded data removed]",
      "text/plain": [
       "<Figure size 432x288 with 1 Axes>"
      ]
     },
     "metadata": {
      "needs_background": "light"
     },
     "output_type": "display_data"
    },
    {
     "data": {
      "image/png": "[encoded data removed]",
      "text/plain": [
       "<Figure size 432x288 with 1 Axes>"
      ]
     },
     "metadata": {
      "needs_background": "light"
     },
     "output_type": "display_data"
    }
   ],
   "source": [
    "# 決定木を散布図で可視化\n",
    "\n",
    "print(\"決定木\")\n",
    "plt.title(\"predicted SalePrice, GrLivArea\")\n",
    "plt.xlabel(\"GrLivArea [square feet]\")\n",
    "plt.ylabel(\"SalePrice [$]\")\n",
    "plt.scatter(X_test[:, 0], DTR_pre)\n",
    "plt.show()\n",
    "\n",
    "plt.title(\"predicted SalePrice, YearBuilt\")\n",
    "plt.xlabel(\"YearBuilt\")\n",
    "plt.ylabel(\"SalePrice [$]\")\n",
    "plt.scatter(X_test[:, 1], DTR_pre)\n",
    "plt.show()"
   ]
  },
  {
   "cell_type": "markdown",
   "metadata": {},
   "source": [
    "### ランダムフォレスト"
   ]
  },
  {
   "cell_type": "code",
   "execution_count": 22,
   "metadata": {},
   "outputs": [
    {
     "name": "stdout",
     "output_type": "stream",
     "text": [
      "推定(4サンプル）\n",
      "[206060.  147270.  129792.5 182400. ]\n",
      "正解（４サンプル）\n",
      " [208500 181500 223500 140000]\n"
     ]
    },
    {
     "name": "stderr",
     "output_type": "stream",
     "text": [
      "/Users/suginokaori/.pyenv/versions/anaconda3-2019.07/lib/python3.7/site-packages/sklearn/ensemble/forest.py:245: FutureWarning: The default value of n_estimators will change from 10 in version 0.20 to 100 in 0.22.\n",
      "  \"10 in version 0.20 to 100 in 0.22.\", FutureWarning)\n"
     ]
    }
   ],
   "source": [
    "# ランダムフォレストで学習、推定\n",
    "\n",
    "RFR = RandomForestRegressor()\n",
    "RFR.fit(X_train, y_train)\n",
    "RFR_pre = RFR.predict(X_test)\n",
    "print(\"推定(4サンプル）\\n{}\".format(RFR_pre[:4]))\n",
    "print(\"正解（４サンプル）\\n\", y_array[:4])"
   ]
  },
  {
   "cell_type": "code",
   "execution_count": 23,
   "metadata": {},
   "outputs": [
    {
     "name": "stdout",
     "output_type": "stream",
     "text": [
      "MSE:1907680301.1292553\n"
     ]
    }
   ],
   "source": [
    "# ランダムフォレストの平均二乗誤差評価\n",
    "RFR_mse = mean_squared_error(y_test, RFR_pre)\n",
    "print(\"MSE:{}\".format(RFR_mse))"
   ]
  },
  {
   "cell_type": "code",
   "execution_count": 24,
   "metadata": {},
   "outputs": [
    {
     "name": "stdout",
     "output_type": "stream",
     "text": [
      "ランダムフォレスト\n"
     ]
    },
    {
     "data": {
      "image/png": "[encoded data removed]",
      "text/plain": [
       "<Figure size 432x288 with 1 Axes>"
      ]
     },
     "metadata": {
      "needs_background": "light"
     },
     "output_type": "display_data"
    },
    {
     "data": {
      "image/png": "[encoded data removed]",
      "text/plain": [
       "<Figure size 432x288 with 1 Axes>"
      ]
     },
     "metadata": {
      "needs_background": "light"
     },
     "output_type": "display_data"
    }
   ],
   "source": [
    "# ランダムフォレストを散布図で可視化\n",
    "\n",
    "print(\"ランダムフォレスト\")\n",
    "plt.title(\"predicted SalePrice, GrLivArea\")\n",
    "plt.xlabel(\"GrLivArea [square feet]\")\n",
    "plt.ylabel(\"SalePrice [$]\")\n",
    "plt.scatter(X_test[:, 0], RFR_pre)\n",
    "plt.show()\n",
    "\n",
    "plt.title(\"predicted SalePrice, YearBuilt\")\n",
    "plt.xlabel(\"YearBuilt\")\n",
    "plt.ylabel(\"SalePrice [$]\")\n",
    "plt.scatter(X_test[:, 1], RFR_pre)\n",
    "plt.show()"
   ]
  },
  {
   "cell_type": "code",
   "execution_count": 25,
   "metadata": {},
   "outputs": [
    {
     "data": {
      "text/html": [
       "<div>\n",
       "<style scoped>\n",
       "    .dataframe tbody tr th:only-of-type {\n",
       "        vertical-align: middle;\n",
       "    }\n",
       "\n",
       "    .dataframe tbody tr th {\n",
       "        vertical-align: top;\n",
       "    }\n",
       "\n",
       "    .dataframe thead th {\n",
       "        text-align: right;\n",
       "    }\n",
       "</style>\n",
       "<table border=\"1\" class=\"dataframe\">\n",
       "  <thead>\n",
       "    <tr style=\"text-align: right;\">\n",
       "      <th></th>\n",
       "      <th>線形回帰</th>\n",
       "      <th>SVM</th>\n",
       "      <th>決定木</th>\n",
       "      <th>ランダムフォレスト</th>\n",
       "    </tr>\n",
       "  </thead>\n",
       "  <tbody>\n",
       "    <tr>\n",
       "      <th>mse</th>\n",
       "      <td>2.725908e+09</td>\n",
       "      <td>6.962338e+09</td>\n",
       "      <td>3.223086e+09</td>\n",
       "      <td>1.907680e+09</td>\n",
       "    </tr>\n",
       "  </tbody>\n",
       "</table>\n",
       "</div>"
      ],
      "text/plain": [
       "             線形回帰           SVM           決定木     ランダムフォレスト\n",
       "mse  2.725908e+09  6.962338e+09  3.223086e+09  1.907680e+09"
      ]
     },
     "metadata": {},
     "output_type": "display_data"
    }
   ],
   "source": [
    "#指標値をまとめる\n",
    "\n",
    "mse= [reg_mse, svm_mse, dtr_mse, RFR_mse]\n",
    "model_names = [\"線形回帰\", \"SVM\", \"決定木\", \"ランダムフォレスト\"]\n",
    "mse_metrics = pd.DataFrame([mse], columns=model_names, index = [\"mse\"])\n",
    "display(mse_metrics)"
   ]
  },
  {
   "cell_type": "markdown",
   "metadata": {},
   "source": [
    "### 考察"
   ]
  },
  {
   "cell_type": "markdown",
   "metadata": {},
   "source": [
    "MSE指標によれば、ランダムフォレストが最も精度が高く、SVMが最も低い結果となった。"
   ]
  },
  {
   "cell_type": "markdown",
   "metadata": {},
   "source": [
    "## 【問題4】（アドバンス課題）他の特徴量も使用しての学習"
   ]
  },
  {
   "cell_type": "markdown",
   "metadata": {
    "ExecuteTime": {
     "end_time": "2019-07-30T20:51:58.164259Z",
     "start_time": "2019-07-30T20:51:58.159708Z"
    }
   },
   "source": [
    "ここまでは練習のために2つの特徴量だけを使いましたが、他の特徴量を加えるとどのようになるか検証してください。どう選択・加工するかにはデータ分析が重要になってきます。\n",
    "<br>\n",
    "Kaggleのカーネルも参考にできます。\n",
    "<br>\n",
    "House Prices: Advanced Regression Techniques | Kaggle"
   ]
  },
  {
   "cell_type": "code",
   "execution_count": null,
   "metadata": {},
   "outputs": [],
   "source": []
  },
  {
   "cell_type": "code",
   "execution_count": null,
   "metadata": {},
   "outputs": [],
   "source": []
  },
  {
   "cell_type": "code",
   "execution_count": null,
   "metadata": {},
   "outputs": [],
   "source": []
  }
 ],
 "metadata": {
  "celltoolbar": "Initialization Cell",
  "kernelspec": {
   "display_name": "Python 3",
   "language": "python",
   "name": "python3"
  },
  "language_info": {
   "codemirror_mode": {
    "name": "ipython",
    "version": 3
   },
   "file_extension": ".py",
   "mimetype": "text/x-python",
   "name": "python",
   "nbconvert_exporter": "python",
   "pygments_lexer": "ipython3",
   "version": "3.7.3"
  },
  "nbTranslate": {
   "displayLangs": [
    "*"
   ],
   "hotkey": "alt-t",
   "langInMainMenu": true,
   "sourceLang": "en",
   "targetLang": "fr",
   "useGoogleTranslate": true
  },
  "toc": {
   "base_numbering": 1,
   "nav_menu": {},
   "number_sections": true,
   "sideBar": true,
   "skip_h1_title": false,
   "title_cell": "Table of Contents",
   "title_sidebar": "Contents",
   "toc_cell": false,
   "toc_position": {},
   "toc_section_display": true,
   "toc_window_display": false
  }
 },
 "nbformat": 4,
 "nbformat_minor": 2
}
